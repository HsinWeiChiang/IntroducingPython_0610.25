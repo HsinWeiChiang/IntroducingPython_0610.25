{
 "cells": [
  {
   "cell_type": "code",
   "execution_count": 1,
   "id": "499fe2fa",
   "metadata": {},
   "outputs": [
    {
     "data": {
      "text/plain": [
       "{'first': 'Wile', 'middle': 'E', 'last': 'Coyote'}"
      ]
     },
     "execution_count": 1,
     "metadata": {},
     "output_type": "execute_result"
    }
   ],
   "source": [
    "#用dict()來建立\n",
    "#傳統作法-\n",
    "acme_custimer = {'first': 'Wile', 'middle': 'E', 'last': 'Coyote'}\n",
    "acme_custimer"
   ]
  },
  {
   "cell_type": "code",
   "execution_count": 2,
   "id": "28029da9",
   "metadata": {},
   "outputs": [
    {
     "data": {
      "text/plain": [
       "{'first': 'Wile', 'middle': 'E', 'last': 'Coyote'}"
      ]
     },
     "execution_count": 2,
     "metadata": {},
     "output_type": "execute_result"
    }
   ],
   "source": [
    "#使用dict()做法是:\n",
    "acme_custimer = dict(first='Wile', middle ='E', last='Coyote')\n",
    "acme_custimer"
   ]
  },
  {
   "cell_type": "code",
   "execution_count": 6,
   "id": "68bb99b3",
   "metadata": {},
   "outputs": [
    {
     "ename": "SyntaxError",
     "evalue": "invalid syntax (1247167649.py, line 2)",
     "output_type": "error",
     "traceback": [
      "\u001b[1;36m  Cell \u001b[1;32mIn[6], line 2\u001b[1;36m\u001b[0m\n\u001b[1;33m    x = dict(name = 'Elmer', def = 'hunter')\u001b[0m\n\u001b[1;37m                             ^\u001b[0m\n\u001b[1;31mSyntaxError\u001b[0m\u001b[1;31m:\u001b[0m invalid syntax\n"
     ]
    }
   ],
   "source": [
    "#=使用dict()做法有一限制為 引數名稱必須是有效的名稱(沒有空格, 沒有保留字)\n",
    "x = dict(name = 'Elmer', def = 'hunter')\n",
    "x"
   ]
  },
  {
   "cell_type": "code",
   "execution_count": null,
   "id": "65d86721",
   "metadata": {},
   "outputs": [
    {
     "data": {
      "text/plain": [
       "{'a': 'b', 'c': 'd', 'e': 'f'}"
      ]
     },
     "execution_count": 10,
     "metadata": {},
     "output_type": "execute_result"
    }
   ],
   "source": [
    "#用dic()來轉換\n",
    "lol = [['a','b'],['c','d'],['e','f']]\n",
    "type(lol)\n"
   ]
  },
  {
   "cell_type": "code",
   "execution_count": 13,
   "id": "c6471c70",
   "metadata": {},
   "outputs": [
    {
     "data": {
      "text/plain": [
       "{'a': 'b', 'c': 'd', 'e': 'f'}"
      ]
     },
     "execution_count": 13,
     "metadata": {},
     "output_type": "execute_result"
    }
   ],
   "source": [
    "#包含雙項目tuple的串列\n",
    "lot =  [('a','b'),('c','d'),('e','f')]\n",
    "dict(lot)"
   ]
  },
  {
   "cell_type": "code",
   "execution_count": 4,
   "id": "8479366c",
   "metadata": {},
   "outputs": [
    {
     "data": {
      "text/plain": [
       "{'a': 'b', 'c': 'd', 'e': 'f'}"
      ]
     },
     "execution_count": 4,
     "metadata": {},
     "output_type": "execute_result"
    }
   ],
   "source": [
    "#包含雙項目的串列的Tuple:\n",
    "lol = (['a','b'],['c','d'],['e','f'])\n",
    "y= dict(lol)\n",
    "y"
   ]
  },
  {
   "cell_type": "code",
   "execution_count": 5,
   "id": "dbdcbf75",
   "metadata": {},
   "outputs": [
    {
     "data": {
      "text/plain": [
       "{'a': 'b', 'c': 'd', 'e': 'f'}"
      ]
     },
     "execution_count": 5,
     "metadata": {},
     "output_type": "execute_result"
    }
   ],
   "source": [
    "#包含雙字元字串的串列:\n",
    "los = ['ab','cd','ef']\n",
    "dict(los)\n"
   ]
  },
  {
   "cell_type": "code",
   "execution_count": 6,
   "id": "6ea1faac",
   "metadata": {},
   "outputs": [
    {
     "data": {
      "text/plain": [
       "{'a': 'b', 'c': 'd', 'e': 'f'}"
      ]
     },
     "execution_count": 6,
     "metadata": {},
     "output_type": "execute_result"
    }
   ],
   "source": [
    "#包含雙字元字串的Tuple:\n",
    "los = ('ab','cd','ef')\n",
    "dict(los)"
   ]
  },
  {
   "cell_type": "code",
   "execution_count": 4,
   "id": "c60c0ff3",
   "metadata": {},
   "outputs": [
    {
     "data": {
      "text/plain": [
       "{'Chapman': 'Graham',\n",
       " 'Cleese': 'John',\n",
       " 'Idle': 'Eric',\n",
       " 'Jones': 'Terry',\n",
       " 'Palin': 'Michael'}"
      ]
     },
     "execution_count": 4,
     "metadata": {},
     "output_type": "execute_result"
    }
   ],
   "source": [
    "#用[鍵(key)] 來加入或改變一個項目\n",
    "#做一個Monty Python的多數成員字典\n",
    "\n",
    "pythons = {\n",
    "    'Chapman': 'Graham',\n",
    "    'Cleese': 'John',\n",
    "    'Idle': 'Eric',\n",
    "    'Jones': 'Terry',\n",
    "    'Palin': 'Michael',\n",
    "}\n",
    "\n",
    "pythons\n",
    "\n"
   ]
  },
  {
   "cell_type": "code",
   "execution_count": 5,
   "id": "7acefcfc",
   "metadata": {},
   "outputs": [
    {
     "data": {
      "text/plain": [
       "{'Chapman': 'Graham',\n",
       " 'Cleese': 'John',\n",
       " 'Idle': 'Eric',\n",
       " 'Jones': 'Terry',\n",
       " 'Palin': 'Michael',\n",
       " 'Gilliam': 'Gerry'}"
      ]
     },
     "execution_count": 5,
     "metadata": {},
     "output_type": "execute_result"
    }
   ],
   "source": [
    "pythons['Gilliam'] = 'Gerry'\n",
    "pythons"
   ]
  },
  {
   "cell_type": "code",
   "execution_count": 6,
   "id": "349c3125",
   "metadata": {},
   "outputs": [
    {
     "data": {
      "text/plain": [
       "{'Chapman': 'Graham',\n",
       " 'Cleese': 'John',\n",
       " 'Idle': 'Eric',\n",
       " 'Jones': 'Terry',\n",
       " 'Palin': 'Michael',\n",
       " 'Gilliam': 'Terry'}"
      ]
     },
     "execution_count": 6,
     "metadata": {},
     "output_type": "execute_result"
    }
   ],
   "source": [
    "pythons['Gilliam'] = 'Terry'\n",
    "pythons"
   ]
  },
  {
   "cell_type": "code",
   "execution_count": 2,
   "id": "e47cf579",
   "metadata": {},
   "outputs": [
    {
     "data": {
      "text/plain": [
       "{'Graham': 'Chapman',\n",
       " 'John': 'Cleese',\n",
       " 'Eric': 'Idle',\n",
       " 'Terry': 'Jones',\n",
       " 'Michael': 'Palin'}"
      ]
     },
     "execution_count": 2,
     "metadata": {},
     "output_type": "execute_result"
    }
   ],
   "source": [
    "#Dict()的鍵(key)必須是唯一, 假設有兩個相同名稱的key, 如下-\n",
    "\n",
    "some_pythons = {\n",
    "    'Graham': 'Chapman',\n",
    "    'John': 'Cleese' ,\n",
    "    'Eric': 'Idle' ,\n",
    "    'Terry': 'Gilliam',\n",
    "    'Michael': 'Palin' ,\n",
    "    'Terry': 'Jones'\n",
    "}\n",
    "some_pythons\n",
    "\n"
   ]
  },
  {
   "cell_type": "code",
   "execution_count": 13,
   "id": "a9da667d",
   "metadata": {},
   "outputs": [],
   "source": [
    "#以上, 會先將 'Gilliam' 指派給鍵 'Terry', 再將它換成值'Jones'"
   ]
  },
  {
   "cell_type": "code",
   "execution_count": 18,
   "id": "59950dc4",
   "metadata": {},
   "outputs": [
    {
     "data": {
      "text/plain": [
       "'Cleese'"
      ]
     },
     "execution_count": 18,
     "metadata": {},
     "output_type": "execute_result"
    }
   ],
   "source": [
    "#用 [key] 或 get() 取得一個項目\n",
    "some_pythons['John']\n"
   ]
  },
  {
   "cell_type": "code",
   "execution_count": 23,
   "id": "9e13c130",
   "metadata": {},
   "outputs": [
    {
     "data": {
      "text/plain": [
       "False"
      ]
     },
     "execution_count": 23,
     "metadata": {},
     "output_type": "execute_result"
    }
   ],
   "source": [
    "#如果字典沒有 指定的那一個鍵, 會看到例外, 為了避免這件事的方法有兩種-\n",
    "#1. 使用 in 來檢測鍵(key)\n",
    "'Groucho' in some_pythons"
   ]
  },
  {
   "cell_type": "code",
   "execution_count": null,
   "id": "c623615a",
   "metadata": {},
   "outputs": [
    {
     "data": {
      "text/plain": [
       "'Cleese'"
      ]
     },
     "execution_count": 25,
     "metadata": {},
     "output_type": "execute_result"
    }
   ],
   "source": [
    "#2 使用特殊的字典的函式 get(), 要提供字典, 鍵, 以及一個選用的值-\n",
    "some_pythons.get('John')\n",
    "\n"
   ]
  },
  {
   "cell_type": "code",
   "execution_count": 26,
   "id": "7fb45eb5",
   "metadata": {},
   "outputs": [
    {
     "data": {
      "text/plain": [
       "'Not a Python'"
      ]
     },
     "execution_count": 26,
     "metadata": {},
     "output_type": "execute_result"
    }
   ],
   "source": [
    "#如果不存在, 會得到選用的值 (如果有指定的話)-\n",
    "some_pythons.get('Groucho','Not a Python')"
   ]
  },
  {
   "cell_type": "code",
   "execution_count": null,
   "id": "fe12bc92",
   "metadata": {},
   "outputs": [],
   "source": [
    "#Otherwise- 不會顯示任何訊息\n",
    "some_pythons.get('Groucho')"
   ]
  },
  {
   "cell_type": "code",
   "execution_count": 37,
   "id": "e47ca413",
   "metadata": {},
   "outputs": [
    {
     "data": {
      "text/plain": [
       "dict_keys(['green', 'yellow', 'red'])"
      ]
     },
     "execution_count": 37,
     "metadata": {},
     "output_type": "execute_result"
    }
   ],
   "source": [
    "#用鍵(key)來取得所有鍵-\n",
    "signals = {'green': 'go', 'yellow': 'go faster', 'red': 'smile for the camera'}\n",
    "signals.keys()"
   ]
  },
  {
   "cell_type": "code",
   "execution_count": 38,
   "id": "5748e74a",
   "metadata": {},
   "outputs": [
    {
     "data": {
      "text/plain": [
       "dict_values(['go', 'go faster', 'smile for the camera'])"
      ]
     },
     "execution_count": 38,
     "metadata": {},
     "output_type": "execute_result"
    }
   ],
   "source": [
    "#values()取的所有值\n",
    "signals.values()"
   ]
  },
  {
   "cell_type": "code",
   "execution_count": null,
   "id": "0b6d014a",
   "metadata": {},
   "outputs": [
    {
     "data": {
      "text/plain": [
       "[('green', 'go'), ('yellow', 'go faster'), ('red', 'smile for the camera')]"
      ]
     },
     "execution_count": 48,
     "metadata": {},
     "output_type": "execute_result"
    }
   ],
   "source": [
    "#用items()取得每一對鍵/值\n",
    "list(signals.items())\n",
    "#他會用tuple 來回傳各種key與value, ex: ('green', 'go')\n"
   ]
  },
  {
   "cell_type": "code",
   "execution_count": 49,
   "id": "7f921e21",
   "metadata": {},
   "outputs": [
    {
     "data": {
      "text/plain": [
       "3"
      ]
     },
     "execution_count": 49,
     "metadata": {},
     "output_type": "execute_result"
    }
   ],
   "source": [
    "#用len()取得長度-\n",
    "len(signals)"
   ]
  },
  {
   "cell_type": "code",
   "execution_count": 50,
   "id": "8673f24e",
   "metadata": {},
   "outputs": [
    {
     "data": {
      "text/plain": [
       "{'a': 'agony', 'b': 'bagels', 'c': 'candy'}"
      ]
     },
     "execution_count": 50,
     "metadata": {},
     "output_type": "execute_result"
    }
   ],
   "source": [
    "#用{**a, **b} 來結合字典\n",
    "first = {'a': 'agony', 'b': 'bliss'}\n",
    "second = {'b': 'bagels', 'c': 'candy'}\n",
    "{**first, **second}\n"
   ]
  },
  {
   "cell_type": "code",
   "execution_count": 51,
   "id": "28e0796d",
   "metadata": {},
   "outputs": [
    {
     "data": {
      "text/plain": [
       "{'a': 'agony', 'b': 'bagels', 'c': 'candy', 'd': 'donuts'}"
      ]
     },
     "execution_count": 51,
     "metadata": {},
     "output_type": "execute_result"
    }
   ],
   "source": [
    "#傳入兩個以上的版本-\n",
    "third = {'d': 'donuts'}\n",
    "{**first, **second, **third}"
   ]
  },
  {
   "cell_type": "code",
   "execution_count": null,
   "id": "bb1656b6",
   "metadata": {},
   "outputs": [],
   "source": [
    "#用updated()結合字典- \n",
    "pythons = {\n",
    "    'Chapman': 'Graham',\n",
    "    'Cleese': 'John',\n",
    "    'Idle': 'Eric',\n",
    "    'Jones': 'Terry',\n",
    "    'Palin': 'Michael',\n",
    "}\n",
    "\n",
    "others = {'Marx': 'Groucho', 'Howard': 'Woe'}\n",
    "pythons.update(others)\n",
    "pythons"
   ]
  },
  {
   "cell_type": "code",
   "execution_count": null,
   "id": "1604a4d4",
   "metadata": {},
   "outputs": [
    {
     "data": {
      "text/plain": [
       "{'a': 1, 'b': 'platypus'}"
      ]
     },
     "execution_count": 55,
     "metadata": {},
     "output_type": "execute_result"
    }
   ],
   "source": [
    "#當第二個字典有鍵與將要合併的字典的鍵一樣時-\n",
    "\n",
    "first = {'a':1, 'b':2}\n",
    "second = {'b': 'platypus'}\n",
    "first.update(second)\n",
    "first"
   ]
  },
  {
   "cell_type": "code",
   "execution_count": 21,
   "id": "a57df732",
   "metadata": {},
   "outputs": [
    {
     "data": {
      "text/plain": [
       "{'Chapman': 'Graham',\n",
       " 'Cleese': 'John',\n",
       " 'Gilliam': 'Terry',\n",
       " 'Idle': 'Eric',\n",
       " 'Jones': 'Terry',\n",
       " 'Palin': 'Michael',\n",
       " 'Howard': 'Woe'}"
      ]
     },
     "execution_count": 21,
     "metadata": {},
     "output_type": "execute_result"
    }
   ],
   "source": [
    "pythons = {\n",
    "    'Chapman': 'Graham',\n",
    "    'Cleese': 'John',\n",
    "    'Gilliam':'Terry',\n",
    "    'Idle': 'Eric',\n",
    "    'Jones': 'Terry',\n",
    "    'Palin': 'Michael',\n",
    "}\n",
    "\n",
    "others = {'Marx': 'Groucho', 'Howard': 'Woe'}\n",
    "pythons.update(others)\n",
    "\n",
    "#用del和鍵(key) 來刪除項目\n",
    "del pythons['Marx']\n",
    "pythons\n"
   ]
  },
  {
   "cell_type": "markdown",
   "id": "746c634a",
   "metadata": {},
   "source": []
  },
  {
   "cell_type": "code",
   "execution_count": 22,
   "id": "01f0e23a",
   "metadata": {},
   "outputs": [
    {
     "data": {
      "text/plain": [
       "{'Chapman': 'Graham',\n",
       " 'Cleese': 'John',\n",
       " 'Gilliam': 'Terry',\n",
       " 'Idle': 'Eric',\n",
       " 'Jones': 'Terry',\n",
       " 'Palin': 'Michael'}"
      ]
     },
     "execution_count": 22,
     "metadata": {},
     "output_type": "execute_result"
    }
   ],
   "source": [
    "del pythons['Howard']\n",
    "pythons"
   ]
  },
  {
   "cell_type": "code",
   "execution_count": 23,
   "id": "e03447b8",
   "metadata": {},
   "outputs": [
    {
     "data": {
      "text/plain": [
       "6"
      ]
     },
     "execution_count": 23,
     "metadata": {},
     "output_type": "execute_result"
    }
   ],
   "source": [
    "#用pop()和鍵(key)取得項目並刪除它\n",
    "len(pythons)"
   ]
  },
  {
   "cell_type": "code",
   "execution_count": 24,
   "id": "21ec3d81",
   "metadata": {},
   "outputs": [
    {
     "data": {
      "text/plain": [
       "'Michael'"
      ]
     },
     "execution_count": 24,
     "metadata": {},
     "output_type": "execute_result"
    }
   ],
   "source": [
    "pythons.pop('Palin')"
   ]
  },
  {
   "cell_type": "code",
   "execution_count": 26,
   "id": "8a1cb319",
   "metadata": {},
   "outputs": [
    {
     "data": {
      "text/plain": [
       "5"
      ]
     },
     "execution_count": 26,
     "metadata": {},
     "output_type": "execute_result"
    }
   ],
   "source": [
    "len(pythons)"
   ]
  },
  {
   "cell_type": "code",
   "execution_count": null,
   "id": "20ee4962",
   "metadata": {},
   "outputs": [
    {
     "ename": "KeyError",
     "evalue": "'First'",
     "output_type": "error",
     "traceback": [
      "\u001b[1;31m---------------------------------------------------------------------------\u001b[0m",
      "\u001b[1;31mKeyError\u001b[0m                                  Traceback (most recent call last)",
      "Cell \u001b[1;32mIn[30], line 2\u001b[0m\n\u001b[0;32m      1\u001b[0m \u001b[38;5;66;03m#若將 第二個預設引數傳給pop(), 例外就不會出現,而字典不會改變\u001b[39;00m\n\u001b[1;32m----> 2\u001b[0m \u001b[43mpythons\u001b[49m\u001b[38;5;241;43m.\u001b[39;49m\u001b[43mpop\u001b[49m\u001b[43m(\u001b[49m\u001b[38;5;124;43m'\u001b[39;49m\u001b[38;5;124;43mFirst\u001b[39;49m\u001b[38;5;124;43m'\u001b[39;49m\u001b[43m)\u001b[49m\n",
      "\u001b[1;31mKeyError\u001b[0m: 'First'"
     ]
    }
   ],
   "source": [
    "#若將 第二個預設引數傳給pop(), 例外就不會出現,而字典不會改變\n",
    "pythons.pop('First','Hugo')"
   ]
  },
  {
   "cell_type": "code",
   "execution_count": 29,
   "id": "850bd7d4",
   "metadata": {},
   "outputs": [
    {
     "data": {
      "text/plain": [
       "5"
      ]
     },
     "execution_count": 29,
     "metadata": {},
     "output_type": "execute_result"
    }
   ],
   "source": [
    "len(pythons)"
   ]
  },
  {
   "cell_type": "code",
   "execution_count": 31,
   "id": "9c1a9475",
   "metadata": {},
   "outputs": [
    {
     "data": {
      "text/plain": [
       "{'Chapman': 'Graham',\n",
       " 'Cleese': 'John',\n",
       " 'Gilliam': 'Terry',\n",
       " 'Idle': 'Eric',\n",
       " 'Jones': 'Terry'}"
      ]
     },
     "execution_count": 31,
     "metadata": {},
     "output_type": "execute_result"
    }
   ],
   "source": [
    "pythons"
   ]
  },
  {
   "cell_type": "code",
   "execution_count": 33,
   "id": "dd8ed5aa",
   "metadata": {},
   "outputs": [
    {
     "data": {
      "text/plain": [
       "{}"
      ]
     },
     "execution_count": 33,
     "metadata": {},
     "output_type": "execute_result"
    }
   ],
   "source": [
    "#用clear()刪除所有項目\n",
    "pythons.clear()\n",
    "pythons"
   ]
  },
  {
   "cell_type": "code",
   "execution_count": 35,
   "id": "cdf38a6a",
   "metadata": {},
   "outputs": [
    {
     "data": {
      "text/plain": [
       "True"
      ]
     },
     "execution_count": 35,
     "metadata": {},
     "output_type": "execute_result"
    }
   ],
   "source": [
    "#用in 來檢測鍵\n",
    "pythons = {\n",
    "    'Chapman': 'Graham',\n",
    "    'Cleese': 'John',\n",
    "    'Gilliam':'Terry',\n",
    "    'Idle': 'Eric',\n",
    "    'Jones': 'Terry',\n",
    "    'Palin': 'Michael',\n",
    "}\n",
    "\n",
    "'Chapman' in pythons"
   ]
  },
  {
   "cell_type": "code",
   "execution_count": 36,
   "id": "d1c2653e",
   "metadata": {},
   "outputs": [
    {
     "data": {
      "text/plain": [
       "True"
      ]
     },
     "execution_count": 36,
     "metadata": {},
     "output_type": "execute_result"
    }
   ],
   "source": [
    "'Palin' in pythons"
   ]
  },
  {
   "cell_type": "code",
   "execution_count": 38,
   "id": "89aae650",
   "metadata": {},
   "outputs": [
    {
     "data": {
      "text/plain": [
       "False"
      ]
     },
     "execution_count": 38,
     "metadata": {},
     "output_type": "execute_result"
    }
   ],
   "source": [
    "'Wally' in pythons"
   ]
  },
  {
   "cell_type": "code",
   "execution_count": 39,
   "id": "8dee2a36",
   "metadata": {},
   "outputs": [
    {
     "data": {
      "text/plain": [
       "{'green': 'go',\n",
       " 'yellow': 'go faster',\n",
       " 'red': 'smile for the camera',\n",
       " 'blue': 'confuse everyone'}"
      ]
     },
     "execution_count": 39,
     "metadata": {},
     "output_type": "execute_result"
    }
   ],
   "source": [
    "#用 = 來賦值, 跟串列一樣, 當你改變字典時, 改變的地方會反應在所有參考它的名稱上\n",
    "signals = {'green':'go',\n",
    "           'yellow': 'go faster',\n",
    "           'red': 'smile for the camera'}\n",
    "save_signals = signals\n",
    "signals['blue'] = 'confuse everyone'\n",
    "save_signals"
   ]
  },
  {
   "cell_type": "code",
   "execution_count": 41,
   "id": "06072400",
   "metadata": {},
   "outputs": [
    {
     "data": {
      "text/plain": [
       "{'green': 'go',\n",
       " 'yellow': 'go faster',\n",
       " 'red': 'smile for the camera',\n",
       " 'blue': 'confuse everyone'}"
      ]
     },
     "execution_count": 41,
     "metadata": {},
     "output_type": "execute_result"
    }
   ],
   "source": [
    "signals"
   ]
  },
  {
   "cell_type": "code",
   "execution_count": 42,
   "id": "a66371dc",
   "metadata": {},
   "outputs": [
    {
     "data": {
      "text/plain": [
       "{'green': 'go',\n",
       " 'yellow': 'go faster',\n",
       " 'red': 'smile for the camera',\n",
       " 'blue': 'confuse everyone'}"
      ]
     },
     "execution_count": 42,
     "metadata": {},
     "output_type": "execute_result"
    }
   ],
   "source": [
    "#用copy()來複製- 如果要將一個字典的鍵與值 確實地複製到另外一個字典來避免這種情形, 你要使用copy():\n",
    "signals = {'green':'go',\n",
    "           'yellow': 'go faster',\n",
    "           'red': 'smile for the camera'}\n",
    "\n",
    "original_signals = signals.copy()\n",
    "signals['blue'] = 'confuse everyone'\n",
    "signals\n",
    "\n"
   ]
  },
  {
   "cell_type": "code",
   "execution_count": 43,
   "id": "ebeb780c",
   "metadata": {},
   "outputs": [
    {
     "data": {
      "text/plain": [
       "{'green': 'go', 'yellow': 'go faster', 'red': 'smile for the camera'}"
      ]
     },
     "execution_count": 43,
     "metadata": {},
     "output_type": "execute_result"
    }
   ],
   "source": [
    "original_signals"
   ]
  },
  {
   "cell_type": "code",
   "execution_count": 44,
   "id": "cc4703c9",
   "metadata": {},
   "outputs": [
    {
     "data": {
      "text/plain": [
       "{'green': 'go', 'yellow': 'go faster', 'red': ['stop', 'smile']}"
      ]
     },
     "execution_count": 44,
     "metadata": {},
     "output_type": "execute_result"
    }
   ],
   "source": [
    "#這是淺複製- 可以在字典值 不可變時使用. 如果他們不是不可變, 就要用deepcopy()\n",
    "#假設上一個例子中的red值 是串列而不是字串\n",
    "\n",
    "signals = {'green':'go',\n",
    "           'yellow': 'go faster',\n",
    "           'red': ['stop', 'smile']}\n",
    "signals_copy =signals.copy()\n",
    "signals\n"
   ]
  },
  {
   "cell_type": "code",
   "execution_count": 45,
   "id": "c65bbd3e",
   "metadata": {},
   "outputs": [
    {
     "data": {
      "text/plain": [
       "{'green': 'go', 'yellow': 'go faster', 'red': ['stop', 'smile']}"
      ]
     },
     "execution_count": 45,
     "metadata": {},
     "output_type": "execute_result"
    }
   ],
   "source": [
    "signals_copy"
   ]
  },
  {
   "cell_type": "code",
   "execution_count": 46,
   "id": "e97aa72c",
   "metadata": {},
   "outputs": [
    {
     "data": {
      "text/plain": [
       "{'green': 'go', 'yellow': 'go faster', 'red': ['stop', 'sweat']}"
      ]
     },
     "execution_count": 46,
     "metadata": {},
     "output_type": "execute_result"
    }
   ],
   "source": [
    "#改變red串列裡面的一個值\n",
    "signals['red'][1] = 'sweat'\n",
    "signals"
   ]
  },
  {
   "cell_type": "code",
   "execution_count": 47,
   "id": "1c089e42",
   "metadata": {},
   "outputs": [
    {
     "data": {
      "text/plain": [
       "{'green': 'go', 'yellow': 'go faster', 'red': ['stop', 'sweat']}"
      ]
     },
     "execution_count": 47,
     "metadata": {},
     "output_type": "execute_result"
    }
   ],
   "source": [
    "signals_copy"
   ]
  },
  {
   "cell_type": "code",
   "execution_count": 49,
   "id": "7a6e9103",
   "metadata": {},
   "outputs": [
    {
     "data": {
      "text/plain": [
       "{'green': 'go', 'yellow': 'go faster', 'red': ['stop', 'smile']}"
      ]
     },
     "execution_count": 49,
     "metadata": {},
     "output_type": "execute_result"
    }
   ],
   "source": [
    "#看到常見 \"任何一個名稱都可以改變\" 行為. copy()方法會按原樣複製值, 也是就是signal_copy 也會得到signals的'red' 同一個串列值\n",
    "#解決方法是 deepcopy()\n",
    "\n",
    "import copy\n",
    "signals = {'green':'go',\n",
    "           'yellow': 'go faster',\n",
    "           'red': ['stop', 'smile']}\n",
    "\n",
    "signals_copy = copy.deepcopy(signals)\n",
    "signals\n",
    "\n",
    "\n"
   ]
  },
  {
   "cell_type": "code",
   "execution_count": 50,
   "id": "5418294c",
   "metadata": {},
   "outputs": [
    {
     "data": {
      "text/plain": [
       "{'green': 'go', 'yellow': 'go faster', 'red': ['stop', 'smile']}"
      ]
     },
     "execution_count": 50,
     "metadata": {},
     "output_type": "execute_result"
    }
   ],
   "source": [
    "signals_copy"
   ]
  },
  {
   "cell_type": "code",
   "execution_count": 52,
   "id": "180420ab",
   "metadata": {},
   "outputs": [
    {
     "data": {
      "text/plain": [
       "{'green': 'go', 'yellow': 'go faster', 'red': ['stop', 'sweat']}"
      ]
     },
     "execution_count": 52,
     "metadata": {},
     "output_type": "execute_result"
    }
   ],
   "source": [
    "signals['red'][1] = 'sweat'\n",
    "signals"
   ]
  },
  {
   "cell_type": "code",
   "execution_count": 55,
   "id": "f8d1fd4c",
   "metadata": {},
   "outputs": [
    {
     "data": {
      "text/plain": [
       "{'green': 'go', 'yellow': 'go faster', 'red': ['stop', 'smile']}"
      ]
     },
     "execution_count": 55,
     "metadata": {},
     "output_type": "execute_result"
    }
   ],
   "source": [
    "signals_copy"
   ]
  },
  {
   "cell_type": "code",
   "execution_count": 56,
   "id": "e1c4bcc5",
   "metadata": {},
   "outputs": [],
   "source": [
    "#比較字典\n"
   ]
  },
  {
   "cell_type": "code",
   "execution_count": 57,
   "id": "79112c88",
   "metadata": {},
   "outputs": [],
   "source": [
    "#用for 與 in 來迭代"
   ]
  },
  {
   "cell_type": "code",
   "execution_count": 58,
   "id": "3b696ad7",
   "metadata": {},
   "outputs": [],
   "source": [
    "#字典生成式"
   ]
  },
  {
   "cell_type": "code",
   "execution_count": 59,
   "id": "17a6a3a2",
   "metadata": {},
   "outputs": [],
   "source": [
    "#集合"
   ]
  },
  {
   "cell_type": "code",
   "execution_count": null,
   "id": "69f65609",
   "metadata": {},
   "outputs": [],
   "source": [
    "#用set()建立"
   ]
  },
  {
   "cell_type": "code",
   "execution_count": 60,
   "id": "9383c30e",
   "metadata": {},
   "outputs": [],
   "source": [
    "#用set()轉換"
   ]
  },
  {
   "cell_type": "code",
   "execution_count": null,
   "id": "f8a65f33",
   "metadata": {},
   "outputs": [],
   "source": []
  }
 ],
 "metadata": {
  "kernelspec": {
   "display_name": "Python 3",
   "language": "python",
   "name": "python3"
  },
  "language_info": {
   "codemirror_mode": {
    "name": "ipython",
    "version": 3
   },
   "file_extension": ".py",
   "mimetype": "text/x-python",
   "name": "python",
   "nbconvert_exporter": "python",
   "pygments_lexer": "ipython3",
   "version": "3.12.2"
  }
 },
 "nbformat": 4,
 "nbformat_minor": 5
}
