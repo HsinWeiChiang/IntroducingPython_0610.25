{
 "cells": [
  {
   "cell_type": "code",
   "execution_count": null,
   "id": "d07d3c66",
   "metadata": {},
   "outputs": [],
   "source": [
    "#############函式\n",
    "#def 定義函式\n",
    "def do_nothing():\n",
    "    pass"
   ]
  },
  {
   "cell_type": "code",
   "execution_count": null,
   "id": "098bd13a",
   "metadata": {},
   "outputs": [],
   "source": [
    "#用小括弧呼叫函式\n",
    "do_nothing()"
   ]
  },
  {
   "cell_type": "code",
   "execution_count": null,
   "id": "039a359e",
   "metadata": {},
   "outputs": [],
   "source": [
    "def make_a_sound():\n",
    "    print('quack')\n",
    "\n",
    "make_a_sound()"
   ]
  },
  {
   "cell_type": "code",
   "execution_count": null,
   "id": "e4f184ce",
   "metadata": {},
   "outputs": [],
   "source": [
    "#沒有參數, 但回傳一個值的函式-\n",
    "def agree():\n",
    "    return True\n",
    "agree()"
   ]
  },
  {
   "cell_type": "code",
   "execution_count": null,
   "id": "afecdb0d",
   "metadata": {},
   "outputs": [],
   "source": [
    "#可以用if來呼叫這個函式, 並測試他的回傳值-\n",
    "if agree():\n",
    "    print('Splendid!')\n",
    "else:\n",
    "    print('That was unexpected.')\n"
   ]
  },
  {
   "cell_type": "code",
   "execution_count": null,
   "id": "87f7791e",
   "metadata": {},
   "outputs": [],
   "source": [
    "#引數與參數- 接下來要將依些東西放在小括號裡面, 來定義 函式echo(), 讓它有一個稱為 anything的參數, 它使用return 陳述式 來將兩個anything之間加上空格, 一起回傳給呼叫方-\n",
    "def echo(anything):\n",
    "    return anything  + ' is ' + anything\n",
    "\n",
    "echo('Wally')"
   ]
  },
  {
   "cell_type": "code",
   "execution_count": null,
   "id": "770e036a",
   "metadata": {},
   "outputs": [],
   "source": [
    "#寫一個接收一個輸入引數, 實際用它來做一些事情的函式- commentary, 並由他來接收一個輸入字串參數, 稱為color\n",
    "def commentary(color):\n",
    "    if color == 'red':\n",
    "        return \"It's a tomato.\"\n",
    "    elif color == 'green':\n",
    "        return \"It's a green pepper.\"\n",
    "    elif color == 'green':\n",
    "        return \"It's a green pepper.\"\n",
    "    else:\n",
    "        return \"I've never heard of the color \" +  color + \".\"\n",
    "commentary('blue')"
   ]
  },
  {
   "cell_type": "code",
   "execution_count": null,
   "id": "b7891cf8",
   "metadata": {},
   "outputs": [],
   "source": [
    "#None是有用的-\n",
    "# None是一種特殊的Python值, 他與布林值False不一樣，雖然他被當成布林值時, 會被視為False-\n",
    "\n",
    "thing = None\n",
    "if thing:\n",
    "    print(\"It's some thing\")\n",
    "else:\n",
    "    print(\"It's no thing\")    "
   ]
  },
  {
   "cell_type": "code",
   "execution_count": null,
   "id": "2e3bbee9",
   "metadata": {},
   "outputs": [],
   "source": [
    "#可以用Python的is運算子 來區分 None 與 布林值 False:\n",
    "thing = None\n",
    "if thing is None:\n",
    "    print(\"It's nothing\")\n",
    "else:\n",
    "    print(\"It's something\")"
   ]
  },
  {
   "cell_type": "code",
   "execution_count": null,
   "id": "9e10dd9a",
   "metadata": {},
   "outputs": [],
   "source": [
    "#這個差異看起來微不足道, 但在Python非常重要, 可以用 None來區分- 缺漏值(missing value)與 空值(empty value). \n",
    "# 零值的整數/浮點數/空字串''/串列[]/tuple(,)/字典{}/集合set()都是False\n",
    "# 但他們都不等於None"
   ]
  },
  {
   "cell_type": "code",
   "execution_count": null,
   "id": "f3f47c3e",
   "metadata": {},
   "outputs": [],
   "source": [
    "#寫一簡單函式, 印出引數是None, True, False:\n",
    "def whatis(thing):\n",
    "    if thing is None:    \n",
    "        print(thing, \"is None\")\n",
    "    elif thing:\n",
    "        print(thing, \"is True\")\n",
    "    else:\n",
    "        print(thing, \"is False\")\n"
   ]
  },
  {
   "cell_type": "code",
   "execution_count": null,
   "id": "69d40148",
   "metadata": {},
   "outputs": [],
   "source": [
    "whatis(None)"
   ]
  },
  {
   "cell_type": "code",
   "execution_count": null,
   "id": "aff56955",
   "metadata": {},
   "outputs": [],
   "source": [
    "whatis(True)"
   ]
  },
  {
   "cell_type": "code",
   "execution_count": null,
   "id": "6fac7d8e",
   "metadata": {},
   "outputs": [],
   "source": [
    "whatis(False)"
   ]
  },
  {
   "cell_type": "code",
   "execution_count": null,
   "id": "3cc95072",
   "metadata": {},
   "outputs": [],
   "source": [
    "whatis(0)"
   ]
  },
  {
   "cell_type": "code",
   "execution_count": null,
   "id": "cdf0f2b3",
   "metadata": {},
   "outputs": [],
   "source": [
    "#位置性引數- 函式引數最常見的是 位置引數(positional argument), 它們的值會被依序複製到對應的參數.\n",
    "#這個函式使用他的位置引數建立一個字典, 並回傳它\n",
    "def menu(wine, entree, dessert):\n",
    "    return {'wine': wine, 'entree': entree, 'dessert': dessert}"
   ]
  },
  {
   "cell_type": "code",
   "execution_count": null,
   "id": "dd5e0ff1",
   "metadata": {},
   "outputs": [],
   "source": [
    "menu ('chardonnay', 'chicken', 'cake')"
   ]
  },
  {
   "cell_type": "code",
   "execution_count": null,
   "id": "366baf9e",
   "metadata": {},
   "outputs": [],
   "source": [
    "#雖然位置函數很常見, 但它的缺點為 必須記得每個位置的意思, 如果忘記, 呼叫menu()時, 將wine放在最後一個引數傳入,而不是第一個 會得到意外的一餐-\n",
    "menu('beef','bagel','bordeaux')"
   ]
  },
  {
   "cell_type": "code",
   "execution_count": null,
   "id": "53d71538",
   "metadata": {},
   "outputs": [],
   "source": [
    "#關鍵引數- 為了避免位置引數造成混亂, 可以用 引數對應的參數名稱來指定引數, 即使指定引W數與函式定義式不同也沒問題:\n",
    "menu(entree= 'beef', dessert = 'bagel', wine = 'boardeaux')\n",
    "\n"
   ]
  },
  {
   "cell_type": "code",
   "execution_count": null,
   "id": "1b8a30a4",
   "metadata": {},
   "outputs": [],
   "source": [
    "#可以混合使用位置與關鍵字引數, 先指定wine, 但關鍵字引數來指定entree與dessert:\n",
    "menu('frontenac', dessert= 'flan', entree = 'fish')"
   ]
  },
  {
   "cell_type": "code",
   "execution_count": null,
   "id": "1312fdc1",
   "metadata": {},
   "outputs": [],
   "source": [
    "#同時使用 位置與關鍵字引數來呼叫函式, 必須將位置引數放在前面-"
   ]
  },
  {
   "cell_type": "code",
   "execution_count": null,
   "id": "57ed4a6d",
   "metadata": {},
   "outputs": [],
   "source": [
    "#指定預設參數值- 可以為參數指定預設值,這些預設值會在呼叫方沒有提供相應的引述時使用, 這種平淡無奇的功能有時會立下大功-\n",
    "def menu(wine, entree, dessert= 'pudding'):\n",
    "    return {'wine': wine, 'entree': entree, 'dessert': dessert}\n",
    "\n"
   ]
  },
  {
   "cell_type": "code",
   "execution_count": null,
   "id": "3b349bbd",
   "metadata": {},
   "outputs": [],
   "source": [
    "#試著呼叫menu()時,不使用dessert引數:\n",
    "menu('chardonnay', 'chicken')"
   ]
  },
  {
   "cell_type": "code",
   "execution_count": null,
   "id": "99156969",
   "metadata": {},
   "outputs": [],
   "source": [
    "#當提供引數時, 函式就會使用他, 而不是預設值-\n",
    "menu('dunkelfelder','duck', 'doughnut')"
   ]
  },
  {
   "cell_type": "code",
   "execution_count": null,
   "id": "a5a28914",
   "metadata": {},
   "outputs": [],
   "source": [
    "#預設的參數值是在函式被定義的時候計算的, 並非在執行的時候.\n",
    "#Python新手 經常做錯一件事(稍具經驗的人有時也會)- 將可辨的資料型態(ex: 串列或字典)當成預設參數來使用"
   ]
  },
  {
   "cell_type": "code",
   "execution_count": null,
   "id": "406cb7ad",
   "metadata": {},
   "outputs": [],
   "source": [
    "def buggy(arg, result=[]):\n",
    "    result.append(arg)\n",
    "    print(result)\n",
    "buggy('a')\n",
    "    \n",
    "    "
   ]
  },
  {
   "cell_type": "code",
   "execution_count": null,
   "id": "a231cfd7",
   "metadata": {},
   "outputs": [],
   "source": [
    "buggy('b')"
   ]
  },
  {
   "cell_type": "code",
   "execution_count": null,
   "id": "f6a027ba",
   "metadata": {},
   "outputs": [],
   "source": [
    "#這樣寫可以正常運作\n",
    "def works(arg):\n",
    "    result= []\n",
    "    result.append(arg)\n",
    "    return result"
   ]
  },
  {
   "cell_type": "code",
   "execution_count": null,
   "id": "f5397bd7",
   "metadata": {},
   "outputs": [],
   "source": [
    "works('a')"
   ]
  },
  {
   "cell_type": "code",
   "execution_count": null,
   "id": "bbb59475",
   "metadata": {},
   "outputs": [],
   "source": [
    "works('b')"
   ]
  },
  {
   "cell_type": "code",
   "execution_count": null,
   "id": "f7af625c",
   "metadata": {},
   "outputs": [],
   "source": [
    "#修正的做法事傳入別的東西來代表第一次呼叫:\n",
    "def nonbuggy(arg, result = None):\n",
    "    if result is None:\n",
    "        result = []\n",
    "        result.append(arg)\n",
    "        print(result)\n",
    "    "
   ]
  },
  {
   "cell_type": "code",
   "execution_count": null,
   "id": "9ed19d36",
   "metadata": {},
   "outputs": [],
   "source": [
    "nonbuggy('a')"
   ]
  },
  {
   "cell_type": "code",
   "execution_count": null,
   "id": "a10ac626",
   "metadata": {},
   "outputs": [],
   "source": [
    "nonbuggy('b')"
   ]
  },
  {
   "cell_type": "code",
   "execution_count": null,
   "id": "a7abb281",
   "metadata": {},
   "outputs": [],
   "source": [
    "# 用*來炸開/收集 位置引數-\n",
    "# 在函式參數裡面的星號可以將數量不一定的位置引數組成一個參數值tuple, 在下列的例子中,args是個參數tuple, 他是以傳給print_args()函式的零個以上引數產生\n",
    "def print_args(*args):\n",
    "    print('Postional tuple:', args)\n"
   ]
  },
  {
   "cell_type": "code",
   "execution_count": null,
   "id": "0c40c7b3",
   "metadata": {},
   "outputs": [],
   "source": [
    "print_args()"
   ]
  },
  {
   "cell_type": "code",
   "execution_count": null,
   "id": "7f102482",
   "metadata": {},
   "outputs": [],
   "source": [
    "#傳給它的任何東西都會以args tuple印出:\n",
    "print_args(3,2,1, 'wait!','uh.....')"
   ]
  },
  {
   "cell_type": "code",
   "execution_count": null,
   "id": "93c050fd",
   "metadata": {},
   "outputs": [],
   "source": [
    "#如果函式也需要位置引數，要把它在前面, 將*args放在最前面,讓他可以抓取所有其餘的引數:\n",
    "def print_more(required1, required2, *args):\n",
    "    print('Need this one:', required1)\n",
    "    print('Need this one too:', required2)\n",
    "    print('All the rest:', args)\n"
   ]
  },
  {
   "cell_type": "code",
   "execution_count": null,
   "id": "5fde4ca8",
   "metadata": {},
   "outputs": [],
   "source": [
    "print_more('cap','gloves','scarf','monocle','mustache wax')"
   ]
  },
  {
   "cell_type": "code",
   "execution_count": null,
   "id": "68a4a77d",
   "metadata": {},
   "outputs": [],
   "source": [
    "# 用**來炸開/收集關鍵字引數-- 可以使用** 來將關鍵字引數組成字典, 其中引數名稱事鍵(key), 他們的值相應的是相應的字典值,\n",
    "# 下面範例定義了 print_kwargs()函式\n",
    "def print_kwargs(**args):\n",
    "    print('Keyword arguments:', args)"
   ]
  },
  {
   "cell_type": "code",
   "execution_count": null,
   "id": "e4aa1dfa",
   "metadata": {},
   "outputs": [],
   "source": [
    "print_kwargs()"
   ]
  },
  {
   "cell_type": "code",
   "execution_count": null,
   "id": "860330e8",
   "metadata": {},
   "outputs": [],
   "source": [
    "print_kwargs(Wine= 'merlot', entree= 'mutton', dessert = 'macaroon')"
   ]
  },
  {
   "cell_type": "code",
   "execution_count": null,
   "id": "d53d917e",
   "metadata": {},
   "outputs": [],
   "source": [
    "## 在函式裡, args是個字典的參數-\n",
    "## 引數的順序是- 1. 必需的位置引數 2. 選用的位置引數(*args) 3. 選用的關鍵字引數(**args)\n",
    "## 語法是在函式呼叫式或定義式裡面有效"
   ]
  },
  {
   "cell_type": "code",
   "execution_count": null,
   "id": "5baf1fd2",
   "metadata": {},
   "outputs": [],
   "source": [
    "##總結:\n",
    "## 可以傳遞字引數傳給函式, 他會在內部將它配對成關鍵字參數\n",
    "## 可以傳遞字典引數給函式, 在內部它式字典參數\n",
    "## 可以將一或多個關鍵字引數(name =value)傳入函式 並在裡面並在裡面用 **args 收集他們, \n",
    "#### 它們會被解析成字典參數args 炸成name = value引數"
   ]
  },
  {
   "cell_type": "code",
   "execution_count": null,
   "id": "63026e5e",
   "metadata": {},
   "outputs": [],
   "source": [
    "# 純關鍵字引數- 可以傳入 名稱與位置參數 一樣的關鍵字引數, 只是結果可能不是你要的Python3 讓你指定 純關鍵字引數\n",
    "# 顧名思義, 必須用 name = value來提供它們 不是位置性的值. 在函式定義式裡面的 單* 代表接下來的start與end 必須用具名引數來提供\n",
    "def print_data(data, *, start=0, end=100):\n",
    "    for value in (data[start:end]):\n",
    "        print(value)\n"
   ]
  },
  {
   "cell_type": "code",
   "execution_count": null,
   "id": "3086eec6",
   "metadata": {},
   "outputs": [],
   "source": [
    "data = ['a','b','c','d','e','f']\n",
    "print_data(data)"
   ]
  },
  {
   "cell_type": "code",
   "execution_count": null,
   "id": "c5ded82a",
   "metadata": {},
   "outputs": [],
   "source": [
    "print_data(data, start=4)"
   ]
  },
  {
   "cell_type": "code",
   "execution_count": null,
   "id": "73bb6f11",
   "metadata": {},
   "outputs": [],
   "source": [
    "print_data(data, end=2)"
   ]
  },
  {
   "cell_type": "code",
   "execution_count": null,
   "id": "eb1fcc98",
   "metadata": {},
   "outputs": [],
   "source": [
    "# 可變與不可變引數-  將同一個字串指派給兩個變數之後, 可以用任何一個變數來改變它\n",
    "# 兩個變數都引用整數或字串, 就無法\n",
    "# 原因是因為 串列(series)- 可變, 整數(int)與字串(string)- 不可變"
   ]
  },
  {
   "cell_type": "code",
   "execution_count": null,
   "id": "44d2d3da",
   "metadata": {},
   "outputs": [],
   "source": [
    "#將引數傳給函式時, 必須注意這樣的行為, 如果引數可變, 它的值可以利用相應的參數在函式內改變-\n",
    "outside = ['one','fine','day']\n",
    "def mangle(arg):\n",
    "    arg[1] = 'terrible'"
   ]
  },
  {
   "cell_type": "code",
   "execution_count": null,
   "id": "ebc57a23",
   "metadata": {},
   "outputs": [],
   "source": [
    "outside"
   ]
  },
  {
   "cell_type": "code",
   "execution_count": null,
   "id": "3251de91",
   "metadata": {},
   "outputs": [],
   "source": [
    "mangle(outside)\n",
    "outside"
   ]
  },
  {
   "cell_type": "code",
   "execution_count": null,
   "id": "cae0bb47",
   "metadata": {},
   "outputs": [],
   "source": [
    "## 這是不好的做法, 要說明引數可能會被更改, 不然就是要return 新值"
   ]
  },
  {
   "cell_type": "code",
   "execution_count": null,
   "id": "09d25d1d",
   "metadata": {},
   "outputs": [],
   "source": [
    "# Docstrings- Zen of Python 說 可讀性很重要 (Raddability counts). 可以在函式內文開頭加入字串來為函式定義加上說明\n",
    "# 這就是函式的 docstring\n",
    "def echo(anything):\n",
    "    'echo returns its argument'\n",
    "    return anything \n",
    "    \n",
    "echo('Wally!')\n",
    "\n",
    "#help(echo)\n",
    "print(echo.__doc__)"
   ]
  },
  {
   "cell_type": "code",
   "execution_count": null,
   "id": "8dd56690",
   "metadata": {},
   "outputs": [],
   "source": [
    "## 長得很奇怪的__doc__ 是docstring的內部名稱, 它是函式內的變數, 許多地方都使用雙底線(也就是在Python領域中, 所謂的dunder)\n",
    "## 用來命名Python的內部變數, 因為程式員不太可能在他們自己的變數名稱裡面使用它"
   ]
  },
  {
   "cell_type": "code",
   "execution_count": null,
   "id": "f3cd65bb",
   "metadata": {},
   "outputs": [],
   "source": [
    "# 函式是一級公民- Python 一切都是 物件, 包含數字, 字串, tuple, 串列, 字典, 函數"
   ]
  },
  {
   "cell_type": "code",
   "execution_count": null,
   "id": "57bf0e80",
   "metadata": {},
   "outputs": [],
   "source": [
    "# 定義一簡單的函式, 稱為answer(), 它沒有任何引數, 只會印出42\n",
    "def answer():\n",
    "    print(42)\n",
    "\n",
    "answer()"
   ]
  },
  {
   "cell_type": "code",
   "execution_count": null,
   "id": "93b0f6c4",
   "metadata": {},
   "outputs": [],
   "source": [
    "# 接著來定義另一個函式, 稱為run_soemthing. 它有一個稱為func的引數, 是一個要執行的函式. 它會在裡面直接呼叫函式:\n",
    "def run_something(func):\n",
    "    func()\n",
    "\n",
    "#如果我們將answer 傳入 run_answer(), 代表我們把函式當作資料來使用, 如同使用任何其他東西一般\n",
    "\n",
    "run_something(answer)"
   ]
  },
  {
   "cell_type": "code",
   "execution_count": null,
   "id": "1883e6af",
   "metadata": {},
   "outputs": [],
   "source": [
    "# 注意, 傳入answer不是answer(), 在Python中, 這些小括號代表呼叫該函式\n",
    "# Python 會將沒有括號的函式當作任何其他物件一樣看待, 原因式 Python的任何其他東西, 它都是個物件"
   ]
  },
  {
   "cell_type": "code",
   "execution_count": null,
   "id": "c3cf6e4f",
   "metadata": {},
   "outputs": [],
   "source": [
    "type(run_something)"
   ]
  },
  {
   "cell_type": "code",
   "execution_count": null,
   "id": "e6998b43",
   "metadata": {},
   "outputs": [],
   "source": [
    "#執行函式時傳入引數, 我們定義一個函式add_args(), 讓它印出兩個數字引數(arg1與arg2)的總和:\n",
    "def add_args(arg1, arg2):\n",
    "    print(arg1+arg2)\n",
    "\n",
    "type(add_args)"
   ]
  },
  {
   "cell_type": "code",
   "execution_count": null,
   "id": "77165784",
   "metadata": {},
   "outputs": [],
   "source": [
    "## 我們要定義一個稱為 run_something_with_args()的函式, 它接受三個引數:\n",
    "## func- 要執行的函數\n",
    "## arg1- 傳給func的一個函數\n",
    "## arg2- 傳給func的第二個函數\n",
    "\n",
    "def run_something_with_args(func, arg1, arg2):\n",
    "    func(arg1, arg2)\n",
    "\n",
    "# 當你呼叫 run_something_with_args()時, 呼叫方傳入的函式會被指派給func參數, 而arg1與arg2 會得到引數列中其餘的值\n",
    "# 接下來, 執行func(arg1,arg2)會用那些引數來執行那些函式.\n",
    "\n",
    "run_something_with_args(add_args, 5, 9)\n"
   ]
  },
  {
   "cell_type": "code",
   "execution_count": null,
   "id": "6b4d53d7",
   "metadata": {},
   "outputs": [],
   "source": [
    "# 我們來定義一個測試函式, 讓它接收任意數量的位置引數, 並使用sum()函式來計算它們的總和並回傳:\n",
    "def sum_args(*args):\n",
    "    return sum(args)\n",
    "\n",
    "def run_with_positional_args(func, *args):\n",
    "    return func(*args)\n",
    "\n",
    "run_with_positional_args(sum_args, 1,2,3,4)"
   ]
  },
  {
   "cell_type": "code",
   "execution_count": null,
   "id": "6104bccb",
   "metadata": {},
   "outputs": [],
   "source": [
    "# 內部函式- 可以在一個函式裡定義另外一個函式-\n",
    "def outer(a,b):\n",
    "    def inner(c,d):\n",
    "        return c + d\n",
    "    return inner(a,b)\n",
    "\n",
    "outer(3,7)\n"
   ]
  },
  {
   "cell_type": "code",
   "execution_count": null,
   "id": "2ab850e4",
   "metadata": {},
   "outputs": [],
   "source": [
    "# 如果要在一個函式裡面多次執行複雜的的動作, 可以使用內部函式來避免編寫重覆的迴圈或程式碼. 舉個字串範例\n",
    "# 這個內部的函式可以幫它的引數加上一些文字:\n",
    "\n",
    "def knights(saying):\n",
    "    def inner(quote):\n",
    "        return \"We are the knights who say: '%s'\" % quote\n",
    "    return inner(saying)\n",
    "\n",
    "knights('Ni!')\n"
   ]
  },
  {
   "cell_type": "code",
   "execution_count": null,
   "id": "b16a4730",
   "metadata": {},
   "outputs": [],
   "source": [
    "# closure- 內部函式可以當成closure來使用, 它是其他的函式動態產生的函式, 可以變更和記得在函是外面建立的變數值\n",
    "def knights2(saying):\n",
    "    def inner2():\n",
    "        return \"We are the knights who say: '%s'\" % saying\n",
    "    return inner2"
   ]
  },
  {
   "cell_type": "code",
   "execution_count": null,
   "id": "79d260ee",
   "metadata": {},
   "outputs": [],
   "source": [
    "# 呼叫knights2()兩次, 使用不同引數:\n",
    "a = knights2('Duck')\n",
    "b = knights2('Hasenpfeffer')"
   ]
  },
  {
   "cell_type": "code",
   "execution_count": null,
   "id": "7bbc406b",
   "metadata": {},
   "outputs": [],
   "source": [
    "#確認a,b型態\n",
    "type(a)\n",
    "type(b)"
   ]
  },
  {
   "cell_type": "code",
   "execution_count": null,
   "id": "64f8722b",
   "metadata": {},
   "outputs": [],
   "source": [
    "# 他們是函式, 但也是closure:\n",
    "b()"
   ]
  },
  {
   "cell_type": "code",
   "execution_count": null,
   "id": "164ec47a",
   "metadata": {},
   "outputs": [],
   "source": [
    "# 匿名函式: lambda- 是一種一行陳述式 來表示匿名函式. 你可以用它來取代一般的小函式.\n",
    "# 為了說明, 我們先製作一個使用一般函式的範例. 先定義函式edit_story(). 它的引數是:\n",
    "# word- 一單字串列\n",
    "# func- 處理words裡面個個單字的函式\n",
    "\n",
    "def edit_story(words, func):\n",
    "    for word in words:\n",
    "        print(func(word))\n",
    "\n",
    "stairs = ['thud', 'meow', 'thud', 'hiss']\n",
    "\n",
    "def enliven(word):\n",
    "    return word.capitalize() + '!'\n",
    "\n",
    "edit_story(stairs, enliven)\n",
    "\n",
    "\n"
   ]
  },
  {
   "cell_type": "code",
   "execution_count": null,
   "id": "cce2ad6b",
   "metadata": {},
   "outputs": [],
   "source": [
    "# 改用lambda. 因為enliven()函式很短, 所以可將它 換成lambda:\n",
    "stairs = ['thud', 'meow', 'thud', 'hiss']\n",
    "\n",
    "edit_story(stairs, lambda word: word.capitalize() + '!')"
   ]
  },
  {
   "cell_type": "code",
   "execution_count": null,
   "id": "0e2da718",
   "metadata": {},
   "outputs": [],
   "source": [
    "# 產生器- 產生器(generator) 是 Python序列製作物件,可以用它迭代可能很大的序列,且不需要在記憶體中一次建立或儲存整個序列.\n",
    "# 產生器通常是迭代器的資料來源. 其中一個就是range()\n",
    "\n",
    "sum(range(1,101))\n",
    "\n",
    "# 當你迭代產生器的時候, 他都會記住上次被呼叫時的位置, 並回傳下一個值, 所以它與一般的函式不同. 一般函式不會記住上次的呼叫, 而且永遠用同一個狀態\n",
    "# 從它的第一行開始執行\n",
    "\n"
   ]
  },
  {
   "cell_type": "code",
   "execution_count": null,
   "id": "4392e26f",
   "metadata": {},
   "outputs": [],
   "source": [
    "# 產生器函式- 如果你想要建立可能很龐大的序列,可以編寫產生器函式, 它是一般的函式,但是它用yield陳述式來回傳值, 而不是return. 我們來自己寫個range()產生\n",
    "def my_range(first= 0, last=10, step=1):\n",
    "    number = first\n",
    "    while number < last:\n",
    "        yield number\n",
    "        number += step\n",
    "        \n",
    "# 它是個一般的函式\n",
    "my_range\n"
   ]
  },
  {
   "cell_type": "code",
   "execution_count": null,
   "id": "486a6950",
   "metadata": {},
   "outputs": [],
   "source": [
    "# 它會回傳一個產生器的物件:\n",
    "ranger = my_range(1,5)\n",
    "ranger"
   ]
  },
  {
   "cell_type": "code",
   "execution_count": null,
   "id": "d100ef12",
   "metadata": {},
   "outputs": [],
   "source": [
    "# 我們可以迭代這個產生器的物件-\n",
    "for x in ranger:\n",
    "    print(x)"
   ]
  },
  {
   "cell_type": "code",
   "execution_count": null,
   "id": "8ca4c701",
   "metadata": {},
   "outputs": [],
   "source": [
    "# 如果試著再次迭代這個產生器, 會發現它筋疲力竭了-\n",
    "for try_again in ranger:\n",
    "    print(try_again)"
   ]
  },
  {
   "cell_type": "code",
   "execution_count": null,
   "id": "ed0f2584",
   "metadata": {},
   "outputs": [],
   "source": [
    "#產生器生成式-\n",
    "genobj = (pair for pair in zip(['a','b'],['1','2']))\n",
    "genobj"
   ]
  },
  {
   "cell_type": "code",
   "execution_count": null,
   "id": "ba79fe42",
   "metadata": {},
   "outputs": [],
   "source": [
    "for thing in genobj:\n",
    "    print(thing)"
   ]
  },
  {
   "cell_type": "code",
   "execution_count": null,
   "id": "24e395eb",
   "metadata": {},
   "outputs": [],
   "source": [
    "# 裝飾器- decorator 是一種函式, 它會接受一種函式, 並回傳另一個函式-\n",
    "# *args 與 **kwargs\n",
    "# 內部函式\n",
    "# 當成引數的函式\n",
    "\n",
    "# document_it() 函式定義一個裝飾器, 它會做以下的工作-\n",
    "# - 印出 函式名稱與 引數的值\n",
    "# - 用引數來執行函式\n",
    "# - 印出結果\n",
    "# - 回傳修改後的函式以供使用\n",
    "\n",
    "def document_it(func):\n",
    "    def new_function(*args, **kwargs):\n",
    "        print('Running function:' , func.__name__)\n",
    "        print('Positional arguments:', args)\n",
    "        print('Keyword arguments:', kwargs) \n",
    "        result = func(*args, **kwargs)\n",
    "        print('Result:', result)\n",
    "        return result\n",
    "    return new_function\n",
    "\n"
   ]
  },
  {
   "cell_type": "code",
   "execution_count": null,
   "id": "1db76cb5",
   "metadata": {},
   "outputs": [],
   "source": [
    "# 該如何使用它? 可以手動套用裝飾器\n",
    "def add_ints(a,b):\n",
    "    return a + b\n",
    "\n",
    "add_ints([1,2,3],[4,5,6])"
   ]
  },
  {
   "cell_type": "code",
   "execution_count": null,
   "id": "abf0a6ee",
   "metadata": {},
   "outputs": [],
   "source": [
    "#手動指派裝飾器\n",
    "cooler_add_ints = document_it(add_ints)\n",
    "cooler_add_ints([1,2,3],[4,5,6])\n"
   ]
  },
  {
   "cell_type": "code",
   "execution_count": null,
   "id": "d974d5bc",
   "metadata": {},
   "outputs": [],
   "source": [
    "# 你也可以在想裝飾的函式前面加上 @decorator_name 來取代上述的手動指派裝飾器\n",
    "@document_it\n",
    "def add_ints(a,b):\n",
    "    return a+b\n",
    "\n",
    "add_ints(3,5)"
   ]
  },
  {
   "cell_type": "code",
   "execution_count": null,
   "id": "a638ae1f",
   "metadata": {},
   "outputs": [],
   "source": [
    "# 同一個函式可以使用多個裝飾器, 我們來寫另外一個裝飾器,稱為square_it(),  讓它計算結果的平方-\n",
    "def square_it(func):\n",
    "    def new_function(*args, **kwargs):\n",
    "        result = func(*args, **kwargs)\n",
    "        return result * result\n",
    "    return new_function\n",
    "\n",
    "#最靠近函式的裝飾器(在def上面的那一個)會先執行, 接著是它上面的那個, 雖然無論順序如何, 最終結果都一樣,但可以觀察中間步驟不同-\n",
    "@document_it\n",
    "@square_it\n",
    "def add_ints(a,b):\n",
    "    return a + b\n",
    "\n",
    "add_ints(3,5)\n",
    "\n",
    "\n"
   ]
  },
  {
   "cell_type": "code",
   "execution_count": null,
   "id": "512b0d20",
   "metadata": {},
   "outputs": [],
   "source": [
    "# 名稱空間與作用域- 一個名稱可以代表不同東西,取決於它在哪裡被使用. Python程式有各種名稱空間(namespace), 它指的是特定的名稱在一段程式之內是唯一的\n",
    "# 而且與其它名稱空間內的同一個名稱無關.\n",
    "\n",
    "# 整個程式的主要部份定義的是全域的名稱空間. 因此, 在那個名稱空間裡面的變數都是 \"全域變數\"\n",
    "\n",
    "# 你可以在函是裡面取得全域變數的值-\n",
    "animal = 'fruitbat'\n",
    "def print_global():\n",
    "    print('inside print_global:' , animal)\n",
    "\n",
    "print('at the top level:', animal)\n",
    "\n",
    "\n"
   ]
  },
  {
   "cell_type": "code",
   "execution_count": null,
   "id": "681b27eb",
   "metadata": {},
   "outputs": [],
   "source": [
    "print_global()"
   ]
  },
  {
   "cell_type": "code",
   "execution_count": null,
   "id": "c9012ad2",
   "metadata": {},
   "outputs": [],
   "source": [
    "# 但如果在函式內取得全域變數的值, 並且更改它, 就會看到錯誤-\n",
    "def change_and_print_global():\n",
    "    print('inside change_and_print_global:', animal)\n",
    "    animal = 'wombat'\n",
    "    print('after the change:', animal)\n",
    "\n",
    "change_and_print_global()"
   ]
  },
  {
   "cell_type": "code",
   "execution_count": null,
   "id": "f20ff641",
   "metadata": {},
   "outputs": [],
   "source": [
    "# 如果直接些改它,  它也會修改另一個也叫做animal的變數,  但該變數是在函式裡面的-\n",
    "def change_local():\n",
    "    animal = 'wombat'\n",
    "    print('inside change_local:', animal, id(animal))\n",
    "\n",
    "change_local()"
   ]
  },
  {
   "cell_type": "code",
   "execution_count": null,
   "id": "8b9fb01c",
   "metadata": {},
   "outputs": [],
   "source": [
    "#印出全域變數animal = fruitbat的 ID\n",
    "id (animal)"
   ]
  },
  {
   "cell_type": "code",
   "execution_count": null,
   "id": "f6af469c",
   "metadata": {},
   "outputs": [],
   "source": [
    "# 為何如此?  第一行程式將字串'fruitbat'指派給全域變animal. change_local()函式也有一個叫做animal的變數, 但它在它自己的局部空間裡面.\n",
    "# 使用python id()來印出各個物件的獨有值, 並證明change_local()裡面變數animal與主程式的animal不一樣\n",
    "# 若要存取全域變數而不是函式內的區域變數, 必須明確地使用global關鍵字.\n",
    "animal = 'fruitbat'\n",
    "def change_and_print_global():\n",
    "    global animal\n",
    "    animal = 'wombat'\n",
    "    print('inside change_and_print_global:', animal)\n",
    "animal"
   ]
  },
  {
   "cell_type": "code",
   "execution_count": null,
   "id": "420b654f",
   "metadata": {},
   "outputs": [],
   "source": [
    "change_and_print_global()"
   ]
  },
  {
   "cell_type": "code",
   "execution_count": null,
   "id": "273404c7",
   "metadata": {},
   "outputs": [],
   "source": [
    "animal"
   ]
  },
  {
   "cell_type": "code",
   "execution_count": null,
   "id": "d083071e",
   "metadata": {},
   "outputs": [],
   "source": [
    "#如果沒有在函式內使用global, Python會使用區域名稱空間，所以該變數式區域性的, 它會在函式結束時消失.\n",
    "\n",
    "# Python 有兩個函式可讓你讀取名稱空間內容:\n",
    "## local() 會回傳一個字典,裡面有區域名稱空間的內容\n",
    "## global() 會回全一個字典, 裡面有全域名稱空間的內容\n",
    "\n",
    "#以下是它們的用法-"
   ]
  },
  {
   "cell_type": "code",
   "execution_count": null,
   "id": "96cbc9db",
   "metadata": {},
   "outputs": [],
   "source": [
    "\n",
    "\n",
    "animal = 'fruitbat'\n",
    "def change_local():\n",
    "    animal = 'wombat'\n",
    "    print('locals:', locals())\n",
    "\n",
    "animal\n"
   ]
  },
  {
   "cell_type": "code",
   "execution_count": null,
   "id": "b4a55a15",
   "metadata": {},
   "outputs": [],
   "source": [
    "change_local()"
   ]
  },
  {
   "cell_type": "code",
   "execution_count": null,
   "id": "c06ff848",
   "metadata": {},
   "outputs": [],
   "source": [
    "print('globals:', globals())"
   ]
  },
  {
   "cell_type": "code",
   "execution_count": null,
   "id": "a9add9a8",
   "metadata": {},
   "outputs": [],
   "source": [
    "# 在名稱內使用 _與__ - Python 保留在名稱的開頭與結尾使用兩個底線(__)的寫法, 所以你不能在自己的變數中使用它們.\n",
    "# Python 選擇這種命名模式的原因是在正常情況下, 應用程式的開發人員不會在自己的變數內使用它們\n",
    "# 例如 函式的名稱被存放在系統變數 function.__name__,  它的文件字串是 function.__doc__:\n",
    "def amazing():\n",
    "    '''This is the amaznig function. \n",
    "    Want to see it again?'''\n",
    "    print('This function is named:', amazing.__name__)\n",
    "    print('And its docstring is:', amazing.__doc__)\n",
    "\n",
    "amazing()\n",
    "\n"
   ]
  },
  {
   "cell_type": "code",
   "execution_count": null,
   "id": "3c8ddd94",
   "metadata": {},
   "outputs": [],
   "source": [
    "# 就像之前的globals輸出訊息, 主程式被設為特殊名稱__main__ "
   ]
  },
  {
   "cell_type": "code",
   "execution_count": null,
   "id": "3834b101",
   "metadata": {},
   "outputs": [],
   "source": [
    "# 遞迴-\n",
    "def dive():\n",
    "    return dive()"
   ]
  },
  {
   "cell_type": "code",
   "execution_count": null,
   "id": "e52f77a6",
   "metadata": {},
   "outputs": [],
   "source": [
    "dive()"
   ]
  },
  {
   "cell_type": "code",
   "execution_count": null,
   "id": "ea077183",
   "metadata": {},
   "outputs": [],
   "source": [
    "#2遞迴在處理不平整(ueven)的資料很方便,例如 串列的串列的串列,假如你想要壓平串列的所有子串列. 無論嵌套得有多深, 使用產生器函式為-\n",
    "\n",
    "def flatten(lol):\n",
    "    for item in lol:\n",
    "        if isinstance(item,list):\n",
    "            for subitem in flatten(item):\n",
    "                yield subitem\n",
    "        else:\n",
    "            yield item\n",
    "\n",
    "lol = [1,2,[3,4,5],[6,[7,8,9],[]]]\n",
    "flatten(lol)\n",
    "\n",
    "list(flatten(lol))"
   ]
  },
  {
   "cell_type": "code",
   "execution_count": null,
   "id": "691c2d1d",
   "metadata": {},
   "outputs": [],
   "source": [
    "#非同步函式- 附錄C會特別說明"
   ]
  },
  {
   "cell_type": "code",
   "execution_count": null,
   "id": "e7cf1ec1",
   "metadata": {},
   "outputs": [],
   "source": [
    "# 例外- 有一些語言是以函式回傳值來指示錯誤的. Python 在事情失敗(go south)的時候使用例外(它是當相關的錯誤發生時執行的程式碼)\n",
    "short_list= [1,2,3]\n",
    "position = 1\n",
    "short_list[position]"
   ]
  },
  {
   "cell_type": "code",
   "execution_count": null,
   "id": "443b5aaf",
   "metadata": {},
   "outputs": [],
   "source": [
    "# 用try 和 except 來處理錯誤- 可以用try 來包住程式碼, 並且用except來處理錯誤, 而不是任它交由命運安排:\n",
    "short_list = [1,2,3]\n",
    "position = 8\n",
    "try:\n",
    "    print(short_list[position])\n",
    "except:\n",
    "    print('Need a position between 0 and' , len(short_list)-1, ' but got', position)"
   ]
  },
  {
   "cell_type": "code",
   "execution_count": null,
   "id": "d6866b3c",
   "metadata": {},
   "outputs": [],
   "source": [
    "# 接下來範例會先查看IndexError, 它是當你提供無效的位置給序列時會出現的例外類型.\n",
    "# 它會將IndexError例外存入變數err, 將其它的例外都存入other變數. 這個範例會印出other裡面的所有東西.\n",
    "\n",
    "short_list = [1,2,3]\n",
    "\n",
    "while True:\n",
    "    value = input('Position[q to quit]? ')\n",
    "    if value == 'q':\n",
    "        break\n",
    "    try:\n",
    "        position = int(value)\n",
    "        print(short_list[position])\n",
    "    except IndexError as err:\n",
    "        print('Bad index:', position)\n",
    "    except Exception as other:\n",
    "        print('Something else broke:', other)\n"
   ]
  },
  {
   "cell_type": "code",
   "execution_count": 6,
   "id": "cab41cd4",
   "metadata": {},
   "outputs": [
    {
     "ename": "UppercaseException",
     "evalue": "MO Panic!!",
     "output_type": "error",
     "traceback": [
      "\u001b[31m---------------------------------------------------------------------------\u001b[39m",
      "\u001b[31mUppercaseException\u001b[39m                        Traceback (most recent call last)",
      "\u001b[36mCell\u001b[39m\u001b[36m \u001b[39m\u001b[32mIn[6]\u001b[39m\u001b[32m, line 10\u001b[39m\n\u001b[32m      8\u001b[39m \u001b[38;5;28;01mfor\u001b[39;00m word \u001b[38;5;129;01min\u001b[39;00m words:\n\u001b[32m      9\u001b[39m     \u001b[38;5;28;01mif\u001b[39;00m word.isupper():\n\u001b[32m---> \u001b[39m\u001b[32m10\u001b[39m         \u001b[38;5;28;01mraise\u001b[39;00m UppercaseException(word + \u001b[33m'\u001b[39m\u001b[33m Panic!!\u001b[39m\u001b[33m'\u001b[39m)\n",
      "\u001b[31mUppercaseException\u001b[39m: MO Panic!!"
     ]
    }
   ],
   "source": [
    "# 製作自己的例外- 上面介紹的例外(例如: IndexError)都是Python預先定義的,或是屬於它的標準程式庫的. 你可以視需求使用任何一種, 也可以定義自己的例外類型\n",
    "# 來處理自己的程式可能出現的特殊情況\n",
    "# 例外是一種類別, 它是類別Exception 的子類別, 我們來製作一個稱為UppercaseException的例外, 當我們在字串中遇到大寫的單字時將它丟出:\n",
    "\n",
    "class UppercaseException(Exception):\n",
    "    pass\n",
    "words = ['eenie','meenie','miny','MO']\n",
    "for word in words:\n",
    "    if word.isupper():\n",
    "        raise UppercaseException(word + ' Panic!!')\n",
    "\n",
    "\n"
   ]
  },
  {
   "cell_type": "code",
   "execution_count": null,
   "id": "330231d8",
   "metadata": {},
   "outputs": [
    {
     "name": "stdout",
     "output_type": "stream",
     "text": [
      "panic\n"
     ]
    }
   ],
   "source": [
    "# 你可以讀取例外物件本身,並且印出它\n",
    "class OopsException(Exception):\n",
    "    pass\n",
    "try:\n",
    "    raise OopsException('panic')\n",
    "except OopsException as exc:\n",
    "    print(exc)W"
   ]
  },
  {
   "cell_type": "code",
   "execution_count": null,
   "id": "61619058",
   "metadata": {},
   "outputs": [],
   "source": []
  },
  {
   "cell_type": "code",
   "execution_count": null,
   "id": "b58cd13f",
   "metadata": {},
   "outputs": [],
   "source": []
  },
  {
   "cell_type": "code",
   "execution_count": null,
   "id": "b83812a6",
   "metadata": {},
   "outputs": [],
   "source": []
  },
  {
   "cell_type": "code",
   "execution_count": null,
   "id": "e132293a",
   "metadata": {},
   "outputs": [],
   "source": []
  },
  {
   "cell_type": "code",
   "execution_count": null,
   "id": "cbb2514d",
   "metadata": {},
   "outputs": [],
   "source": []
  },
  {
   "cell_type": "code",
   "execution_count": null,
   "id": "487666d1",
   "metadata": {},
   "outputs": [],
   "source": []
  },
  {
   "cell_type": "code",
   "execution_count": null,
   "id": "cf332e1a",
   "metadata": {},
   "outputs": [],
   "source": []
  },
  {
   "cell_type": "code",
   "execution_count": null,
   "id": "5979f165",
   "metadata": {},
   "outputs": [],
   "source": []
  },
  {
   "cell_type": "code",
   "execution_count": null,
   "id": "2df001b4",
   "metadata": {},
   "outputs": [],
   "source": []
  }
 ],
 "metadata": {
  "kernelspec": {
   "display_name": "Python 3",
   "language": "python",
   "name": "python3"
  },
  "language_info": {
   "codemirror_mode": {
    "name": "ipython",
    "version": 3
   },
   "file_extension": ".py",
   "mimetype": "text/x-python",
   "name": "python",
   "nbconvert_exporter": "python",
   "pygments_lexer": "ipython3",
   "version": "3.11.9"
  }
 },
 "nbformat": 4,
 "nbformat_minor": 5
}
