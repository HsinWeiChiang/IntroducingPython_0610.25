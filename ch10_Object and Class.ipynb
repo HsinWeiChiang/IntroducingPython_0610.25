{
 "cells": [
  {
   "cell_type": "code",
   "execution_count": null,
   "id": "62111509",
   "metadata": {},
   "outputs": [],
   "source": [
    "# Python 任何東西從數字到函式, 全部都是物件. 但Python用特殊的語法將大部分的物件都隱藏起來.\n",
    "\n",
    "# 甚麼是物件?- 物件是一種自訂的資料結構,裡面有資料(變數, 稱為屬性),以及程式碼(函式,稱為方法). 它代表某種具體東西的唯一實例.\n",
    "# 你可以將物件想像成名詞, 他們的方法想成動詞; 一個物件代表一個單獨的事物, 它的方法定義它和其他事物如何互動\n",
    "# 例如, 值為7的整數物件代表有個加法與乘法的物件, 它就像第3章介紹的那樣; 8是不同物件, 這代表python在某個地方內建了一個整數類別, 7與8都屬於那個類別\n",
    "# 字串'cat'與'duck'也是Python的物件,並且擁有第5章介紹過的字串方法.例如- capitalize()與replace()\n"
   ]
  },
  {
   "cell_type": "code",
   "execution_count": null,
   "id": "dfa565b8",
   "metadata": {},
   "outputs": [],
   "source": [
    "# 簡單的物件- 先從簡單的物件類別開始-\n",
    "# 假設想要定義 代表貓咪資訊的物件, 用每一個物件代表一隻貓,要先定義一個稱為Cat的類別,把它當作模具\n",
    "\n",
    "class Cat():\n",
    "    pass\n",
    "\n",
    "a_cat = Cat()\n",
    "another_cat = Cat()\n"
   ]
  },
  {
   "cell_type": "code",
   "execution_count": 8,
   "id": "648b2d68",
   "metadata": {},
   "outputs": [
    {
     "data": {
      "text/plain": [
       "<__main__.Cat at 0x1aa4381dd10>"
      ]
     },
     "execution_count": 8,
     "metadata": {},
     "output_type": "execute_result"
    }
   ],
   "source": [
    "#屬性- 是一種在類別或物件裡面的變數,你可以在建立物件或類別期間或之後指派屬性給它. 屬性可為任何其他物件\n",
    "class Cat:\n",
    "    pass\n",
    "\n",
    "a_cat = Cat()\n",
    "a_cat\n",
    "another_cat = Cat()\n",
    "another_cat\n"
   ]
  },
  {
   "cell_type": "code",
   "execution_count": 10,
   "id": "ca392236",
   "metadata": {},
   "outputs": [],
   "source": [
    "#現在將一些屬性指派給第一個物件:\n",
    "a_cat.age = 3\n",
    "a_cat.name = 'Mr. Fuzzybuttons'\n",
    "a_cat.nemesis = another_cat"
   ]
  },
  {
   "cell_type": "code",
   "execution_count": 11,
   "id": "83d07c41",
   "metadata": {},
   "outputs": [
    {
     "data": {
      "text/plain": [
       "3"
      ]
     },
     "execution_count": 11,
     "metadata": {},
     "output_type": "execute_result"
    }
   ],
   "source": [
    "a_cat.age"
   ]
  },
  {
   "cell_type": "code",
   "execution_count": 12,
   "id": "c46474b6",
   "metadata": {},
   "outputs": [
    {
     "data": {
      "text/plain": [
       "'Mr. Fuzzybuttons'"
      ]
     },
     "execution_count": 12,
     "metadata": {},
     "output_type": "execute_result"
    }
   ],
   "source": [
    "a_cat.name"
   ]
  },
  {
   "cell_type": "code",
   "execution_count": 13,
   "id": "25d2a397",
   "metadata": {},
   "outputs": [
    {
     "data": {
      "text/plain": [
       "<__main__.Cat at 0x1aa4381dd10>"
      ]
     },
     "execution_count": 13,
     "metadata": {},
     "output_type": "execute_result"
    }
   ],
   "source": [
    "a_cat.nemesis"
   ]
  },
  {
   "cell_type": "code",
   "execution_count": 14,
   "id": "5e11184a",
   "metadata": {},
   "outputs": [
    {
     "ename": "AttributeError",
     "evalue": "'Cat' object has no attribute 'name'",
     "output_type": "error",
     "traceback": [
      "\u001b[31m---------------------------------------------------------------------------\u001b[39m",
      "\u001b[31mAttributeError\u001b[39m                            Traceback (most recent call last)",
      "\u001b[36mCell\u001b[39m\u001b[36m \u001b[39m\u001b[32mIn[14]\u001b[39m\u001b[32m, line 1\u001b[39m\n\u001b[32m----> \u001b[39m\u001b[32m1\u001b[39m \u001b[43ma_cat\u001b[49m\u001b[43m.\u001b[49m\u001b[43mnemesis\u001b[49m\u001b[43m.\u001b[49m\u001b[43mname\u001b[49m\n",
      "\u001b[31mAttributeError\u001b[39m: 'Cat' object has no attribute 'name'"
     ]
    }
   ],
   "source": [
    "a_cat.nemesis.name"
   ]
  },
  {
   "cell_type": "code",
   "execution_count": 16,
   "id": "9351c410",
   "metadata": {},
   "outputs": [
    {
     "data": {
      "text/plain": [
       "'Mr. Bigglesworth'"
      ]
     },
     "execution_count": 16,
     "metadata": {},
     "output_type": "execute_result"
    }
   ],
   "source": [
    "a_cat.nemesis.name = 'Mr. Bigglesworth'\n",
    "a_cat.nemesis.name"
   ]
  },
  {
   "cell_type": "code",
   "execution_count": null,
   "id": "5d7e7eb7",
   "metadata": {},
   "outputs": [],
   "source": [
    "# 就連這種極簡單的物件也可以儲存多個屬性. 所以你可以使用多個物件來儲存不同的值, 用來取代處列或字典之類的東西\n",
    "# 你聽到的屬性(attribute)通常代表物件屬性. 此外, 還有類別屬性, 你會在p193的 \"類別與物件屬性\" 看到他們的差異"
   ]
  },
  {
   "cell_type": "code",
   "execution_count": null,
   "id": "de293bf0",
   "metadata": {},
   "outputs": [],
   "source": [
    "# 方法- "
   ]
  }
 ],
 "metadata": {
  "kernelspec": {
   "display_name": "Python 3",
   "language": "python",
   "name": "python3"
  },
  "language_info": {
   "codemirror_mode": {
    "name": "ipython",
    "version": 3
   },
   "file_extension": ".py",
   "mimetype": "text/x-python",
   "name": "python",
   "nbconvert_exporter": "python",
   "pygments_lexer": "ipython3",
   "version": "3.11.9"
  }
 },
 "nbformat": 4,
 "nbformat_minor": 5
}
