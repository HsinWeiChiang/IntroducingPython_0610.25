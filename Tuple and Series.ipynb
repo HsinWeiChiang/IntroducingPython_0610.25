{
 "cells": [
  {
   "cell_type": "code",
   "execution_count": 27,
   "metadata": {},
   "outputs": [
    {
     "data": {
      "text/plain": [
       "['Groucho', 'Chico', 'Harpo']"
      ]
     },
     "execution_count": 27,
     "metadata": {},
     "output_type": "execute_result"
    }
   ],
   "source": [
    "# 用append()將項目加到尾端\n",
    "marxes = ['Groucho','Chico','Harpo']\n",
    "# marxes.append('Zeppo')\n",
    "marxes"
   ]
  },
  {
   "cell_type": "code",
   "execution_count": 28,
   "metadata": {},
   "outputs": [
    {
     "data": {
      "text/plain": [
       "['Groucho', 'Chico', 'Gummo', 'Harpo', 'Zeppo']"
      ]
     },
     "execution_count": 28,
     "metadata": {},
     "output_type": "execute_result"
    }
   ],
   "source": [
    "# 用insert() 和 offset 加入項目\n",
    "marxes.insert(2,'Gummo')\n",
    "\n",
    "marxes.insert(10,'Zeppo')\n",
    "marxes\n"
   ]
  },
  {
   "cell_type": "code",
   "execution_count": 30,
   "metadata": {},
   "outputs": [
    {
     "data": {
      "text/plain": [
       "['blah', 'blah', 'blah']"
      ]
     },
     "execution_count": 30,
     "metadata": {},
     "output_type": "execute_result"
    }
   ],
   "source": [
    "# 用*來重複項目\n",
    "['blah']*3"
   ]
  },
  {
   "cell_type": "code",
   "execution_count": 33,
   "metadata": {},
   "outputs": [
    {
     "data": {
      "text/plain": [
       "['Groucho', 'Chico', 'Gummo', 'Harpo', 'Zeppo', 'Gummo', 'Karl']"
      ]
     },
     "execution_count": 33,
     "metadata": {},
     "output_type": "execute_result"
    }
   ],
   "source": [
    "# 用extend() 或 + 來結合串列\n",
    "marxes = ['Groucho', 'Chico', 'Gummo', 'Harpo', 'Zeppo']\n",
    "others = ['Gummo','Karl']\n",
    "marxes.extend(others)\n",
    "marxes\n"
   ]
  },
  {
   "cell_type": "code",
   "execution_count": 35,
   "metadata": {},
   "outputs": [
    {
     "data": {
      "text/plain": [
       "['Groucho', 'Chico', 'Gummo', 'Harpo', 'Zeppo', 'Gummo', 'Karl']"
      ]
     },
     "execution_count": 35,
     "metadata": {},
     "output_type": "execute_result"
    }
   ],
   "source": [
    "# 使用+ or +=\n",
    "marxes = ['Groucho', 'Chico', 'Gummo', 'Harpo', 'Zeppo']\n",
    "others = ['Gummo','Karl']\n",
    "marxes +=others\n",
    "marxes"
   ]
  },
  {
   "cell_type": "code",
   "execution_count": 36,
   "metadata": {},
   "outputs": [
    {
     "data": {
      "text/plain": [
       "['Groucho', 'Chico', 'Gummo', 'Harpo', 'Zeppo', ['Gummo', 'Karl']]"
      ]
     },
     "execution_count": 36,
     "metadata": {},
     "output_type": "execute_result"
    }
   ],
   "source": [
    "# 使用append(), 但就會將others 當作是串列項目加入,而不是併入它的項目\n",
    "marxes = ['Groucho', 'Chico', 'Gummo', 'Harpo', 'Zeppo']\n",
    "others = ['Gummo','Karl']\n",
    "marxes.append(others)\n",
    "\n",
    "marxes"
   ]
  },
  {
   "cell_type": "code",
   "execution_count": 37,
   "metadata": {},
   "outputs": [
    {
     "data": {
      "text/plain": [
       "['Groucho', 'Chico', 'Wanda']"
      ]
     },
     "execution_count": 37,
     "metadata": {},
     "output_type": "execute_result"
    }
   ],
   "source": [
    "# 用 [Offset] 來更改一個項目\n",
    "marxes = ['Groucho','Chico','Harpo']\n",
    "marxes[2] = 'Wanda'\n",
    "marxes"
   ]
  },
  {
   "cell_type": "code",
   "execution_count": 5,
   "metadata": {},
   "outputs": [
    {
     "data": {
      "text/plain": [
       "[1, 'w', 'a', 't', '?', 4]"
      ]
     },
     "execution_count": 5,
     "metadata": {},
     "output_type": "execute_result"
    }
   ],
   "source": [
    "#用 slice 改變項目\n",
    "numbers = [1,2,3,4]\n",
    "#numbers[1:3]=[8,9]\n",
    "#numbers\n",
    "#numbers[1:3]=[7,8,9]\n",
    "#numbers\n",
    "# numbers[1:3] = []\n",
    "# numbers\n",
    "numbers[1:3] = 'wat?'\n",
    "numbers"
   ]
  },
  {
   "cell_type": "code",
   "execution_count": 7,
   "metadata": {},
   "outputs": [
    {
     "data": {
      "text/plain": [
       "['Groucho', 'Chico', 'Harpo', 'Gummo']"
      ]
     },
     "execution_count": 7,
     "metadata": {},
     "output_type": "execute_result"
    }
   ],
   "source": [
    "#用del和offset刪除一個項目\n",
    "marxes = ['Groucho', 'Chico', 'Harpo', 'Gummo','Karl']\n",
    "marxes[-1]\n",
    "del marxes[-1]\n",
    "marxes"
   ]
  },
  {
   "cell_type": "code",
   "execution_count": 8,
   "metadata": {},
   "outputs": [
    {
     "data": {
      "text/plain": [
       "['Groucho', 'Harpo', 'Gummo', 'Karl']"
      ]
     },
     "execution_count": 8,
     "metadata": {},
     "output_type": "execute_result"
    }
   ],
   "source": [
    "#用del和offset刪除一個項目\n",
    "marxes = ['Groucho', 'Chico', 'Harpo', 'Gummo','Karl']\n",
    "del marxes[1]\n",
    "marxes"
   ]
  },
  {
   "cell_type": "code",
   "execution_count": 18,
   "metadata": {},
   "outputs": [
    {
     "data": {
      "text/plain": [
       "['Chico', 'Harpo']"
      ]
     },
     "execution_count": 18,
     "metadata": {},
     "output_type": "execute_result"
    }
   ],
   "source": [
    "#用remove()與值來刪除項目\n",
    "marxes = ['Groucho', 'Chico', 'Harpo']\n",
    "marxes.remove('Groucho')\n",
    "marxes"
   ]
  },
  {
   "cell_type": "code",
   "execution_count": 23,
   "metadata": {},
   "outputs": [
    {
     "data": {
      "text/plain": [
       "['Groucho', 'Harpo']"
      ]
     },
     "execution_count": 23,
     "metadata": {},
     "output_type": "execute_result"
    }
   ],
   "source": [
    "#用pop()與offset取出項目並刪除它\n",
    "marxes = ['Groucho', 'Chico', 'Harpo', 'Zeppo']\n",
    "marxes.pop()\n",
    "marxes\n",
    "marxes.pop(1)\n",
    "marxes"
   ]
  },
  {
   "cell_type": "code",
   "execution_count": 24,
   "metadata": {},
   "outputs": [
    {
     "data": {
      "text/plain": [
       "[]"
      ]
     },
     "execution_count": 24,
     "metadata": {},
     "output_type": "execute_result"
    }
   ],
   "source": [
    "#用clear()刪除所有項目\n",
    "marxes = ['Groucho', 'Chico', 'Harpo', 'Zeppo']\n",
    "marxes.clear()\n",
    "marxes\n"
   ]
  },
  {
   "cell_type": "code",
   "execution_count": 29,
   "metadata": {},
   "outputs": [
    {
     "data": {
      "text/plain": [
       "1"
      ]
     },
     "execution_count": 29,
     "metadata": {},
     "output_type": "execute_result"
    }
   ],
   "source": [
    "#用index()和值來找項目的offset\n",
    "marxes = ['Groucho', 'Chico', 'Harpo', 'Zeppo']\n",
    "marxes.index('Chico')\n",
    "marxes.index('Zeppo')\n",
    "#如果串列裡面的項目相同超過一個, 它只會回傳遞一個offset\n",
    "marxes = ['Groucho', 'Chico', 'Harpo', 'Zeppo','Chico']\n",
    "marxes.index('Chico')"
   ]
  },
  {
   "cell_type": "code",
   "execution_count": 33,
   "metadata": {},
   "outputs": [
    {
     "data": {
      "text/plain": [
       "True"
      ]
     },
     "execution_count": 33,
     "metadata": {},
     "output_type": "execute_result"
    }
   ],
   "source": [
    "#用in來檢測值是否存在\n",
    "marxes = ['Groucho', 'Chico', 'Harpo', 'Zeppo']\n",
    "'Groucho' in marxes\n",
    "'Wally' in marxes\n",
    "#同一個值可能出現在串列的多個位置, 至少他出現過一次, in就會回傳true\n",
    "marxes = ['Groucho', 'Chico', 'Harpo', 'Zeppo','Chico']\n",
    "'Chico' in marxes \n"
   ]
  },
  {
   "cell_type": "code",
   "execution_count": null,
   "metadata": {},
   "outputs": [],
   "source": []
  },
  {
   "cell_type": "code",
   "execution_count": null,
   "metadata": {},
   "outputs": [],
   "source": []
  }
 ],
 "metadata": {
  "kernelspec": {
   "display_name": "Python 3 (ipykernel)",
   "language": "python",
   "name": "python3"
  },
  "language_info": {
   "codemirror_mode": {
    "name": "ipython",
    "version": 3
   },
   "file_extension": ".py",
   "mimetype": "text/x-python",
   "name": "python",
   "nbconvert_exporter": "python",
   "pygments_lexer": "ipython3",
   "version": "3.10.10"
  }
 },
 "nbformat": 4,
 "nbformat_minor": 4
}
