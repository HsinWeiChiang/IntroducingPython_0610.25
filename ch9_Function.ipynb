{
 "cells": [
  {
   "cell_type": "code",
   "execution_count": 6,
   "id": "d07d3c66",
   "metadata": {},
   "outputs": [],
   "source": [
    "#############函式\n",
    "#def 定義函式\n",
    "def do_nothing():\n",
    "    pass"
   ]
  },
  {
   "cell_type": "code",
   "execution_count": 8,
   "id": "098bd13a",
   "metadata": {},
   "outputs": [],
   "source": [
    "#用小括弧呼叫函式\n",
    "do_nothing()"
   ]
  },
  {
   "cell_type": "code",
   "execution_count": 12,
   "id": "039a359e",
   "metadata": {},
   "outputs": [
    {
     "name": "stdout",
     "output_type": "stream",
     "text": [
      "quack\n"
     ]
    }
   ],
   "source": [
    "def make_a_sound():\n",
    "    print('quack')\n",
    "\n",
    "make_a_sound()"
   ]
  },
  {
   "cell_type": "code",
   "execution_count": 14,
   "id": "e4f184ce",
   "metadata": {},
   "outputs": [
    {
     "data": {
      "text/plain": [
       "True"
      ]
     },
     "execution_count": 14,
     "metadata": {},
     "output_type": "execute_result"
    }
   ],
   "source": [
    "#沒有參數, 但回傳一個值的函式-\n",
    "def agree():\n",
    "    return True\n",
    "agree()"
   ]
  },
  {
   "cell_type": "code",
   "execution_count": 15,
   "id": "afecdb0d",
   "metadata": {},
   "outputs": [
    {
     "name": "stdout",
     "output_type": "stream",
     "text": [
      "Splendid!\n"
     ]
    }
   ],
   "source": [
    "#可以用if來呼叫這個函式, 並測試他的回傳值-\n",
    "if agree():\n",
    "    print('Splendid!')\n",
    "else:\n",
    "    print('That was unexpected.')\n"
   ]
  },
  {
   "cell_type": "code",
   "execution_count": 19,
   "id": "87f7791e",
   "metadata": {},
   "outputs": [
    {
     "data": {
      "text/plain": [
       "'Wally is Wally'"
      ]
     },
     "execution_count": 19,
     "metadata": {},
     "output_type": "execute_result"
    }
   ],
   "source": [
    "#引數與參數- 接下來要將依些東西放在小括號裡面, 來定義 函式echo(), 讓它有一個稱為 anything的參數, 它使用return 陳述式 來將兩個anything之間加上空格, 一起回傳給呼叫方-\n",
    "def echo(anything):\n",
    "    return anything  + ' is ' + anything\n",
    "\n",
    "echo('Wally')"
   ]
  },
  {
   "cell_type": "code",
   "execution_count": 27,
   "id": "770e036a",
   "metadata": {},
   "outputs": [
    {
     "data": {
      "text/plain": [
       "\"I've never heard of the color blue.\""
      ]
     },
     "execution_count": 27,
     "metadata": {},
     "output_type": "execute_result"
    }
   ],
   "source": [
    "#寫一個接收一個輸入引數, 實際用它來做一些事情的函式- commentary, 並由他來接收一個輸入字串參數, 稱為color\n",
    "def commentary(color):\n",
    "    if color == 'red':\n",
    "        return \"It's a tomato.\"\n",
    "    elif color == 'green':\n",
    "        return \"It's a green pepper.\"\n",
    "    elif color == 'green':\n",
    "        return \"It's a green pepper.\"\n",
    "    else:\n",
    "        return \"I've never heard of the color \" +  color + \".\"\n",
    "commentary('blue')"
   ]
  },
  {
   "cell_type": "code",
   "execution_count": 1,
   "id": "b7891cf8",
   "metadata": {},
   "outputs": [
    {
     "name": "stdout",
     "output_type": "stream",
     "text": [
      "It's no thing\n"
     ]
    }
   ],
   "source": [
    "#None是有用的-\n",
    "# None是一種特殊的Python值, 他與布林值False不一樣，雖然他被當成布林值時, 會被視為False-\n",
    "\n",
    "thing = None\n",
    "if thing:\n",
    "    print(\"It's some thing\")\n",
    "else:\n",
    "    print(\"It's no thing\")    "
   ]
  },
  {
   "cell_type": "code",
   "execution_count": 2,
   "id": "2e3bbee9",
   "metadata": {},
   "outputs": [
    {
     "name": "stdout",
     "output_type": "stream",
     "text": [
      "It's nothing\n"
     ]
    }
   ],
   "source": [
    "#可以用Python的is運算子 來區分 None 與 布林值 False:\n",
    "thing = None\n",
    "if thing is None:\n",
    "    print(\"It's nothing\")\n",
    "else:\n",
    "    print(\"It's something\")"
   ]
  },
  {
   "cell_type": "code",
   "execution_count": null,
   "id": "9e10dd9a",
   "metadata": {},
   "outputs": [],
   "source": [
    "#這個差異看起來微不足道, 但在Python非常重要, 可以用 None來區分- 缺漏值(missing value)與 空值(empty value). \n",
    "# 零值的整數/浮點數/空字串''/串列[]/tuple(,)/字典{}/集合set()都是False\n",
    "# 但他們都不等於None"
   ]
  },
  {
   "cell_type": "code",
   "execution_count": 10,
   "id": "f3f47c3e",
   "metadata": {},
   "outputs": [],
   "source": [
    "#寫一簡單函式, 印出引數是None, True, False:\n",
    "def whatis(thing):\n",
    "    if thing is None:    \n",
    "        print(thing, \"is None\")\n",
    "    elif thing:\n",
    "        print(thing, \"is True\")\n",
    "    else:\n",
    "        print(thing, \"is False\")\n"
   ]
  },
  {
   "cell_type": "code",
   "execution_count": 11,
   "id": "69d40148",
   "metadata": {},
   "outputs": [
    {
     "name": "stdout",
     "output_type": "stream",
     "text": [
      "None is None\n"
     ]
    }
   ],
   "source": [
    "whatis(None)"
   ]
  },
  {
   "cell_type": "code",
   "execution_count": 12,
   "id": "aff56955",
   "metadata": {},
   "outputs": [
    {
     "name": "stdout",
     "output_type": "stream",
     "text": [
      "True is True\n"
     ]
    }
   ],
   "source": [
    "whatis(True)"
   ]
  },
  {
   "cell_type": "code",
   "execution_count": 13,
   "id": "6fac7d8e",
   "metadata": {},
   "outputs": [
    {
     "name": "stdout",
     "output_type": "stream",
     "text": [
      "False is False\n"
     ]
    }
   ],
   "source": [
    "whatis(False)"
   ]
  },
  {
   "cell_type": "code",
   "execution_count": 14,
   "id": "3cc95072",
   "metadata": {},
   "outputs": [
    {
     "name": "stdout",
     "output_type": "stream",
     "text": [
      "0 is False\n"
     ]
    }
   ],
   "source": [
    "whatis(0)"
   ]
  },
  {
   "cell_type": "code",
   "execution_count": 15,
   "id": "cdf0f2b3",
   "metadata": {},
   "outputs": [],
   "source": [
    "#位置性引數- 函式引數最常見的是 位置引數(positional argument), 它們的值會被依序複製到對應的參數.\n",
    "#這個函式使用他的位置引數建立一個字典, 並回傳它\n",
    "def menu(wine, entree, dessert):\n",
    "    return {'wine': wine, 'entree': entree, 'dessert': dessert}"
   ]
  },
  {
   "cell_type": "code",
   "execution_count": 16,
   "id": "dd5e0ff1",
   "metadata": {},
   "outputs": [
    {
     "data": {
      "text/plain": [
       "{'wine': 'chardonnay', 'entree': 'chicken', 'dessert': 'cake'}"
      ]
     },
     "execution_count": 16,
     "metadata": {},
     "output_type": "execute_result"
    }
   ],
   "source": [
    "menu ('chardonnay', 'chicken', 'cake')"
   ]
  },
  {
   "cell_type": "code",
   "execution_count": 17,
   "id": "366baf9e",
   "metadata": {},
   "outputs": [
    {
     "data": {
      "text/plain": [
       "{'wine': 'beef', 'entree': 'bagel', 'dessert': 'bordeaux'}"
      ]
     },
     "execution_count": 17,
     "metadata": {},
     "output_type": "execute_result"
    }
   ],
   "source": [
    "#雖然位置函數很常見, 但它的缺點為 必須記得每個位置的意思, 如果忘記, 呼叫menu()時, 將wine放在最後一個引數傳入,而不是第一個 會得到意外的一餐-\n",
    "menu('beef','bagel','bordeaux')"
   ]
  },
  {
   "cell_type": "code",
   "execution_count": null,
   "id": "53d71538",
   "metadata": {},
   "outputs": [
    {
     "data": {
      "text/plain": [
       "{'wine': 'boardeaux', 'entree': 'beef', 'dessert': 'bagel'}"
      ]
     },
     "execution_count": 19,
     "metadata": {},
     "output_type": "execute_result"
    }
   ],
   "source": [
    "#關鍵引數- 為了避免位置引數造成混亂, 可以用 引數對應的參數名稱來指定引數, 即使指定引W數與函式定義式不同也沒問題:\n",
    "menu(entree= 'beef', dessert = 'bagel', wine = 'boardeaux')\n",
    "\n"
   ]
  },
  {
   "cell_type": "code",
   "execution_count": 24,
   "id": "1b8a30a4",
   "metadata": {},
   "outputs": [
    {
     "data": {
      "text/plain": [
       "{'wine': 'frontenac', 'entree': 'fish', 'dessert': 'flan'}"
      ]
     },
     "execution_count": 24,
     "metadata": {},
     "output_type": "execute_result"
    }
   ],
   "source": [
    "#可以混合使用位置與關鍵字引數, 先指定wine, 但關鍵字引數來指定entree與dessert:\n",
    "menu('frontenac', dessert= 'flan', entree = 'fish')"
   ]
  },
  {
   "cell_type": "code",
   "execution_count": 25,
   "id": "1312fdc1",
   "metadata": {},
   "outputs": [],
   "source": [
    "#同時使用 位置與關鍵字引數來呼叫函式, 必須將位置引數放在前面-"
   ]
  },
  {
   "cell_type": "code",
   "execution_count": 3,
   "id": "57ed4a6d",
   "metadata": {},
   "outputs": [],
   "source": [
    "#指定預設參數值- 可以為參數指定預設值,這些預設值會在呼叫方沒有提供相應的引述時使用, 這種平淡無奇的功能有時會立下大功-\n",
    "def menu(wine, entree, dessert= 'pudding'):\n",
    "    return {'wine': wine, 'entree': entree, 'dessert': dessert}\n",
    "\n"
   ]
  },
  {
   "cell_type": "code",
   "execution_count": 4,
   "id": "3b349bbd",
   "metadata": {},
   "outputs": [
    {
     "data": {
      "text/plain": [
       "{'wine': 'chardonnay', 'entree': 'chicken', 'dessert': 'pudding'}"
      ]
     },
     "execution_count": 4,
     "metadata": {},
     "output_type": "execute_result"
    }
   ],
   "source": [
    "#試著呼叫menu()時,不使用dessert引數:\n",
    "menu('chardonnay', 'chicken')"
   ]
  },
  {
   "cell_type": "code",
   "execution_count": 6,
   "id": "99156969",
   "metadata": {},
   "outputs": [
    {
     "data": {
      "text/plain": [
       "{'wine': 'dunkelfelder', 'entree': 'duck', 'dessert': 'doughnut'}"
      ]
     },
     "execution_count": 6,
     "metadata": {},
     "output_type": "execute_result"
    }
   ],
   "source": [
    "#當提供引數時, 函式就會使用他, 而不是預設值-\n",
    "menu('dunkelfelder','duck', 'doughnut')"
   ]
  },
  {
   "cell_type": "code",
   "execution_count": 7,
   "id": "a5a28914",
   "metadata": {},
   "outputs": [],
   "source": [
    "#預設的參數值是在函式被定義的時候計算的, 並非在執行的時候.\n",
    "#Python新手 經常做錯一件事(稍具經驗的人有時也會)- 將可辨的資料型態(ex: 串列或字典)當成預設參數來使用"
   ]
  },
  {
   "cell_type": "code",
   "execution_count": 12,
   "id": "406cb7ad",
   "metadata": {},
   "outputs": [
    {
     "name": "stdout",
     "output_type": "stream",
     "text": [
      "['a']\n"
     ]
    }
   ],
   "source": [
    "def buggy(arg, result=[]):\n",
    "    result.append(arg)\n",
    "    print(result)\n",
    "buggy('a')\n",
    "    \n",
    "    "
   ]
  },
  {
   "cell_type": "code",
   "execution_count": 9,
   "id": "a231cfd7",
   "metadata": {},
   "outputs": [
    {
     "name": "stdout",
     "output_type": "stream",
     "text": [
      "['a', 'b']\n"
     ]
    }
   ],
   "source": [
    "buggy('b')"
   ]
  },
  {
   "cell_type": "code",
   "execution_count": 16,
   "id": "f6a027ba",
   "metadata": {},
   "outputs": [],
   "source": [
    "#這樣寫可以正常運作\n",
    "def works(arg):\n",
    "    result= []\n",
    "    result.append(arg)\n",
    "    return result"
   ]
  },
  {
   "cell_type": "code",
   "execution_count": 17,
   "id": "f5397bd7",
   "metadata": {},
   "outputs": [
    {
     "data": {
      "text/plain": [
       "['a']"
      ]
     },
     "execution_count": 17,
     "metadata": {},
     "output_type": "execute_result"
    }
   ],
   "source": [
    "works('a')"
   ]
  },
  {
   "cell_type": "code",
   "execution_count": 18,
   "id": "bbb59475",
   "metadata": {},
   "outputs": [
    {
     "data": {
      "text/plain": [
       "['b']"
      ]
     },
     "execution_count": 18,
     "metadata": {},
     "output_type": "execute_result"
    }
   ],
   "source": [
    "works('b')"
   ]
  },
  {
   "cell_type": "code",
   "execution_count": 20,
   "id": "f7af625c",
   "metadata": {},
   "outputs": [],
   "source": [
    "#修正的做法事傳入別的東西來代表第一次呼叫:\n",
    "def nonbuggy(arg, result = None):\n",
    "    if result is None:\n",
    "        result = []\n",
    "        result.append(arg)\n",
    "        print(result)\n",
    "    "
   ]
  },
  {
   "cell_type": "code",
   "execution_count": null,
   "id": "9ed19d36",
   "metadata": {},
   "outputs": [
    {
     "name": "stdout",
     "output_type": "stream",
     "text": [
      "['a']\n"
     ]
    }
   ],
   "source": [
    "nonbuggy('a')"
   ]
  },
  {
   "cell_type": "code",
   "execution_count": 22,
   "id": "a10ac626",
   "metadata": {},
   "outputs": [
    {
     "name": "stdout",
     "output_type": "stream",
     "text": [
      "['b']\n"
     ]
    }
   ],
   "source": [
    "nonbuggy('b')"
   ]
  },
  {
   "cell_type": "code",
   "execution_count": 24,
   "id": "a7abb281",
   "metadata": {},
   "outputs": [],
   "source": [
    "# 用*來炸開/收集 位置引數-\n",
    "# 在函式參數裡面的星號可以將數量不一定的位置引數組成一個參數值tuple, 在下列的例子中,args是個參數tuple, 他是以傳給print_args()函式的零個以上引數產生\n",
    "def print_args(*args):\n",
    "    print('Postional tuple:', args)\n"
   ]
  },
  {
   "cell_type": "code",
   "execution_count": 25,
   "id": "0c40c7b3",
   "metadata": {},
   "outputs": [
    {
     "name": "stdout",
     "output_type": "stream",
     "text": [
      "Postional tuple: ()\n"
     ]
    }
   ],
   "source": [
    "print_args()"
   ]
  },
  {
   "cell_type": "code",
   "execution_count": 26,
   "id": "7f102482",
   "metadata": {},
   "outputs": [
    {
     "name": "stdout",
     "output_type": "stream",
     "text": [
      "Postional tuple: (3, 2, 1, 'wait!', 'uh.....')\n"
     ]
    }
   ],
   "source": [
    "#傳給它的任何東西都會以args tuple印出:\n",
    "print_args(3,2,1, 'wait!','uh.....')"
   ]
  },
  {
   "cell_type": "code",
   "execution_count": 28,
   "id": "93c050fd",
   "metadata": {},
   "outputs": [],
   "source": [
    "#如果函式也需要位置引數，要把它在前面, 將*args放在最前面,讓他可以抓取所有其餘的引數:\n",
    "def print_more(required1, required2, *args):\n",
    "    print('Need this one:', required1)\n",
    "    print('Need this one too:', required2)\n",
    "    print('All the rest:', args)\n"
   ]
  },
  {
   "cell_type": "code",
   "execution_count": 29,
   "id": "5fde4ca8",
   "metadata": {},
   "outputs": [
    {
     "name": "stdout",
     "output_type": "stream",
     "text": [
      "Need this one: cap\n",
      "Need this one too: gloves\n",
      "All the rest: ('scarf', 'monocle', 'mustache wax')\n"
     ]
    }
   ],
   "source": [
    "print_more('cap','gloves','scarf','monocle','mustache wax')"
   ]
  },
  {
   "cell_type": "code",
   "execution_count": 30,
   "id": "68a4a77d",
   "metadata": {},
   "outputs": [],
   "source": [
    "# 用**來炸開/收集關鍵字引數"
   ]
  },
  {
   "cell_type": "code",
   "execution_count": 31,
   "id": "63026e5e",
   "metadata": {},
   "outputs": [],
   "source": [
    "# 純關鍵字引數"
   ]
  },
  {
   "cell_type": "code",
   "execution_count": 32,
   "id": "3ec9607d",
   "metadata": {},
   "outputs": [],
   "source": [
    "# 可變與不可變引數"
   ]
  },
  {
   "cell_type": "code",
   "execution_count": 33,
   "id": "09d25d1d",
   "metadata": {},
   "outputs": [],
   "source": [
    "# Docstrings"
   ]
  },
  {
   "cell_type": "code",
   "execution_count": 34,
   "id": "f3cd65bb",
   "metadata": {},
   "outputs": [],
   "source": [
    "# 函式是一級公民"
   ]
  },
  {
   "cell_type": "code",
   "execution_count": 35,
   "id": "6104bccb",
   "metadata": {},
   "outputs": [],
   "source": [
    "# 內部函式"
   ]
  },
  {
   "cell_type": "code",
   "execution_count": 36,
   "id": "164ec47a",
   "metadata": {},
   "outputs": [],
   "source": [
    "# 匿名函式: lambda"
   ]
  },
  {
   "cell_type": "code",
   "execution_count": null,
   "id": "0e2da718",
   "metadata": {},
   "outputs": [],
   "source": [
    "# 產生器"
   ]
  },
  {
   "cell_type": "code",
   "execution_count": 38,
   "id": "4392e26f",
   "metadata": {},
   "outputs": [],
   "source": [
    "# 產生器函式"
   ]
  },
  {
   "cell_type": "code",
   "execution_count": 39,
   "id": "ed0f2584",
   "metadata": {},
   "outputs": [],
   "source": [
    "#產生器生成式"
   ]
  },
  {
   "cell_type": "code",
   "execution_count": 40,
   "id": "24e395eb",
   "metadata": {},
   "outputs": [],
   "source": [
    "# 裝飾器"
   ]
  },
  {
   "cell_type": "code",
   "execution_count": null,
   "id": "512b0d20",
   "metadata": {},
   "outputs": [],
   "source": [
    "# 名稱空間與作用域"
   ]
  },
  {
   "cell_type": "code",
   "execution_count": 42,
   "id": "c9012ad2",
   "metadata": {},
   "outputs": [],
   "source": [
    "# 在名稱內使用_與_"
   ]
  },
  {
   "cell_type": "code",
   "execution_count": null,
   "id": "f20ff641",
   "metadata": {},
   "outputs": [],
   "source": [
    "# 遞迴"
   ]
  },
  {
   "cell_type": "code",
   "execution_count": 44,
   "id": "f6af469c",
   "metadata": {},
   "outputs": [],
   "source": [
    "# 非同步函式"
   ]
  },
  {
   "cell_type": "code",
   "execution_count": 45,
   "id": "420b654f",
   "metadata": {},
   "outputs": [],
   "source": [
    "# 例外"
   ]
  },
  {
   "cell_type": "code",
   "execution_count": 46,
   "id": "273404c7",
   "metadata": {},
   "outputs": [],
   "source": [
    "# 用try 和 except 來處理錯誤"
   ]
  },
  {
   "cell_type": "code",
   "execution_count": null,
   "id": "96cbc9db",
   "metadata": {},
   "outputs": [],
   "source": [
    "# 製作自己的例外"
   ]
  }
 ],
 "metadata": {
  "kernelspec": {
   "display_name": "Python 3",
   "language": "python",
   "name": "python3"
  },
  "language_info": {
   "codemirror_mode": {
    "name": "ipython",
    "version": 3
   },
   "file_extension": ".py",
   "mimetype": "text/x-python",
   "name": "python",
   "nbconvert_exporter": "python",
   "pygments_lexer": "ipython3",
   "version": "3.11.9"
  }
 },
 "nbformat": 4,
 "nbformat_minor": 5
}
