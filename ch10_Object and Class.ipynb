{
 "cells": [
  {
   "cell_type": "code",
   "execution_count": null,
   "id": "62111509",
   "metadata": {},
   "outputs": [],
   "source": [
    "# Python 任何東西從數字到函式, 全部都是物件. 但Python用特殊的語法將大部分的物件都隱藏起來.\n",
    "\n",
    "# 甚麼是物件?- 物件是一種自訂的資料結構,裡面有資料(變數, 稱為屬性),以及程式碼(函式,稱為方法). 它代表某種具體東西的唯一實例.\n",
    "# 你可以將物件想像成名詞, 他們的方法想成動詞; 一個物件代表一個單獨的事物, 它的方法定義它和其他事物如何互動\n",
    "# 例如, 值為7的整數物件代表有個加法與乘法的物件, 它就像第3章介紹的那樣; 8是不同物件, 這代表python在某個地方內建了一個整數類別, 7與8都屬於那個類別\n",
    "# 字串'cat'與'duck'也是Python的物件,並且擁有第5章介紹過的字串方法.例如- capitalize()與replace()\n"
   ]
  },
  {
   "cell_type": "code",
   "execution_count": null,
   "id": "dfa565b8",
   "metadata": {},
   "outputs": [],
   "source": [
    "# 簡單的物件- 先從簡單的物件類別開始-\n",
    "# 假設想要定義 代表貓咪資訊的物件, 用每一個物件代表一隻貓,要先定義一個稱為Cat的類別,把它當作模具\n",
    "\n",
    "class Cat():\n",
    "    pass\n",
    "\n",
    "a_cat = Cat()\n",
    "another_cat = Cat()\n"
   ]
  },
  {
   "cell_type": "code",
   "execution_count": 8,
   "id": "648b2d68",
   "metadata": {},
   "outputs": [
    {
     "data": {
      "text/plain": [
       "<__main__.Cat at 0x1aa4381dd10>"
      ]
     },
     "execution_count": 8,
     "metadata": {},
     "output_type": "execute_result"
    }
   ],
   "source": [
    "#屬性- 是一種在類別或物件裡面的變數,你可以在建立物件或類別期間或之後指派屬性給它. 屬性可為任何其他物件\n",
    "class Cat:\n",
    "    pass\n",
    "\n",
    "a_cat = Cat()\n",
    "a_cat\n",
    "another_cat = Cat()\n",
    "another_cat\n"
   ]
  },
  {
   "cell_type": "code",
   "execution_count": 10,
   "id": "ca392236",
   "metadata": {},
   "outputs": [],
   "source": [
    "#現在將一些屬性指派給第一個物件:\n",
    "a_cat.age = 3\n",
    "a_cat.name = 'Mr. Fuzzybuttons'\n",
    "a_cat.nemesis = another_cat"
   ]
  },
  {
   "cell_type": "code",
   "execution_count": 11,
   "id": "83d07c41",
   "metadata": {},
   "outputs": [
    {
     "data": {
      "text/plain": [
       "3"
      ]
     },
     "execution_count": 11,
     "metadata": {},
     "output_type": "execute_result"
    }
   ],
   "source": [
    "a_cat.age"
   ]
  },
  {
   "cell_type": "code",
   "execution_count": 12,
   "id": "c46474b6",
   "metadata": {},
   "outputs": [
    {
     "data": {
      "text/plain": [
       "'Mr. Fuzzybuttons'"
      ]
     },
     "execution_count": 12,
     "metadata": {},
     "output_type": "execute_result"
    }
   ],
   "source": [
    "a_cat.name"
   ]
  },
  {
   "cell_type": "code",
   "execution_count": 13,
   "id": "25d2a397",
   "metadata": {},
   "outputs": [
    {
     "data": {
      "text/plain": [
       "<__main__.Cat at 0x1aa4381dd10>"
      ]
     },
     "execution_count": 13,
     "metadata": {},
     "output_type": "execute_result"
    }
   ],
   "source": [
    "a_cat.nemesis"
   ]
  },
  {
   "cell_type": "code",
   "execution_count": 14,
   "id": "5e11184a",
   "metadata": {},
   "outputs": [
    {
     "ename": "AttributeError",
     "evalue": "'Cat' object has no attribute 'name'",
     "output_type": "error",
     "traceback": [
      "\u001b[31m---------------------------------------------------------------------------\u001b[39m",
      "\u001b[31mAttributeError\u001b[39m                            Traceback (most recent call last)",
      "\u001b[36mCell\u001b[39m\u001b[36m \u001b[39m\u001b[32mIn[14]\u001b[39m\u001b[32m, line 1\u001b[39m\n\u001b[32m----> \u001b[39m\u001b[32m1\u001b[39m \u001b[43ma_cat\u001b[49m\u001b[43m.\u001b[49m\u001b[43mnemesis\u001b[49m\u001b[43m.\u001b[49m\u001b[43mname\u001b[49m\n",
      "\u001b[31mAttributeError\u001b[39m: 'Cat' object has no attribute 'name'"
     ]
    }
   ],
   "source": [
    "a_cat.nemesis.name"
   ]
  },
  {
   "cell_type": "code",
   "execution_count": 16,
   "id": "9351c410",
   "metadata": {},
   "outputs": [
    {
     "data": {
      "text/plain": [
       "'Mr. Bigglesworth'"
      ]
     },
     "execution_count": 16,
     "metadata": {},
     "output_type": "execute_result"
    }
   ],
   "source": [
    "a_cat.nemesis.name = 'Mr. Bigglesworth'\n",
    "a_cat.nemesis.name"
   ]
  },
  {
   "cell_type": "code",
   "execution_count": null,
   "id": "5d7e7eb7",
   "metadata": {},
   "outputs": [],
   "source": [
    "# 就連這種極簡單的物件也可以儲存多個屬性. 所以你可以使用多個物件來儲存不同的值, 用來取代處列或字典之類的東西\n",
    "# 你聽到的屬性(attribute)通常代表物件屬性. 此外, 還有類別屬性, 你會在p193的 \"類別與物件屬性\" 看到他們的差異"
   ]
  },
  {
   "cell_type": "code",
   "execution_count": null,
   "id": "de293bf0",
   "metadata": {},
   "outputs": [],
   "source": [
    "# 方法- 在類別或物件裡面的函式. 方法看起來很像其他函式. 但是有特殊的用法, 將在p189 的 \"用來儲存屬性property\" 與 p193的方法型態 看到\n",
    "\n",
    "# 初始化- 想要建立其指派物件屬性, 要使用特殊的Python物件初始化方法 __init__\n",
    "\n",
    "class Cat:\n",
    "    def __init__(self):\n",
    "        pass\n",
    "\n",
    "\n",
    "# 類別定義式中, __int__()式特殊的Python方法名稱, 它的功能是在類別定義初始化個別的物件, self引數則代表它引用個別物件本身\n",
    "\n"
   ]
  },
  {
   "cell_type": "code",
   "execution_count": 8,
   "id": "c2ed0421",
   "metadata": {},
   "outputs": [
    {
     "name": "stdout",
     "output_type": "stream",
     "text": [
      "Our latest addition: Grumpy\n"
     ]
    }
   ],
   "source": [
    "# 建立一簡單的物件並指派他一個屬性\n",
    "class Cat():\n",
    "    def __init__(self, name):\n",
    "        self.name = name\n",
    "\n",
    "furball = Cat('Grumpy')\n",
    "\n",
    "#以上程式做了做了這些事-\n",
    "## 查看Cat類別定義\n",
    "## 在記憶體中實例化(建立)一個新物件\n",
    "## 呼叫該物件的 __init__()方法, 將這個新建立的物件傳給self, 將另一個引數'Grumpy' 傳給name\n",
    "## 在物件中儲存name的值\n",
    "## 回傳新物件\n",
    "## 將物件指派給變數furball\n",
    "\n",
    "print('Our latest addition:', furball.name)\n"
   ]
  },
  {
   "cell_type": "code",
   "execution_count": 9,
   "id": "ba58aa2e",
   "metadata": {},
   "outputs": [],
   "source": [
    "# 記得在Cat類別定義式裡面, 可以用self.name 來存取name屬性, 當你建立實際的物件, 並將它指派給一個變數, ex: furball時, 可以用furball.name \n",
    "# 來引用 name 屬性"
   ]
  },
  {
   "cell_type": "code",
   "execution_count": null,
   "id": "009a64f6",
   "metadata": {},
   "outputs": [],
   "source": [
    "# 繼承- 當你試著解決程式問題時, 通常可以發現, 已經既有的類別可以建立滿足需求的物件, 此時可以怎麼做?\n",
    "# 雖然你可以修改就類別, 但修改它會將它複雜化, 甚至破壞原本正常的功能\n",
    "# 也可以寫一個新類別, 剪下舊程式, 貼在新的類別裡面, 並且加入你的新程式, 但這作法代表要維護更多程式碼與原本動作一致的新舊類別之間分歧可能會越來越大\n",
    "# 有一種方式為 使用 \"繼承\"- 用既有類別建立一個新的類別, 但加入一些新東西或修改它. 這是重覆使用程式碼的好方法.\n",
    "# 當你使用繼承時, 新類別可以自動使用舊類別的所有程式碼, 不需要複製任何舊程式"
   ]
  },
  {
   "cell_type": "code",
   "execution_count": null,
   "id": "9974f959",
   "metadata": {},
   "outputs": [],
   "source": [
    "# 從父類別繼承-\n",
    "class Car():\n",
    "    pass"
   ]
  },
  {
   "cell_type": "code",
   "execution_count": 11,
   "id": "933ba644",
   "metadata": {},
   "outputs": [],
   "source": [
    "class Yugo(Car):\n",
    "    pass"
   ]
  },
  {
   "cell_type": "code",
   "execution_count": 15,
   "id": "3228c512",
   "metadata": {},
   "outputs": [
    {
     "data": {
      "text/plain": [
       "True"
      ]
     },
     "execution_count": 15,
     "metadata": {},
     "output_type": "execute_result"
    }
   ],
   "source": [
    "#可以用issubclass()來查看一個類別是否衍生自另一個類別-\n",
    "issubclass(Yugo, Car)"
   ]
  },
  {
   "cell_type": "code",
   "execution_count": 20,
   "id": "a47cdfb3",
   "metadata": {},
   "outputs": [],
   "source": [
    "# 用各類別建立一個物件:\n",
    "give_me_a_car = Car()\n",
    "give_me_a_yugo = Yugo()"
   ]
  },
  {
   "cell_type": "code",
   "execution_count": 43,
   "id": "79700cd3",
   "metadata": {},
   "outputs": [],
   "source": [
    "class Car():\n",
    "    def exclaim(self):\n",
    "        print(\"I'm a Car!\")\n",
    "\n",
    "class Yugo(Car):\n",
    "    pass"
   ]
  },
  {
   "cell_type": "code",
   "execution_count": 21,
   "id": "a6455a62",
   "metadata": {},
   "outputs": [],
   "source": [
    "give_me_a_car = Car()\n",
    "give_me_a_yugo = Yugo()"
   ]
  },
  {
   "cell_type": "code",
   "execution_count": 22,
   "id": "438cba1e",
   "metadata": {},
   "outputs": [
    {
     "name": "stdout",
     "output_type": "stream",
     "text": [
      "I'm a Car!\n",
      "I'm a Car!\n"
     ]
    }
   ],
   "source": [
    "give_me_a_car.exclaim()\n",
    "give_me_a_yugo.exclaim()"
   ]
  },
  {
   "cell_type": "code",
   "execution_count": 23,
   "id": "d5b7a753",
   "metadata": {},
   "outputs": [],
   "source": [
    "# 不需要做任何特別事情就可以讓Yugo 從Car 繼承 exclaim()方法, 事實上, Yugo說它是一輛車輛, 這可能會導致身分認同危機"
   ]
  },
  {
   "cell_type": "code",
   "execution_count": 27,
   "id": "45a5132e",
   "metadata": {},
   "outputs": [],
   "source": [
    "# 新類別最初會從它的父類別繼承任何東西, 接下來告訴你如何替換或覆寫父類別方法. Yugo應該要和Car有些地方不一樣, 否則幹嘛定義新類別?\n",
    "\n",
    "class Car():\n",
    "    def exclaim(self):\n",
    "        print(\"I'm a Car!\")\n",
    "    \n",
    "class Yugo(Car):\n",
    "    def exclaim(self):\n",
    "        print(\"I'm a Yugo! Much like a Car, but more Yugo-ish\")"
   ]
  },
  {
   "cell_type": "code",
   "execution_count": 28,
   "id": "4f3cf3b1",
   "metadata": {},
   "outputs": [],
   "source": [
    "# 我們用這些類別來製作兩個物件-\n",
    "give_me_a_car = Car()\n",
    "give_me_a_yugo = Yugo()"
   ]
  },
  {
   "cell_type": "code",
   "execution_count": 29,
   "id": "5076bf8e",
   "metadata": {},
   "outputs": [
    {
     "name": "stdout",
     "output_type": "stream",
     "text": [
      "I'm a Car!\n",
      "I'm a Yugo! Much like a Car, but more Yugo-ish\n"
     ]
    }
   ],
   "source": [
    "# 看他們會說甚麼?\n",
    "give_me_a_car.exclaim()\n",
    "give_me_a_yugo.exclaim()"
   ]
  },
  {
   "cell_type": "code",
   "execution_count": 37,
   "id": "6bc2ae86",
   "metadata": {},
   "outputs": [],
   "source": [
    "# 在這些範例中, 我們覆寫了exclaim()方法, 可以覆寫任何方法, 包含__init__()\n",
    "# 接下來例子要使用Person類別, 來製作代表醫生(MDPerson)與 律師(JDPerson)\n",
    "class Person():\n",
    "    def __init__(self, name):\n",
    "        self.name = name\n",
    "\n",
    "class MDPerson(Person):\n",
    "    def __init__(self,name):\n",
    "        self.name = 'Doctor ' + name\n",
    "\n",
    "class JDPerson(Person):\n",
    "    def __init__(self,name):\n",
    "        self.name = name + ', Esquire'\n",
    "\n"
   ]
  },
  {
   "cell_type": "code",
   "execution_count": 39,
   "id": "44f3fa93",
   "metadata": {},
   "outputs": [],
   "source": [
    "person = Person('Fudd')\n",
    "doctor = MDPerson('Fudd')\n",
    "lawyer = JDPerson('Fudd')"
   ]
  },
  {
   "cell_type": "code",
   "execution_count": 40,
   "id": "a173f051",
   "metadata": {},
   "outputs": [
    {
     "name": "stdout",
     "output_type": "stream",
     "text": [
      "Fudd\n"
     ]
    }
   ],
   "source": [
    "print(person.name)"
   ]
  },
  {
   "cell_type": "code",
   "execution_count": 41,
   "id": "a7de0588",
   "metadata": {},
   "outputs": [
    {
     "name": "stdout",
     "output_type": "stream",
     "text": [
      "Doctor Fudd\n"
     ]
    }
   ],
   "source": [
    "print(doctor.name)"
   ]
  },
  {
   "cell_type": "code",
   "execution_count": 43,
   "id": "0972dfb2",
   "metadata": {},
   "outputs": [
    {
     "name": "stdout",
     "output_type": "stream",
     "text": [
      "Fudd, Esquire\n"
     ]
    }
   ],
   "source": [
    "print(lawyer.name)"
   ]
  },
  {
   "cell_type": "code",
   "execution_count": 44,
   "id": "ef9c3178",
   "metadata": {},
   "outputs": [],
   "source": [
    "#添加方法- 子類別也可以添加父類別沒有的方法, 回到類別Car與Yugo, 接下來只幫Yugo類別定義新方法- need_a_push()\n",
    "class Car():\n",
    "    def exclaim(self):\n",
    "        print(\"I'm a Car!\")\n",
    "\n",
    "class Yugo(Car):\n",
    "    def exclaim(self):\n",
    "        print(\"I'm a Yugo! Much like a Car, but more Yugo-ish.\")\n",
    "    def need_a_push(self):\n",
    "        print(\"A little help here?\")\n",
    " "
   ]
  },
  {
   "cell_type": "code",
   "execution_count": 45,
   "id": "465396c6",
   "metadata": {},
   "outputs": [],
   "source": [
    "# 再製作一個Car與Yugo\n",
    "give_me_a_car = Car()\n",
    "give_me_a_yugo = Yugo()\n"
   ]
  },
  {
   "cell_type": "code",
   "execution_count": 46,
   "id": "d3c45f9f",
   "metadata": {},
   "outputs": [
    {
     "name": "stdout",
     "output_type": "stream",
     "text": [
      "A little help here?\n"
     ]
    }
   ],
   "source": [
    "give_me_a_yugo.need_a_push()"
   ]
  },
  {
   "cell_type": "code",
   "execution_count": 47,
   "id": "50b5388a",
   "metadata": {},
   "outputs": [
    {
     "ename": "AttributeError",
     "evalue": "'Car' object has no attribute 'need_a_push'",
     "output_type": "error",
     "traceback": [
      "\u001b[31m---------------------------------------------------------------------------\u001b[39m",
      "\u001b[31mAttributeError\u001b[39m                            Traceback (most recent call last)",
      "\u001b[36mCell\u001b[39m\u001b[36m \u001b[39m\u001b[32mIn[47]\u001b[39m\u001b[32m, line 1\u001b[39m\n\u001b[32m----> \u001b[39m\u001b[32m1\u001b[39m \u001b[43mgive_me_a_car\u001b[49m\u001b[43m.\u001b[49m\u001b[43mneed_a_push\u001b[49m()\n",
      "\u001b[31mAttributeError\u001b[39m: 'Car' object has no attribute 'need_a_push'"
     ]
    }
   ],
   "source": [
    "give_me_a_car.need_a_push()"
   ]
  },
  {
   "cell_type": "code",
   "execution_count": 1,
   "id": "008a854c",
   "metadata": {},
   "outputs": [],
   "source": [
    "#以上, Yugo可以做一些Car無法做到的事情, 凸顯了Yugo的特質"
   ]
  },
  {
   "cell_type": "code",
   "execution_count": 13,
   "id": "5fa19cb1",
   "metadata": {},
   "outputs": [],
   "source": [
    "# 用super() 來取得父類別的幫助\n",
    "class Person():\n",
    "    def __init__(self, name):\n",
    "        self.name = name\n",
    "\n",
    "class EmailPerson(Person):\n",
    "    def __init__(self, name, email):\n",
    "        super().__init__(name)\n",
    "        self.email = email\n",
    "\n",
    "# 用super() 取得父類別Person的定義\n",
    "# __init()方法呼叫Person.__init__(), 他會將self引數傳給超類別, 所以你只要把選用的引數傳給它就可以了"
   ]
  },
  {
   "cell_type": "code",
   "execution_count": 14,
   "id": "044d82ea",
   "metadata": {},
   "outputs": [],
   "source": [
    "bob = EmailPerson('Bob Frapples', 'bob@frapples.com')"
   ]
  },
  {
   "cell_type": "code",
   "execution_count": 15,
   "id": "3475b36d",
   "metadata": {},
   "outputs": [
    {
     "data": {
      "text/plain": [
       "'Bob Frapples'"
      ]
     },
     "execution_count": 15,
     "metadata": {},
     "output_type": "execute_result"
    }
   ],
   "source": [
    "bob.name"
   ]
  },
  {
   "cell_type": "code",
   "execution_count": 16,
   "id": "a92f0569",
   "metadata": {},
   "outputs": [
    {
     "data": {
      "text/plain": [
       "'bob@frapples.com'"
      ]
     },
     "execution_count": 16,
     "metadata": {},
     "output_type": "execute_result"
    }
   ],
   "source": [
    "bob.email"
   ]
  },
  {
   "cell_type": "code",
   "execution_count": 17,
   "id": "6147c9c7",
   "metadata": {},
   "outputs": [],
   "source": [
    "# 多種繼承- 物件可以繼承 多個父類別. 當類別使用不屬於它的方法或屬性時, Python會查看它所有父類別. 但如果很多父類別都有那個名稱, 該使用誰的?\n",
    "# Ppython的繼承取決於 \"方法解析順序 (method resolution order). 每一個Python類別都有一個稱為 mro()的特殊方法\n",
    "# 這個方法會回傳一串類別, Python會在那些類別中尋找該類別的物件方法或屬性, 此外, 還有一個類似的屬性, __mro__, 它是這些類別的tuple"
   ]
  },
  {
   "cell_type": "code",
   "execution_count": 32,
   "id": "ebcb027d",
   "metadata": {},
   "outputs": [],
   "source": [
    "# 定義一個最頂端的Animal 類別, 它的兩個子類別 (Horse和Donkey), 以及從這兩個類別衍生的兩個種類-\n",
    "\n",
    "class Animal:\n",
    "    def says(self):\n",
    "        return 'I speak!'\\\n",
    "        \n",
    "class Horse(Animal):\n",
    "    def says(self):\n",
    "        return 'Neigh!'\n",
    "\n",
    "class Donkey(Animal):\n",
    "    def says(self):\n",
    "        return 'Hee-haw!'\n",
    "\n",
    "class Mule(Donkey, Horse):\n",
    "    pass\n",
    "\n",
    "class Hinny(Horse, Donkey):\n",
    "    pass"
   ]
  },
  {
   "cell_type": "code",
   "execution_count": 22,
   "id": "f7452e7d",
   "metadata": {},
   "outputs": [
    {
     "data": {
      "text/plain": [
       "[__main__.Mule, __main__.Donkey, __main__.Horse, __main__.Animal, object]"
      ]
     },
     "execution_count": 22,
     "metadata": {},
     "output_type": "execute_result"
    }
   ],
   "source": [
    "# 我們尋求Mule的方法與屬性時候, Python會按照順序查看下列東西:\n",
    "# 1. 物件本身 (型態為Mule)\n",
    "# 2. 物件的類型 (Mule)\n",
    "# 3. 該類別的第一個父類別 (Donkey)\n",
    "# 4. 該類別的第二個父類別 (Horse)\n",
    "# 5. 祖父類別 (Animal)\n",
    "\n",
    "Mule.mro()"
   ]
  },
  {
   "cell_type": "code",
   "execution_count": 23,
   "id": "867eb84b",
   "metadata": {},
   "outputs": [
    {
     "data": {
      "text/plain": [
       "[__main__.Hinny, __main__.Horse, __main__.Donkey, __main__.Animal, object]"
      ]
     },
     "execution_count": 23,
     "metadata": {},
     "output_type": "execute_result"
    }
   ],
   "source": [
    "Hinny.mro()"
   ]
  },
  {
   "cell_type": "code",
   "execution_count": 35,
   "id": "9895e182",
   "metadata": {},
   "outputs": [
    {
     "data": {
      "text/plain": [
       "'Hee-haw!'"
      ]
     },
     "execution_count": 35,
     "metadata": {},
     "output_type": "execute_result"
    }
   ],
   "source": [
    "#這些動物的叫聲是甚麼?\n",
    "animal = Animal()\n",
    "mule = Mule()\n",
    "hinny = Hinny()\n",
    "mule.says()\n"
   ]
  },
  {
   "cell_type": "code",
   "execution_count": 34,
   "id": "dcd986b9",
   "metadata": {},
   "outputs": [
    {
     "data": {
      "text/plain": [
       "'Neigh!'"
      ]
     },
     "execution_count": 34,
     "metadata": {},
     "output_type": "execute_result"
    }
   ],
   "source": [
    "hinny.says()"
   ]
  },
  {
   "cell_type": "code",
   "execution_count": 37,
   "id": "420e1dfe",
   "metadata": {},
   "outputs": [
    {
     "data": {
      "text/plain": [
       "'I speak!'"
      ]
     },
     "execution_count": 37,
     "metadata": {},
     "output_type": "execute_result"
    }
   ],
   "source": [
    "animal.says()"
   ]
  },
  {
   "cell_type": "code",
   "execution_count": 40,
   "id": "6d976819",
   "metadata": {},
   "outputs": [],
   "source": [
    "# Mixin- 可以在類別定義式中加入一個額外的父類別, 但是它只是輔助類別(helper), 也就是 它們沒有任何方法與其他父類別一樣\n",
    "# 可以避免上一節介紹的方法解析產生模糊性\n",
    "# 這種父類別有時稱為 mixin類別, 其用途包含 logging (紀錄) 等 邊緣工作, 下面的mixin可以漂亮地印出物件屬性\n",
    "\n",
    "class PrettyMixin():\n",
    "    def dump(self):\n",
    "        import pprint\n",
    "        pprint.pprint(vars(self))\n",
    "\n",
    "class Thing(PrettyMixin):\n",
    "    pass\n",
    "\n"
   ]
  },
  {
   "cell_type": "code",
   "execution_count": 41,
   "id": "107268e0",
   "metadata": {},
   "outputs": [
    {
     "name": "stdout",
     "output_type": "stream",
     "text": [
      "{'age': 'eldritch', 'feature': 'ichor', 'name': 'Nyarlathotep'}\n"
     ]
    }
   ],
   "source": [
    "t = Thing()\n",
    "t.name = 'Nyarlathotep'\n",
    "t.feature = 'ichor'\n",
    "t.age = 'eldritch'\n",
    "t.dump()"
   ]
  },
  {
   "cell_type": "code",
   "execution_count": 45,
   "id": "e5a52455",
   "metadata": {},
   "outputs": [
    {
     "name": "stdout",
     "output_type": "stream",
     "text": [
      "I'm a Car!\n"
     ]
    }
   ],
   "source": [
    "# 自(self) 衛\n",
    "a_car = Car()\n",
    "a_car.exclaim()"
   ]
  },
  {
   "cell_type": "code",
   "execution_count": 46,
   "id": "801e7404",
   "metadata": {},
   "outputs": [
    {
     "name": "stdout",
     "output_type": "stream",
     "text": [
      "I'm a Car!\n"
     ]
    }
   ],
   "source": [
    "# 為了好玩, 你也可以用這種方式來執行它, 它的動作會與一般的語法(a_car.exclaim())一樣:\n",
    "\n",
    "Car.exclaim(a_car)"
   ]
  },
  {
   "cell_type": "code",
   "execution_count": 1,
   "id": "8b5d98d8",
   "metadata": {},
   "outputs": [],
   "source": [
    "# 屬性存取- 在Python中, 物件屬性與方法通常是公用的, 你要對自己的行為負責(有時稱為 成人同意政策), 我們來比較直接做法,以及一些其他作法"
   ]
  },
  {
   "cell_type": "code",
   "execution_count": 2,
   "id": "85102c25",
   "metadata": {},
   "outputs": [
    {
     "data": {
      "text/plain": [
       "'Daffy'"
      ]
     },
     "execution_count": 2,
     "metadata": {},
     "output_type": "execute_result"
    }
   ],
   "source": [
    "# 直接存取- \n",
    "class Duck:\n",
    "    def __init__(self, input_name):\n",
    "        self.name = input_name\n",
    "\n",
    "fowl = Duck('Daffy')\n",
    "fowl.name\n"
   ]
  },
  {
   "cell_type": "code",
   "execution_count": null,
   "id": "c6e19859",
   "metadata": {},
   "outputs": [
    {
     "data": {
      "text/plain": [
       "'Daphne'"
      ]
     },
     "execution_count": 3,
     "metadata": {},
     "output_type": "execute_result"
    }
   ],
   "source": [
    "# 如果有人直接改掉原本的定義好的 fowl.name 呢?\n",
    "fowl.name = 'Daphne'\n",
    "fowl.name\n",
    "\n",
    "#接下來的兩節將介紹如何賦予屬性的一些隱私, 避免他們被任何人意外踐踏"
   ]
  },
  {
   "cell_type": "code",
   "execution_count": null,
   "id": "44dfb3b1",
   "metadata": {},
   "outputs": [],
   "source": [
    "# getter 與 setter- 有些物件導向的語言有私有物件屬性, 他們無法從外面直接存取, 所以程式員必須編寫getter與setter方法\n",
    "# 來對這種私有屬性進行讀值與寫值\n",
    "\n",
    "# Python沒有私有屬性, 但你可以用混淆的屬性名稱來編寫getter與setter來取得一些隱私(最好的做法是使用property)\n"
   ]
  },
  {
   "cell_type": "code",
   "execution_count": 8,
   "id": "4293d709",
   "metadata": {},
   "outputs": [],
   "source": [
    "# 定義一個Duck類別, 他有一個稱為hidden_name的實例屬性, 我們不希望有人直接存取它, 所以定義兩個方法, 一個getter(getter_nme())\n",
    "# 與一個setter(set_name()). 他們都會被一個稱為name的property(特性)存取.\n",
    "# 我們在這兩個方法裡面加入一個print()陳述式來顯示他們甚麼時候被呼叫:\n",
    "\n",
    "class Duck():\n",
    "    def __init__(self, input_name):\n",
    "        self.hidden_name = input_name\n",
    "\n",
    "    def get_name(self):\n",
    "        print('inside the getter')\n",
    "        return self.hidden_name\n",
    "    \n",
    "    def set_name(self, input_name):\n",
    "        print('inside the setter')\n",
    "        self.hidden_name = input_name"
   ]
  },
  {
   "cell_type": "code",
   "execution_count": 9,
   "id": "155486dc",
   "metadata": {},
   "outputs": [
    {
     "name": "stdout",
     "output_type": "stream",
     "text": [
      "inside the getter\n"
     ]
    },
    {
     "data": {
      "text/plain": [
       "'Donald'"
      ]
     },
     "execution_count": 9,
     "metadata": {},
     "output_type": "execute_result"
    }
   ],
   "source": [
    "don = Duck('Donald')\n",
    "don.get_name()"
   ]
  },
  {
   "cell_type": "code",
   "execution_count": 10,
   "id": "5c454e76",
   "metadata": {},
   "outputs": [
    {
     "name": "stdout",
     "output_type": "stream",
     "text": [
      "inside the setter\n"
     ]
    }
   ],
   "source": [
    "don.set_name('Donna')"
   ]
  },
  {
   "cell_type": "code",
   "execution_count": 11,
   "id": "b2c1e8ca",
   "metadata": {},
   "outputs": [
    {
     "name": "stdout",
     "output_type": "stream",
     "text": [
      "inside the getter\n"
     ]
    },
    {
     "data": {
      "text/plain": [
       "'Donna'"
      ]
     },
     "execution_count": 11,
     "metadata": {},
     "output_type": "execute_result"
    }
   ],
   "source": [
    "don.get_name()"
   ]
  },
  {
   "cell_type": "code",
   "execution_count": 2,
   "id": "e90d65f8",
   "metadata": {},
   "outputs": [],
   "source": [
    "# 用來存取屬性property- 符合Python風格的作法就是使用property來處理屬性隱私問題-\n",
    "# 作法有兩種, 1. 上面的Duck 類型定義式的最後一行加入name\n",
    "# property(get_name, set_name):\n",
    "\n",
    "class Duck():\n",
    "    def __init__(self, input_name):\n",
    "        self.hidden_name = input_name\n",
    "    \n",
    "    def get_name(self):\n",
    "        print('inside the getter')\n",
    "        return self.hidden_name\n",
    "    \n",
    "    def set_name(self, input_name):\n",
    "        print('inside the setter')\n",
    "        self.hidden_name = input_name\n",
    "    \n",
    "    name = property(get_name, set_name)"
   ]
  },
  {
   "cell_type": "code",
   "execution_count": 13,
   "id": "52b14f89",
   "metadata": {},
   "outputs": [
    {
     "name": "stdout",
     "output_type": "stream",
     "text": [
      "inside the getter\n"
     ]
    },
    {
     "data": {
      "text/plain": [
       "'Donald'"
      ]
     },
     "execution_count": 13,
     "metadata": {},
     "output_type": "execute_result"
    }
   ],
   "source": [
    "# 你可以使用舊的getter與setter:\n",
    "don = Duck('Donald')\n",
    "don.get_name()"
   ]
  },
  {
   "cell_type": "code",
   "execution_count": null,
   "id": "b3f1fd4f",
   "metadata": {},
   "outputs": [
    {
     "name": "stdout",
     "output_type": "stream",
     "text": [
      "inside the setter\n"
     ]
    }
   ],
   "source": [
    "don.set_name('Donna')"
   ]
  },
  {
   "cell_type": "code",
   "execution_count": 16,
   "id": "e11e6096",
   "metadata": {},
   "outputs": [
    {
     "name": "stdout",
     "output_type": "stream",
     "text": [
      "inside the getter\n"
     ]
    },
    {
     "data": {
      "text/plain": [
       "'Donna'"
      ]
     },
     "execution_count": 16,
     "metadata": {},
     "output_type": "execute_result"
    }
   ],
   "source": [
    "don.get_name()"
   ]
  },
  {
   "cell_type": "code",
   "execution_count": 3,
   "id": "b0887634",
   "metadata": {},
   "outputs": [
    {
     "name": "stdout",
     "output_type": "stream",
     "text": [
      "inside the getter\n"
     ]
    },
    {
     "data": {
      "text/plain": [
       "'Donald'"
      ]
     },
     "execution_count": 3,
     "metadata": {},
     "output_type": "execute_result"
    }
   ],
   "source": [
    "# 但你現在也可以用name property 來取得與設定隱藏名稱(hidden name)\n",
    "\n",
    "don = Duck('Donald')\n",
    "don.name\n"
   ]
  },
  {
   "cell_type": "code",
   "execution_count": 4,
   "id": "93f6ac02",
   "metadata": {},
   "outputs": [
    {
     "name": "stdout",
     "output_type": "stream",
     "text": [
      "inside the setter\n"
     ]
    }
   ],
   "source": [
    "don.name ='Donna'"
   ]
  },
  {
   "cell_type": "code",
   "execution_count": 5,
   "id": "30ac7537",
   "metadata": {},
   "outputs": [
    {
     "name": "stdout",
     "output_type": "stream",
     "text": [
      "inside the getter\n"
     ]
    },
    {
     "data": {
      "text/plain": [
       "'Donna'"
      ]
     },
     "execution_count": 5,
     "metadata": {},
     "output_type": "execute_result"
    }
   ],
   "source": [
    "don.name"
   ]
  },
  {
   "cell_type": "code",
   "execution_count": 29,
   "id": "3ea8ff8e",
   "metadata": {},
   "outputs": [],
   "source": [
    "# 第二種方法是加入一些裝飾器, 並將方法名稱get_name 和 set_name 換成name-\n",
    "# 在getter 方法前面加上 @property\n",
    "# 在setter 方法前面加上 @name.setter\n",
    "\n",
    "class Duck():\n",
    "    def __init__(self, input_name):\n",
    "        self.hidden_name = input_name\n",
    "    @property\n",
    "    def name(self):\n",
    "        print('inside the getter')\n",
    "        return self.hidden_name\n",
    "    @name.setter\n",
    "    def name(self, input_name):\n",
    "        print('inside the setter')\n",
    "        self.hidden_name = input_name\n",
    "        \n"
   ]
  },
  {
   "cell_type": "code",
   "execution_count": 30,
   "id": "30683e64",
   "metadata": {},
   "outputs": [
    {
     "name": "stdout",
     "output_type": "stream",
     "text": [
      "inside the getter\n"
     ]
    },
    {
     "data": {
      "text/plain": [
       "'Howard'"
      ]
     },
     "execution_count": 30,
     "metadata": {},
     "output_type": "execute_result"
    }
   ],
   "source": [
    "Wally = Duck('Howard')\n",
    "Wally.name"
   ]
  },
  {
   "cell_type": "code",
   "execution_count": 31,
   "id": "f46ff0a3",
   "metadata": {},
   "outputs": [
    {
     "name": "stdout",
     "output_type": "stream",
     "text": [
      "inside the setter\n"
     ]
    }
   ],
   "source": [
    "Wally.name = 'Donald'"
   ]
  },
  {
   "cell_type": "code",
   "execution_count": 32,
   "id": "6eb7d617",
   "metadata": {},
   "outputs": [
    {
     "data": {
      "text/plain": [
       "'Donald'"
      ]
     },
     "execution_count": 32,
     "metadata": {},
     "output_type": "execute_result"
    }
   ],
   "source": [
    "# fowl.name\n",
    "\n",
    "Wally.hidden_name"
   ]
  },
  {
   "cell_type": "code",
   "execution_count": 1,
   "id": "3bde9ec1",
   "metadata": {},
   "outputs": [],
   "source": [
    "# 用property 回傳算出來的值-\n",
    "# 在之前的例子中, 我們用 name_property來引用 物件裡面單一屬性- hidden_name\n",
    "# property 也可以回算出來的值. 我們來定義一個circle類別, 讓他有一個radius屬性與一個算出來的diameter property\n",
    "\n",
    "class Circle():\n",
    "    def __init__(self, radius):\n",
    "        self.radius = radius\n",
    "    @property\n",
    "    def diameter(self):\n",
    "        return 2*self.radius\n",
    "    \n",
    "    "
   ]
  },
  {
   "cell_type": "code",
   "execution_count": 2,
   "id": "7cb92ca8",
   "metadata": {},
   "outputs": [
    {
     "data": {
      "text/plain": [
       "5"
      ]
     },
     "execution_count": 2,
     "metadata": {},
     "output_type": "execute_result"
    }
   ],
   "source": [
    "c = Circle(5)\n",
    "c.radius"
   ]
  },
  {
   "cell_type": "code",
   "execution_count": 3,
   "id": "2dca0955",
   "metadata": {},
   "outputs": [
    {
     "data": {
      "text/plain": [
       "10"
      ]
     },
     "execution_count": 3,
     "metadata": {},
     "output_type": "execute_result"
    }
   ],
   "source": [
    "c.diameter"
   ]
  },
  {
   "cell_type": "code",
   "execution_count": 5,
   "id": "e8613689",
   "metadata": {},
   "outputs": [
    {
     "data": {
      "text/plain": [
       "14"
      ]
     },
     "execution_count": 5,
     "metadata": {},
     "output_type": "execute_result"
    }
   ],
   "source": [
    "# 我們可以隨時更改radius屬性, 且diameter property會用當時的radius來算出-\n",
    "c.radius = 7\n",
    "c.diameter"
   ]
  },
  {
   "cell_type": "code",
   "execution_count": 6,
   "id": "ef14e8db",
   "metadata": {},
   "outputs": [
    {
     "ename": "AttributeError",
     "evalue": "property 'diameter' of 'Circle' object has no setter",
     "output_type": "error",
     "traceback": [
      "\u001b[31m---------------------------------------------------------------------------\u001b[39m",
      "\u001b[31mAttributeError\u001b[39m                            Traceback (most recent call last)",
      "\u001b[36mCell\u001b[39m\u001b[36m \u001b[39m\u001b[32mIn[6]\u001b[39m\u001b[32m, line 2\u001b[39m\n\u001b[32m      1\u001b[39m \u001b[38;5;66;03m# 如果沒有術性指定 setter property, 就不能夠在外面設定它, 這種做法很適合用來製作唯讀屬性:\u001b[39;00m\n\u001b[32m----> \u001b[39m\u001b[32m2\u001b[39m \u001b[43mc\u001b[49m\u001b[43m.\u001b[49m\u001b[43mdiameter\u001b[49m = \u001b[32m20\u001b[39m\n",
      "\u001b[31mAttributeError\u001b[39m: property 'diameter' of 'Circle' object has no setter"
     ]
    }
   ],
   "source": [
    "# 如果沒有術性指定 setter property, 就不能夠在外面設定它, 這種做法很適合用來製作唯讀屬性:\n",
    "c.diameter = 20\n"
   ]
  },
  {
   "cell_type": "code",
   "execution_count": 7,
   "id": "29948766",
   "metadata": {},
   "outputs": [],
   "source": [
    "# 使用property還有一個比 直接存取屬性更好的地方, 當你更改屬性的定義時, 只要修改類別定義式裡面的程式就可以,\n",
    "# 不需要修改所有呼叫方\n"
   ]
  },
  {
   "cell_type": "code",
   "execution_count": 9,
   "id": "7e911ae3",
   "metadata": {},
   "outputs": [],
   "source": [
    "# 用修飾名稱來保護隱私- 在前面Duck類別中, 我們將隱藏屬性稱為hidden_name. 在Python中, 不允許在類別定義式外面看到的屬性有一種規範:\n",
    "# 在開頭使用雙底線 __\n",
    "\n",
    "class Duck():\n",
    "    def __init__(self, input_name):\n",
    "        self.__name = input_name\n",
    "    @property\n",
    "    def name(self):\n",
    "        print('inside the getter')\n",
    "        return self.__name\n",
    "    \n",
    "    @name.setter\n",
    "    def name(self, input_name):\n",
    "        print('insider the setter')\n",
    "        self.__name = input_name"
   ]
  },
  {
   "cell_type": "code",
   "execution_count": 10,
   "id": "632e8b2a",
   "metadata": {},
   "outputs": [
    {
     "name": "stdout",
     "output_type": "stream",
     "text": [
      "inside the getter\n"
     ]
    },
    {
     "data": {
      "text/plain": [
       "'Howard'"
      ]
     },
     "execution_count": 10,
     "metadata": {},
     "output_type": "execute_result"
    }
   ],
   "source": [
    "fowl = Duck('Howard')\n",
    "fowl.name"
   ]
  },
  {
   "cell_type": "code",
   "execution_count": 11,
   "id": "0d830d3f",
   "metadata": {},
   "outputs": [
    {
     "name": "stdout",
     "output_type": "stream",
     "text": [
      "insider the setter\n"
     ]
    }
   ],
   "source": [
    "fowl.name = 'Donald'"
   ]
  },
  {
   "cell_type": "code",
   "execution_count": 12,
   "id": "aa8975e6",
   "metadata": {},
   "outputs": [
    {
     "name": "stdout",
     "output_type": "stream",
     "text": [
      "inside the getter\n"
     ]
    },
    {
     "data": {
      "text/plain": [
       "'Donald'"
      ]
     },
     "execution_count": 12,
     "metadata": {},
     "output_type": "execute_result"
    }
   ],
   "source": [
    "fowl.name"
   ]
  },
  {
   "cell_type": "code",
   "execution_count": 13,
   "id": "dadf65e6",
   "metadata": {},
   "outputs": [
    {
     "ename": "AttributeError",
     "evalue": "'Duck' object has no attribute '__name'",
     "output_type": "error",
     "traceback": [
      "\u001b[31m---------------------------------------------------------------------------\u001b[39m",
      "\u001b[31mAttributeError\u001b[39m                            Traceback (most recent call last)",
      "\u001b[36mCell\u001b[39m\u001b[36m \u001b[39m\u001b[32mIn[13]\u001b[39m\u001b[32m, line 1\u001b[39m\n\u001b[32m----> \u001b[39m\u001b[32m1\u001b[39m \u001b[43mfowl\u001b[49m\u001b[43m.\u001b[49m\u001b[43m__name\u001b[49m\n",
      "\u001b[31mAttributeError\u001b[39m: 'Duck' object has no attribute '__name'"
     ]
    }
   ],
   "source": [
    "fowl.__name"
   ]
  },
  {
   "cell_type": "code",
   "execution_count": 33,
   "id": "bcf6c7cd",
   "metadata": {},
   "outputs": [
    {
     "data": {
      "text/plain": [
       "'Donald'"
      ]
     },
     "execution_count": 33,
     "metadata": {},
     "output_type": "execute_result"
    }
   ],
   "source": [
    "# 以上命名規範無法將它變成完全私用, 但Python修飾(mangle)屬性名稱讓外面的程式碼不太可能偶然發現它,但可以透過以下寫法做存取\n",
    "fowl._Duck__name"
   ]
  },
  {
   "cell_type": "code",
   "execution_count": 34,
   "id": "0418a724",
   "metadata": {},
   "outputs": [
    {
     "name": "stdout",
     "output_type": "stream",
     "text": [
      "inside the getter\n"
     ]
    },
    {
     "data": {
      "text/plain": [
       "'Donald'"
      ]
     },
     "execution_count": 34,
     "metadata": {},
     "output_type": "execute_result"
    }
   ],
   "source": [
    "fowl.name"
   ]
  },
  {
   "cell_type": "code",
   "execution_count": 35,
   "id": "53d2bfde",
   "metadata": {},
   "outputs": [],
   "source": [
    "### 類別與物件屬性-\n",
    "# 你可以將屬性 指派給類別, 他們會被該類別的子物件繼承-\n",
    "\n",
    "class Fruit:\n",
    "    color = 'red'\n",
    "    "
   ]
  },
  {
   "cell_type": "code",
   "execution_count": 36,
   "id": "a7cf80ec",
   "metadata": {},
   "outputs": [],
   "source": [
    "blueberry = Fruit()"
   ]
  },
  {
   "cell_type": "code",
   "execution_count": 37,
   "id": "3c66a2b2",
   "metadata": {},
   "outputs": [
    {
     "data": {
      "text/plain": [
       "'red'"
      ]
     },
     "execution_count": 37,
     "metadata": {},
     "output_type": "execute_result"
    }
   ],
   "source": [
    "Fruit.color"
   ]
  },
  {
   "cell_type": "code",
   "execution_count": 38,
   "id": "f3e1b7da",
   "metadata": {},
   "outputs": [
    {
     "data": {
      "text/plain": [
       "'red'"
      ]
     },
     "execution_count": 38,
     "metadata": {},
     "output_type": "execute_result"
    }
   ],
   "source": [
    "blueberry.color"
   ]
  },
  {
   "cell_type": "code",
   "execution_count": 39,
   "id": "ff7f8d98",
   "metadata": {},
   "outputs": [
    {
     "data": {
      "text/plain": [
       "'blue'"
      ]
     },
     "execution_count": 39,
     "metadata": {},
     "output_type": "execute_result"
    }
   ],
   "source": [
    "# 但如果你改變子物件的屬性值, 它並不會影響類別屬性-\n",
    "blueberry.color = 'blue'\n",
    "blueberry.color"
   ]
  },
  {
   "cell_type": "code",
   "execution_count": 40,
   "id": "d2a072b5",
   "metadata": {},
   "outputs": [
    {
     "data": {
      "text/plain": [
       "'red'"
      ]
     },
     "execution_count": 40,
     "metadata": {},
     "output_type": "execute_result"
    }
   ],
   "source": [
    "Fruit.color"
   ]
  },
  {
   "cell_type": "code",
   "execution_count": 41,
   "id": "f18110ce",
   "metadata": {},
   "outputs": [
    {
     "data": {
      "text/plain": [
       "'orange'"
      ]
     },
     "execution_count": 41,
     "metadata": {},
     "output_type": "execute_result"
    }
   ],
   "source": [
    "# 如果你改變類別屬性, 它也不會影響既有子物件-\n",
    "\n",
    "Fruit.color = 'orange'\n",
    "Fruit.color"
   ]
  },
  {
   "cell_type": "code",
   "execution_count": 42,
   "id": "c9dfe0bc",
   "metadata": {},
   "outputs": [
    {
     "data": {
      "text/plain": [
       "'blue'"
      ]
     },
     "execution_count": 42,
     "metadata": {},
     "output_type": "execute_result"
    }
   ],
   "source": [
    "blueberry.color"
   ]
  },
  {
   "cell_type": "code",
   "execution_count": 43,
   "id": "5116d204",
   "metadata": {},
   "outputs": [
    {
     "data": {
      "text/plain": [
       "'orange'"
      ]
     },
     "execution_count": 43,
     "metadata": {},
     "output_type": "execute_result"
    }
   ],
   "source": [
    "# 但它會影響到新的物件屬性-\n",
    "new_fruit = Fruit()\n",
    "new_fruit.color"
   ]
  },
  {
   "cell_type": "code",
   "execution_count": 44,
   "id": "2bba3c38",
   "metadata": {},
   "outputs": [],
   "source": [
    "# 方法型態- 有些方法是類別本身的一部分, 有些是用那個類別建立的物件的一部分, 有些不屬於兩者\n",
    "## 前面沒有裝飾器, 它是實例方法, 它的第一個引數應該是 self, 用來引用個別物件本身\n",
    "## 如果前面有@classmethod裝飾器, 它是類別方法, 它的第一個引數應該是cls(或任何東西, 只要不是保留字class即可)，引用類別本身\n",
    "## 如果前面有@staticmethod裝飾器, 它是靜態方法, 第一個引數不是物件或類別"
   ]
  },
  {
   "cell_type": "code",
   "execution_count": 17,
   "id": "eaf646d2",
   "metadata": {},
   "outputs": [],
   "source": [
    "# 實例方法- 類別定義式裡面, 第一個引數self, 他就是實例方法\n",
    "# 類別方法- 會影響到整個類別, 對類別作的任何改變都會影響他的所有物件, 在類別定義式裡面@claeemethon 裝飾器代表他後面函式式個類別方法\n",
    "# Python 傳統上將這個參數稱為cls, 因為class式保留字, 不能使用. 我們來定義A 一個類別方法, 用它來計算這個類別已經建立多少物件實例:\n",
    "\n",
    "class A():\n",
    "    count = 0\n",
    "    def __init__(self):\n",
    "        A.count +=1\n",
    "\n",
    "    def exclaim(self):\n",
    "        print(\"I'm an A!\")\n",
    "    \n",
    "    @classmethod\n",
    "    def kids(cls):\n",
    "            print(\"A has\", cls.count,\"little objects.\" )"
   ]
  },
  {
   "cell_type": "code",
   "execution_count": 18,
   "id": "2f0ec53c",
   "metadata": {},
   "outputs": [
    {
     "name": "stdout",
     "output_type": "stream",
     "text": [
      "A has 3 little objects.\n"
     ]
    }
   ],
   "source": [
    "easy_a = A()\n",
    "breezy_a = A()\n",
    "wheezy_a = A()\n",
    "A.kids()"
   ]
  },
  {
   "cell_type": "code",
   "execution_count": 19,
   "id": "2032e02b",
   "metadata": {},
   "outputs": [
    {
     "name": "stdout",
     "output_type": "stream",
     "text": [
      "I'm an A!\n"
     ]
    }
   ],
   "source": [
    "easy_a.exclaim()"
   ]
  },
  {
   "cell_type": "code",
   "execution_count": 20,
   "id": "7bb85c1f",
   "metadata": {},
   "outputs": [],
   "source": [
    "# 靜態方法- 類別定義式中的第三個方法 既不影響類別 也不影響他的物件, 他只是為了不四處漂流而待在那裏, 他是靜態方法\n",
    "# 前面有個 @staticmethod 裝飾器, 沒有開頭的self或 cls參數-\n",
    "# 這個例子 為類別CoyoteWeapon 提供商業廣告:\n",
    "\n",
    "class CoyoteWeapon():\n",
    "    @staticmethod\n",
    "    def commercial():\n",
    "        print('This CoyoteWeapon has been brought to you by Acme')\n"
   ]
  },
  {
   "cell_type": "code",
   "execution_count": 21,
   "id": "b21d592b",
   "metadata": {},
   "outputs": [
    {
     "name": "stdout",
     "output_type": "stream",
     "text": [
      "This CoyoteWeapon has been brought to you by Acme\n"
     ]
    }
   ],
   "source": [
    "CoyoteWeapon.commercial()"
   ]
  },
  {
   "cell_type": "code",
   "execution_count": 23,
   "id": "f4b4b4c7",
   "metadata": {},
   "outputs": [],
   "source": [
    "# 鴨子定型- Python 實作了寬鬆的多型, 他可以對不同的物件進行相同的操作, 根據方法的名稱與引數, 無論他們的類別是甚麼\n",
    "# 我們讓全部三個Quoto 類別使用同一個 __init__()初始化方法, 但加入兩個新函式:\n",
    "## 用who()回傳 備存起來的person字串值\n",
    "## 用says() 回傳被儲存的字串加上特定的標點符號\n",
    "\n",
    "class Quote():\n",
    "    def __init__(self, person, words):\n",
    "        self.person = person\n",
    "        self.words = words\n",
    "    def who(self):\n",
    "        return self.person\n",
    "    def says(self):\n",
    "        return self.words + '.'\n",
    "\n",
    "class QuestionQuote(Quote):\n",
    "    def says(self):\n",
    "        return self.words + '?'\n",
    "    \n",
    "class ExclaimationQuote(Quote):\n",
    "    def says(self):\n",
    "        return self.words + '?'"
   ]
  },
  {
   "cell_type": "code",
   "execution_count": 24,
   "id": "2cd3f3f6",
   "metadata": {},
   "outputs": [
    {
     "name": "stdout",
     "output_type": "stream",
     "text": [
      "Elmer Fudd says: I'm hunting wabbits.\n"
     ]
    }
   ],
   "source": [
    "hunter = Quote('Elmer Fudd', \"I'm hunting wabbits\")\n",
    "print(hunter.who(), 'says:', hunter.says())"
   ]
  },
  {
   "cell_type": "code",
   "execution_count": null,
   "id": "f7d92d30",
   "metadata": {},
   "outputs": [],
   "source": []
  }
 ],
 "metadata": {
  "kernelspec": {
   "display_name": "Python 3",
   "language": "python",
   "name": "python3"
  },
  "language_info": {
   "codemirror_mode": {
    "name": "ipython",
    "version": 3
   },
   "file_extension": ".py",
   "mimetype": "text/x-python",
   "name": "python",
   "nbconvert_exporter": "python",
   "pygments_lexer": "ipython3",
   "version": "3.12.2"
  }
 },
 "nbformat": 4,
 "nbformat_minor": 5
}
