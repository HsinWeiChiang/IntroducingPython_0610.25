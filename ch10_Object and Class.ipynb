{
 "cells": [
  {
   "cell_type": "code",
   "execution_count": 1,
   "id": "62111509",
   "metadata": {},
   "outputs": [],
   "source": [
    "# Python 任何東西從數字到函式, 全部都是物件. 但Python用特殊的語法將大部分的物件都隱藏起來.\n",
    "\n",
    "# 甚麼是物件?- \n"
   ]
  },
  {
   "cell_type": "code",
   "execution_count": null,
   "id": "dfa565b8",
   "metadata": {},
   "outputs": [],
   "source": [
    "# 簡單的物件-\n"
   ]
  }
 ],
 "metadata": {
  "kernelspec": {
   "display_name": "Python 3",
   "language": "python",
   "name": "python3"
  },
  "language_info": {
   "codemirror_mode": {
    "name": "ipython",
    "version": 3
   },
   "file_extension": ".py",
   "mimetype": "text/x-python",
   "name": "python",
   "nbconvert_exporter": "python",
   "pygments_lexer": "ipython3",
   "version": "3.11.9"
  }
 },
 "nbformat": 4,
 "nbformat_minor": 5
}
