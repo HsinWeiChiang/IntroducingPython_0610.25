{
 "cells": [
  {
   "cell_type": "code",
   "execution_count": null,
   "id": "62111509",
   "metadata": {},
   "outputs": [],
   "source": [
    "# Python 任何東西從數字到函式, 全部都是物件. 但Python用特殊的語法將大部分的物件都隱藏起來.\n",
    "\n",
    "# 甚麼是物件?- 物件是一種自訂的資料結構,裡面有資料(變數, 稱為屬性),以及程式碼(函式,稱為方法). 它代表某種具體東西的唯一實例.\n",
    "# 你可以將物件想像成名詞, 他們的方法想成動詞; 一個物件代表一個單獨的事物, 它的方法定義它和其他事物如何互動\n",
    "# 例如, 值為7的整數物件代表有個加法與乘法的物件, 它就像第3章介紹的那樣; 8是不同物件, 這代表python在某個地方內建了一個整數類別, 7與8都屬於那個類別\n",
    "# 字串'cat'與'duck'也是Python的物件,並且擁有第5章介紹過的字串方法.例如- capitalize()與replace()\n"
   ]
  },
  {
   "cell_type": "code",
   "execution_count": null,
   "id": "dfa565b8",
   "metadata": {},
   "outputs": [],
   "source": [
    "# 簡單的物件- 先從簡單的物件類別開始-\n",
    "# 假設想要定義 代表貓咪資訊的物件, 用每一個物件代表一隻貓,要先定義一個稱為Cat的類別,把它當作模具\n",
    "\n",
    "class Cat():\n",
    "    pass\n",
    "\n",
    "a_cat = Cat()\n",
    "another_cat = Cat()\n"
   ]
  },
  {
   "cell_type": "code",
   "execution_count": 8,
   "id": "648b2d68",
   "metadata": {},
   "outputs": [
    {
     "data": {
      "text/plain": [
       "<__main__.Cat at 0x1aa4381dd10>"
      ]
     },
     "execution_count": 8,
     "metadata": {},
     "output_type": "execute_result"
    }
   ],
   "source": [
    "#屬性- 是一種在類別或物件裡面的變數,你可以在建立物件或類別期間或之後指派屬性給它. 屬性可為任何其他物件\n",
    "class Cat:\n",
    "    pass\n",
    "\n",
    "a_cat = Cat()\n",
    "a_cat\n",
    "another_cat = Cat()\n",
    "another_cat\n"
   ]
  },
  {
   "cell_type": "code",
   "execution_count": 10,
   "id": "ca392236",
   "metadata": {},
   "outputs": [],
   "source": [
    "#現在將一些屬性指派給第一個物件:\n",
    "a_cat.age = 3\n",
    "a_cat.name = 'Mr. Fuzzybuttons'\n",
    "a_cat.nemesis = another_cat"
   ]
  },
  {
   "cell_type": "code",
   "execution_count": 11,
   "id": "83d07c41",
   "metadata": {},
   "outputs": [
    {
     "data": {
      "text/plain": [
       "3"
      ]
     },
     "execution_count": 11,
     "metadata": {},
     "output_type": "execute_result"
    }
   ],
   "source": [
    "a_cat.age"
   ]
  },
  {
   "cell_type": "code",
   "execution_count": 12,
   "id": "c46474b6",
   "metadata": {},
   "outputs": [
    {
     "data": {
      "text/plain": [
       "'Mr. Fuzzybuttons'"
      ]
     },
     "execution_count": 12,
     "metadata": {},
     "output_type": "execute_result"
    }
   ],
   "source": [
    "a_cat.name"
   ]
  },
  {
   "cell_type": "code",
   "execution_count": 13,
   "id": "25d2a397",
   "metadata": {},
   "outputs": [
    {
     "data": {
      "text/plain": [
       "<__main__.Cat at 0x1aa4381dd10>"
      ]
     },
     "execution_count": 13,
     "metadata": {},
     "output_type": "execute_result"
    }
   ],
   "source": [
    "a_cat.nemesis"
   ]
  },
  {
   "cell_type": "code",
   "execution_count": 14,
   "id": "5e11184a",
   "metadata": {},
   "outputs": [
    {
     "ename": "AttributeError",
     "evalue": "'Cat' object has no attribute 'name'",
     "output_type": "error",
     "traceback": [
      "\u001b[31m---------------------------------------------------------------------------\u001b[39m",
      "\u001b[31mAttributeError\u001b[39m                            Traceback (most recent call last)",
      "\u001b[36mCell\u001b[39m\u001b[36m \u001b[39m\u001b[32mIn[14]\u001b[39m\u001b[32m, line 1\u001b[39m\n\u001b[32m----> \u001b[39m\u001b[32m1\u001b[39m \u001b[43ma_cat\u001b[49m\u001b[43m.\u001b[49m\u001b[43mnemesis\u001b[49m\u001b[43m.\u001b[49m\u001b[43mname\u001b[49m\n",
      "\u001b[31mAttributeError\u001b[39m: 'Cat' object has no attribute 'name'"
     ]
    }
   ],
   "source": [
    "a_cat.nemesis.name"
   ]
  },
  {
   "cell_type": "code",
   "execution_count": 16,
   "id": "9351c410",
   "metadata": {},
   "outputs": [
    {
     "data": {
      "text/plain": [
       "'Mr. Bigglesworth'"
      ]
     },
     "execution_count": 16,
     "metadata": {},
     "output_type": "execute_result"
    }
   ],
   "source": [
    "a_cat.nemesis.name = 'Mr. Bigglesworth'\n",
    "a_cat.nemesis.name"
   ]
  },
  {
   "cell_type": "code",
   "execution_count": null,
   "id": "5d7e7eb7",
   "metadata": {},
   "outputs": [],
   "source": [
    "# 就連這種極簡單的物件也可以儲存多個屬性. 所以你可以使用多個物件來儲存不同的值, 用來取代處列或字典之類的東西\n",
    "# 你聽到的屬性(attribute)通常代表物件屬性. 此外, 還有類別屬性, 你會在p193的 \"類別與物件屬性\" 看到他們的差異"
   ]
  },
  {
   "cell_type": "code",
   "execution_count": null,
   "id": "de293bf0",
   "metadata": {},
   "outputs": [],
   "source": [
    "# 方法- 在類別或物件裡面的函式. 方法看起來很像其他函式. 但是有特殊的用法, 將在p189 的 \"用來儲存屬性property\" 與 p193的方法型態 看到\n",
    "\n",
    "# 初始化- 想要建立其指派物件屬性, 要使用特殊的Python物件初始化方法 __init__\n",
    "\n",
    "class Cat:\n",
    "    def __init__(self):\n",
    "        pass\n",
    "\n",
    "\n",
    "# 類別定義式中, __int__()式特殊的Python方法名稱, 它的功能是在類別定義初始化個別的物件, self引數則代表它引用個別物件本身\n",
    "\n"
   ]
  },
  {
   "cell_type": "code",
   "execution_count": 8,
   "id": "c2ed0421",
   "metadata": {},
   "outputs": [
    {
     "name": "stdout",
     "output_type": "stream",
     "text": [
      "Our latest addition: Grumpy\n"
     ]
    }
   ],
   "source": [
    "# 建立一簡單的物件並指派他一個屬性\n",
    "class Cat():\n",
    "    def __init__(self, name):\n",
    "        self.name = name\n",
    "\n",
    "furball = Cat('Grumpy')\n",
    "\n",
    "#以上程式做了做了這些事-\n",
    "## 查看Cat類別定義\n",
    "## 在記憶體中實例化(建立)一個新物件\n",
    "## 呼叫該物件的 __init__()方法, 將這個新建立的物件傳給self, 將另一個引數'Grumpy' 傳給name\n",
    "## 在物件中儲存name的值\n",
    "## 回傳新物件\n",
    "## 將物件指派給變數furball\n",
    "\n",
    "print('Our latest addition:', furball.name)\n"
   ]
  },
  {
   "cell_type": "code",
   "execution_count": 9,
   "id": "ba58aa2e",
   "metadata": {},
   "outputs": [],
   "source": [
    "# 記得在Cat類別定義式裡面, 可以用self.name 來存取name屬性, 當你建立實際的物件, 並將它指派給一個變數, ex: furball時, 可以用furball.name \n",
    "# 來引用 name 屬性"
   ]
  },
  {
   "cell_type": "code",
   "execution_count": null,
   "id": "009a64f6",
   "metadata": {},
   "outputs": [],
   "source": [
    "# 繼承- 當你試著解決程式問題時, 通常可以發現, 已經既有的類別可以建立滿足需求的物件, 此時可以怎麼做?\n",
    "# 雖然你可以修改就類別, 但修改它會將它複雜化, 甚至破壞原本正常的功能\n",
    "# 也可以寫一個新類別, 剪下舊程式, 貼在新的類別裡面, 並且加入你的新程式, 但這作法代表要維護更多程式碼與原本動作一致的新舊類別之間分歧可能會越來越大\n",
    "# 有一種方式為 使用 \"繼承\"- 用既有類別建立一個新的類別, 但加入一些新東西或修改它. 這是重覆使用程式碼的好方法.\n",
    "# 當你使用繼承時, 新類別可以自動使用舊類別的所有程式碼, 不需要複製任何舊程式"
   ]
  },
  {
   "cell_type": "code",
   "execution_count": null,
   "id": "9974f959",
   "metadata": {},
   "outputs": [],
   "source": [
    "# 從父類別繼承-\n",
    "class Car():\n",
    "    pass"
   ]
  },
  {
   "cell_type": "code",
   "execution_count": 11,
   "id": "933ba644",
   "metadata": {},
   "outputs": [],
   "source": [
    "class Yugo(Car):\n",
    "    pass"
   ]
  },
  {
   "cell_type": "code",
   "execution_count": 15,
   "id": "3228c512",
   "metadata": {},
   "outputs": [
    {
     "data": {
      "text/plain": [
       "True"
      ]
     },
     "execution_count": 15,
     "metadata": {},
     "output_type": "execute_result"
    }
   ],
   "source": [
    "#可以用issubclass()來查看一個類別是否衍生自另一個類別-\n",
    "issubclass(Yugo, Car)"
   ]
  },
  {
   "cell_type": "code",
   "execution_count": 20,
   "id": "a47cdfb3",
   "metadata": {},
   "outputs": [],
   "source": [
    "# 用各類別建立一個物件:\n",
    "give_me_a_car = Car()\n",
    "give_me_a_yugo = Yugo()"
   ]
  },
  {
   "cell_type": "code",
   "execution_count": null,
   "id": "79700cd3",
   "metadata": {},
   "outputs": [],
   "source": [
    "class Car():\n",
    "    def exclaim(self):\n",
    "        print(\"I'm a Car!\")\n",
    "\n",
    "class Yugo(Car):\n",
    "    pass"
   ]
  },
  {
   "cell_type": "code",
   "execution_count": 21,
   "id": "a6455a62",
   "metadata": {},
   "outputs": [],
   "source": [
    "give_me_a_car = Car()\n",
    "give_me_a_yugo = Yugo()"
   ]
  },
  {
   "cell_type": "code",
   "execution_count": 22,
   "id": "438cba1e",
   "metadata": {},
   "outputs": [
    {
     "name": "stdout",
     "output_type": "stream",
     "text": [
      "I'm a Car!\n",
      "I'm a Car!\n"
     ]
    }
   ],
   "source": [
    "give_me_a_car.exclaim()\n",
    "give_me_a_yugo.exclaim()"
   ]
  },
  {
   "cell_type": "code",
   "execution_count": 23,
   "id": "d5b7a753",
   "metadata": {},
   "outputs": [],
   "source": [
    "# 不需要做任何特別事情就可以讓Yugo 從Car 繼承 exclaim()方法, 事實上, Yugo說它是一輛車輛, 這可能會導致身分認同危機"
   ]
  },
  {
   "cell_type": "code",
   "execution_count": 27,
   "id": "45a5132e",
   "metadata": {},
   "outputs": [],
   "source": [
    "# 新類別最初會從它的父類別繼承任何東西, 接下來告訴你如何替換或覆寫父類別方法. Yugo應該要和Car有些地方不一樣, 否則幹嘛定義新類別?\n",
    "\n",
    "class Car():\n",
    "    def exclaim(self):\n",
    "        print(\"I'm a Car!\")\n",
    "    \n",
    "class Yugo(Car):\n",
    "    def exclaim(self):\n",
    "        print(\"I'm a Yugo! Much like a Car, but more Yugo-ish\")"
   ]
  },
  {
   "cell_type": "code",
   "execution_count": 28,
   "id": "4f3cf3b1",
   "metadata": {},
   "outputs": [],
   "source": [
    "# 我們用這些類別來製作兩個物件-\n",
    "give_me_a_car = Car()\n",
    "give_me_a_yugo = Yugo()"
   ]
  },
  {
   "cell_type": "code",
   "execution_count": 29,
   "id": "5076bf8e",
   "metadata": {},
   "outputs": [
    {
     "name": "stdout",
     "output_type": "stream",
     "text": [
      "I'm a Car!\n",
      "I'm a Yugo! Much like a Car, but more Yugo-ish\n"
     ]
    }
   ],
   "source": [
    "# 看他們會說甚麼?\n",
    "give_me_a_car.exclaim()\n",
    "give_me_a_yugo.exclaim()"
   ]
  },
  {
   "cell_type": "code",
   "execution_count": 37,
   "id": "6bc2ae86",
   "metadata": {},
   "outputs": [],
   "source": [
    "# 在這些範例中, 我們覆寫了exclaim()方法, 可以覆寫任何方法, 包含__init__()\n",
    "# 接下來例子要使用Person類別, 來製作代表醫生(MDPerson)與 律師(JDPerson)\n",
    "class Person():\n",
    "    def __init__(self, name):\n",
    "        self.name = name\n",
    "\n",
    "class MDPerson(Person):\n",
    "    def __init__(self,name):\n",
    "        self.name = 'Doctor ' + name\n",
    "\n",
    "class JDPerson(Person):\n",
    "    def __init__(self,name):\n",
    "        self.name = name + ', Esquire'\n",
    "\n"
   ]
  },
  {
   "cell_type": "code",
   "execution_count": 39,
   "id": "44f3fa93",
   "metadata": {},
   "outputs": [],
   "source": [
    "person = Person('Fudd')\n",
    "doctor = MDPerson('Fudd')\n",
    "lawyer = JDPerson('Fudd')"
   ]
  },
  {
   "cell_type": "code",
   "execution_count": 40,
   "id": "a173f051",
   "metadata": {},
   "outputs": [
    {
     "name": "stdout",
     "output_type": "stream",
     "text": [
      "Fudd\n"
     ]
    }
   ],
   "source": [
    "print(person.name)"
   ]
  },
  {
   "cell_type": "code",
   "execution_count": 41,
   "id": "a7de0588",
   "metadata": {},
   "outputs": [
    {
     "name": "stdout",
     "output_type": "stream",
     "text": [
      "Doctor Fudd\n"
     ]
    }
   ],
   "source": [
    "print(doctor.name)"
   ]
  },
  {
   "cell_type": "code",
   "execution_count": 43,
   "id": "0972dfb2",
   "metadata": {},
   "outputs": [
    {
     "name": "stdout",
     "output_type": "stream",
     "text": [
      "Fudd, Esquire\n"
     ]
    }
   ],
   "source": [
    "print(lawyer.name)"
   ]
  },
  {
   "cell_type": "code",
   "execution_count": 44,
   "id": "ef9c3178",
   "metadata": {},
   "outputs": [],
   "source": [
    "#添加方法- 子類別也可以添加父類別沒有的方法, 回到類別Car與Yugo, 接下來只幫Yugo類別定義新方法- need_a_push()\n",
    "class Car():\n",
    "    def exclaim(self):\n",
    "        print(\"I'm a Car!\")\n",
    "\n",
    "class Yugo(Car):\n",
    "    def exclaim(self):\n",
    "        print(\"I'm a Yugo! Much like a Car, but more Yugo-ish.\")\n",
    "    def need_a_push(self):\n",
    "        print(\"A little help here?\")\n",
    " "
   ]
  },
  {
   "cell_type": "code",
   "execution_count": 45,
   "id": "465396c6",
   "metadata": {},
   "outputs": [],
   "source": [
    "# 再製作一個Car與Yugo\n",
    "give_me_a_car = Car()\n",
    "give_me_a_yugo = Yugo()\n"
   ]
  },
  {
   "cell_type": "code",
   "execution_count": 46,
   "id": "d3c45f9f",
   "metadata": {},
   "outputs": [
    {
     "name": "stdout",
     "output_type": "stream",
     "text": [
      "A little help here?\n"
     ]
    }
   ],
   "source": [
    "give_me_a_yugo.need_a_push()"
   ]
  },
  {
   "cell_type": "code",
   "execution_count": 47,
   "id": "50b5388a",
   "metadata": {},
   "outputs": [
    {
     "ename": "AttributeError",
     "evalue": "'Car' object has no attribute 'need_a_push'",
     "output_type": "error",
     "traceback": [
      "\u001b[31m---------------------------------------------------------------------------\u001b[39m",
      "\u001b[31mAttributeError\u001b[39m                            Traceback (most recent call last)",
      "\u001b[36mCell\u001b[39m\u001b[36m \u001b[39m\u001b[32mIn[47]\u001b[39m\u001b[32m, line 1\u001b[39m\n\u001b[32m----> \u001b[39m\u001b[32m1\u001b[39m \u001b[43mgive_me_a_car\u001b[49m\u001b[43m.\u001b[49m\u001b[43mneed_a_push\u001b[49m()\n",
      "\u001b[31mAttributeError\u001b[39m: 'Car' object has no attribute 'need_a_push'"
     ]
    }
   ],
   "source": [
    "give_me_a_car.need_a_push()"
   ]
  },
  {
   "cell_type": "code",
   "execution_count": null,
   "id": "008a854c",
   "metadata": {},
   "outputs": [],
   "source": [
    "#以上, Yugo可以做一些Car無法做到的事情, 凸顯了Yugo的特質"
   ]
  }
 ],
 "metadata": {
  "kernelspec": {
   "display_name": "Python 3",
   "language": "python",
   "name": "python3"
  },
  "language_info": {
   "codemirror_mode": {
    "name": "ipython",
    "version": 3
   },
   "file_extension": ".py",
   "mimetype": "text/x-python",
   "name": "python",
   "nbconvert_exporter": "python",
   "pygments_lexer": "ipython3",
   "version": "3.12.2"
  }
 },
 "nbformat": 4,
 "nbformat_minor": 5
}
