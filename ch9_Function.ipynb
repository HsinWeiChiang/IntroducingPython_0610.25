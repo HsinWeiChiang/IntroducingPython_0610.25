{
 "cells": [
  {
   "cell_type": "code",
   "execution_count": 6,
   "id": "d07d3c66",
   "metadata": {},
   "outputs": [],
   "source": [
    "#############函式\n",
    "#def 定義函式\n",
    "def do_nothing():\n",
    "    pass"
   ]
  },
  {
   "cell_type": "code",
   "execution_count": 8,
   "id": "098bd13a",
   "metadata": {},
   "outputs": [],
   "source": [
    "#用小括弧呼叫函式\n",
    "do_nothing()"
   ]
  },
  {
   "cell_type": "code",
   "execution_count": 12,
   "id": "039a359e",
   "metadata": {},
   "outputs": [
    {
     "name": "stdout",
     "output_type": "stream",
     "text": [
      "quack\n"
     ]
    }
   ],
   "source": [
    "def make_a_sound():\n",
    "    print('quack')\n",
    "\n",
    "make_a_sound()"
   ]
  },
  {
   "cell_type": "code",
   "execution_count": 14,
   "id": "e4f184ce",
   "metadata": {},
   "outputs": [
    {
     "data": {
      "text/plain": [
       "True"
      ]
     },
     "execution_count": 14,
     "metadata": {},
     "output_type": "execute_result"
    }
   ],
   "source": [
    "#沒有參數, 但回傳一個值的函式-\n",
    "def agree():\n",
    "    return True\n",
    "agree()"
   ]
  },
  {
   "cell_type": "code",
   "execution_count": 15,
   "id": "afecdb0d",
   "metadata": {},
   "outputs": [
    {
     "name": "stdout",
     "output_type": "stream",
     "text": [
      "Splendid!\n"
     ]
    }
   ],
   "source": [
    "#可以用if來呼叫這個函式, 並測試他的回傳值-\n",
    "if agree():\n",
    "    print('Splendid!')\n",
    "else:\n",
    "    print('That was unexpected.')\n"
   ]
  },
  {
   "cell_type": "code",
   "execution_count": 19,
   "id": "87f7791e",
   "metadata": {},
   "outputs": [
    {
     "data": {
      "text/plain": [
       "'Wally is Wally'"
      ]
     },
     "execution_count": 19,
     "metadata": {},
     "output_type": "execute_result"
    }
   ],
   "source": [
    "#引數與參數- 接下來要將依些東西放在小括號裡面, 來定義 函式echo(), 讓它有一個稱為 anything的參數, 它使用return 陳述式 來將兩個anything之間加上空格, 一起回傳給呼叫方-\n",
    "def echo(anything):\n",
    "    return anything  + ' is ' + anything\n",
    "\n",
    "echo('Wally')"
   ]
  },
  {
   "cell_type": "code",
   "execution_count": 27,
   "id": "770e036a",
   "metadata": {},
   "outputs": [
    {
     "data": {
      "text/plain": [
       "\"I've never heard of the color blue.\""
      ]
     },
     "execution_count": 27,
     "metadata": {},
     "output_type": "execute_result"
    }
   ],
   "source": [
    "#寫一個接收一個輸入引數, 實際用它來做一些事情的函式- commentary, 並由他來接收一個輸入字串參數, 稱為color\n",
    "def commentary(color):\n",
    "    if color == 'red':\n",
    "        return \"It's a tomato.\"\n",
    "    elif color == 'green':\n",
    "        return \"It's a green pepper.\"\n",
    "    elif color == 'green':\n",
    "        return \"It's a green pepper.\"\n",
    "    else:\n",
    "        return \"I've never heard of the color \" +  color + \".\"\n",
    "commentary('blue')"
   ]
  },
  {
   "cell_type": "code",
   "execution_count": null,
   "id": "b7891cf8",
   "metadata": {},
   "outputs": [],
   "source": [
    "#None是有用的-\n",
    "# None是一種特殊的Python值"
   ]
  },
  {
   "cell_type": "code",
   "execution_count": null,
   "id": "2e3bbee9",
   "metadata": {},
   "outputs": [],
   "source": []
  },
  {
   "cell_type": "code",
   "execution_count": null,
   "id": "9e10dd9a",
   "metadata": {},
   "outputs": [],
   "source": []
  }
 ],
 "metadata": {
  "kernelspec": {
   "display_name": "Python 3",
   "language": "python",
   "name": "python3"
  },
  "language_info": {
   "codemirror_mode": {
    "name": "ipython",
    "version": 3
   },
   "file_extension": ".py",
   "mimetype": "text/x-python",
   "name": "python",
   "nbconvert_exporter": "python",
   "pygments_lexer": "ipython3",
   "version": "3.11.9"
  }
 },
 "nbformat": 4,
 "nbformat_minor": 5
}
