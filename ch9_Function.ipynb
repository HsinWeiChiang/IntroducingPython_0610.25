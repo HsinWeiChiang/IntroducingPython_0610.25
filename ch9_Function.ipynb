{
 "cells": [
  {
   "cell_type": "code",
   "execution_count": 6,
   "id": "d07d3c66",
   "metadata": {},
   "outputs": [],
   "source": [
    "#############函式\n",
    "#def 定義函式\n",
    "def do_nothing():\n",
    "    pass"
   ]
  },
  {
   "cell_type": "code",
   "execution_count": 8,
   "id": "098bd13a",
   "metadata": {},
   "outputs": [],
   "source": [
    "#用小括弧呼叫函式\n",
    "do_nothing()"
   ]
  },
  {
   "cell_type": "code",
   "execution_count": 12,
   "id": "039a359e",
   "metadata": {},
   "outputs": [
    {
     "name": "stdout",
     "output_type": "stream",
     "text": [
      "quack\n"
     ]
    }
   ],
   "source": [
    "def make_a_sound():\n",
    "    print('quack')\n",
    "\n",
    "make_a_sound()"
   ]
  },
  {
   "cell_type": "code",
   "execution_count": 14,
   "id": "e4f184ce",
   "metadata": {},
   "outputs": [
    {
     "data": {
      "text/plain": [
       "True"
      ]
     },
     "execution_count": 14,
     "metadata": {},
     "output_type": "execute_result"
    }
   ],
   "source": [
    "#沒有參數, 但回傳一個值的函式-\n",
    "def agree():\n",
    "    return True\n",
    "agree()"
   ]
  },
  {
   "cell_type": "code",
   "execution_count": 15,
   "id": "afecdb0d",
   "metadata": {},
   "outputs": [
    {
     "name": "stdout",
     "output_type": "stream",
     "text": [
      "Splendid!\n"
     ]
    }
   ],
   "source": [
    "#可以用if來呼叫這個函式, 並測試他的回傳值-\n",
    "if agree():\n",
    "    print('Splendid!')\n",
    "else:\n",
    "    print('That was unexpected.')\n"
   ]
  },
  {
   "cell_type": "code",
   "execution_count": 19,
   "id": "87f7791e",
   "metadata": {},
   "outputs": [
    {
     "data": {
      "text/plain": [
       "'Wally is Wally'"
      ]
     },
     "execution_count": 19,
     "metadata": {},
     "output_type": "execute_result"
    }
   ],
   "source": [
    "#引數與參數- 接下來要將依些東西放在小括號裡面, 來定義 函式echo(), 讓它有一個稱為 anything的參數, 它使用return 陳述式 來將兩個anything之間加上空格, 一起回傳給呼叫方-\n",
    "def echo(anything):\n",
    "    return anything  + ' is ' + anything\n",
    "\n",
    "echo('Wally')"
   ]
  },
  {
   "cell_type": "code",
   "execution_count": 27,
   "id": "770e036a",
   "metadata": {},
   "outputs": [
    {
     "data": {
      "text/plain": [
       "\"I've never heard of the color blue.\""
      ]
     },
     "execution_count": 27,
     "metadata": {},
     "output_type": "execute_result"
    }
   ],
   "source": [
    "#寫一個接收一個輸入引數, 實際用它來做一些事情的函式- commentary, 並由他來接收一個輸入字串參數, 稱為color\n",
    "def commentary(color):\n",
    "    if color == 'red':\n",
    "        return \"It's a tomato.\"\n",
    "    elif color == 'green':\n",
    "        return \"It's a green pepper.\"\n",
    "    elif color == 'green':\n",
    "        return \"It's a green pepper.\"\n",
    "    else:\n",
    "        return \"I've never heard of the color \" +  color + \".\"\n",
    "commentary('blue')"
   ]
  },
  {
   "cell_type": "code",
   "execution_count": 1,
   "id": "b7891cf8",
   "metadata": {},
   "outputs": [
    {
     "name": "stdout",
     "output_type": "stream",
     "text": [
      "It's no thing\n"
     ]
    }
   ],
   "source": [
    "#None是有用的-\n",
    "# None是一種特殊的Python值, 他與布林值False不一樣，雖然他被當成布林值時, 會被視為False-\n",
    "\n",
    "thing = None\n",
    "if thing:\n",
    "    print(\"It's some thing\")\n",
    "else:\n",
    "    print(\"It's no thing\")    "
   ]
  },
  {
   "cell_type": "code",
   "execution_count": 2,
   "id": "2e3bbee9",
   "metadata": {},
   "outputs": [
    {
     "name": "stdout",
     "output_type": "stream",
     "text": [
      "It's nothing\n"
     ]
    }
   ],
   "source": [
    "#可以用Python的is運算子 來區分 None 與 布林值 False:\n",
    "thing = None\n",
    "if thing is None:\n",
    "    print(\"It's nothing\")\n",
    "else:\n",
    "    print(\"It's something\")"
   ]
  },
  {
   "cell_type": "code",
   "execution_count": null,
   "id": "9e10dd9a",
   "metadata": {},
   "outputs": [],
   "source": [
    "#這個差異看起來微不足道, 但在Python非常重要, 可以用 None來區分- 缺漏值(missing value)與 空值(empty value). \n",
    "# 零值的整數/浮點數/空字串''/串列[]/tuple(,)/字典{}/集合set()都是False\n",
    "# 但他們都不等於None"
   ]
  },
  {
   "cell_type": "code",
   "execution_count": 10,
   "id": "f3f47c3e",
   "metadata": {},
   "outputs": [],
   "source": [
    "#寫一簡單函式, 印出引數是None, True, False:\n",
    "def whatis(thing):\n",
    "    if thing is None:    \n",
    "        print(thing, \"is None\")\n",
    "    elif thing:\n",
    "        print(thing, \"is True\")\n",
    "    else:\n",
    "        print(thing, \"is False\")\n"
   ]
  },
  {
   "cell_type": "code",
   "execution_count": 11,
   "id": "69d40148",
   "metadata": {},
   "outputs": [
    {
     "name": "stdout",
     "output_type": "stream",
     "text": [
      "None is None\n"
     ]
    }
   ],
   "source": [
    "whatis(None)"
   ]
  },
  {
   "cell_type": "code",
   "execution_count": 12,
   "id": "aff56955",
   "metadata": {},
   "outputs": [
    {
     "name": "stdout",
     "output_type": "stream",
     "text": [
      "True is True\n"
     ]
    }
   ],
   "source": [
    "whatis(True)"
   ]
  },
  {
   "cell_type": "code",
   "execution_count": 13,
   "id": "6fac7d8e",
   "metadata": {},
   "outputs": [
    {
     "name": "stdout",
     "output_type": "stream",
     "text": [
      "False is False\n"
     ]
    }
   ],
   "source": [
    "whatis(False)"
   ]
  },
  {
   "cell_type": "code",
   "execution_count": 14,
   "id": "3cc95072",
   "metadata": {},
   "outputs": [
    {
     "name": "stdout",
     "output_type": "stream",
     "text": [
      "0 is False\n"
     ]
    }
   ],
   "source": [
    "whatis(0)"
   ]
  },
  {
   "cell_type": "code",
   "execution_count": 15,
   "id": "cdf0f2b3",
   "metadata": {},
   "outputs": [],
   "source": [
    "#位置性引數- 函式引數最常見的是 位置引數(positional argument), 它們的值會被依序複製到對應的參數.\n",
    "#這個函式使用他的位置引數建立一個字典, 並回傳它\n",
    "def menu(wine, entree, dessert):\n",
    "    return {'wine': wine, 'entree': entree, 'dessert': dessert}"
   ]
  },
  {
   "cell_type": "code",
   "execution_count": 16,
   "id": "dd5e0ff1",
   "metadata": {},
   "outputs": [
    {
     "data": {
      "text/plain": [
       "{'wine': 'chardonnay', 'entree': 'chicken', 'dessert': 'cake'}"
      ]
     },
     "execution_count": 16,
     "metadata": {},
     "output_type": "execute_result"
    }
   ],
   "source": [
    "menu ('chardonnay', 'chicken', 'cake')"
   ]
  },
  {
   "cell_type": "code",
   "execution_count": 17,
   "id": "366baf9e",
   "metadata": {},
   "outputs": [
    {
     "data": {
      "text/plain": [
       "{'wine': 'beef', 'entree': 'bagel', 'dessert': 'bordeaux'}"
      ]
     },
     "execution_count": 17,
     "metadata": {},
     "output_type": "execute_result"
    }
   ],
   "source": [
    "#雖然位置函數很常見, 但它的缺點為 必須記得每個位置的意思, 如果忘記, 呼叫menu()時, 將wine放在最後一個引數傳入,而不是第一個 會得到意外的一餐-\n",
    "menu('beef','bagel','bordeaux')"
   ]
  },
  {
   "cell_type": "code",
   "execution_count": null,
   "id": "53d71538",
   "metadata": {},
   "outputs": [
    {
     "data": {
      "text/plain": [
       "{'wine': 'boardeaux', 'entree': 'beef', 'dessert': 'bagel'}"
      ]
     },
     "execution_count": 19,
     "metadata": {},
     "output_type": "execute_result"
    }
   ],
   "source": [
    "#關鍵引數- 為了避免位置引數造成混亂, 可以用 引數對應的參數名稱來指定引數, 即使指定引W數與函式定義式不同也沒問題:\n",
    "menu(entree= 'beef', dessert = 'bagel', wine = 'boardeaux')\n",
    "\n"
   ]
  },
  {
   "cell_type": "code",
   "execution_count": 24,
   "id": "1b8a30a4",
   "metadata": {},
   "outputs": [
    {
     "data": {
      "text/plain": [
       "{'wine': 'frontenac', 'entree': 'fish', 'dessert': 'flan'}"
      ]
     },
     "execution_count": 24,
     "metadata": {},
     "output_type": "execute_result"
    }
   ],
   "source": [
    "#可以混合使用位置與關鍵字引數, 先指定wine, 但關鍵字引數來指定entree與dessert:\n",
    "menu('frontenac', dessert= 'flan', entree = 'fish')"
   ]
  },
  {
   "cell_type": "code",
   "execution_count": 25,
   "id": "1312fdc1",
   "metadata": {},
   "outputs": [],
   "source": [
    "#同時使用 位置與關鍵字引數來呼叫函式, 必須將位置引數放在前面-"
   ]
  },
  {
   "cell_type": "code",
   "execution_count": null,
   "id": "57ed4a6d",
   "metadata": {},
   "outputs": [],
   "source": [
    "#指定預設參數值-"
   ]
  }
 ],
 "metadata": {
  "kernelspec": {
   "display_name": "Python 3",
   "language": "python",
   "name": "python3"
  },
  "language_info": {
   "codemirror_mode": {
    "name": "ipython",
    "version": 3
   },
   "file_extension": ".py",
   "mimetype": "text/x-python",
   "name": "python",
   "nbconvert_exporter": "python",
   "pygments_lexer": "ipython3",
   "version": "3.11.9"
  }
 },
 "nbformat": 4,
 "nbformat_minor": 5
}
