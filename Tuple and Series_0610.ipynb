{
 "cells": [
  {
   "cell_type": "code",
   "execution_count": 27,
   "metadata": {},
   "outputs": [
    {
     "data": {
      "text/plain": [
       "['Groucho', 'Chico', 'Harpo']"
      ]
     },
     "execution_count": 27,
     "metadata": {},
     "output_type": "execute_result"
    }
   ],
   "source": [
    "# 用append()將項目加到尾端\n",
    "marxes = ['Groucho','Chico','Harpo']\n",
    "# marxes.append('Zeppo')\n",
    "marxes"
   ]
  },
  {
   "cell_type": "code",
   "execution_count": 28,
   "metadata": {},
   "outputs": [
    {
     "data": {
      "text/plain": [
       "['Groucho', 'Chico', 'Gummo', 'Harpo', 'Zeppo']"
      ]
     },
     "execution_count": 28,
     "metadata": {},
     "output_type": "execute_result"
    }
   ],
   "source": [
    "# 用insert() 和 offset 加入項目\n",
    "marxes.insert(2,'Gummo')\n",
    "\n",
    "marxes.insert(10,'Zeppo')\n",
    "marxes\n"
   ]
  },
  {
   "cell_type": "code",
   "execution_count": 30,
   "metadata": {},
   "outputs": [
    {
     "data": {
      "text/plain": [
       "['blah', 'blah', 'blah']"
      ]
     },
     "execution_count": 30,
     "metadata": {},
     "output_type": "execute_result"
    }
   ],
   "source": [
    "# 用*來重複項目\n",
    "['blah']*3"
   ]
  },
  {
   "cell_type": "code",
   "execution_count": 33,
   "metadata": {},
   "outputs": [
    {
     "data": {
      "text/plain": [
       "['Groucho', 'Chico', 'Gummo', 'Harpo', 'Zeppo', 'Gummo', 'Karl']"
      ]
     },
     "execution_count": 33,
     "metadata": {},
     "output_type": "execute_result"
    }
   ],
   "source": [
    "# 用extend() 或 + 來結合串列\n",
    "marxes = ['Groucho', 'Chico', 'Gummo', 'Harpo', 'Zeppo']\n",
    "others = ['Gummo','Karl']\n",
    "marxes.extend(others)\n",
    "marxes\n"
   ]
  },
  {
   "cell_type": "code",
   "execution_count": 35,
   "metadata": {},
   "outputs": [
    {
     "data": {
      "text/plain": [
       "['Groucho', 'Chico', 'Gummo', 'Harpo', 'Zeppo', 'Gummo', 'Karl']"
      ]
     },
     "execution_count": 35,
     "metadata": {},
     "output_type": "execute_result"
    }
   ],
   "source": [
    "# 使用+ or +=\n",
    "marxes = ['Groucho', 'Chico', 'Gummo', 'Harpo', 'Zeppo']\n",
    "others = ['Gummo','Karl']\n",
    "marxes +=others\n",
    "marxes"
   ]
  },
  {
   "cell_type": "code",
   "execution_count": 36,
   "metadata": {},
   "outputs": [
    {
     "data": {
      "text/plain": [
       "['Groucho', 'Chico', 'Gummo', 'Harpo', 'Zeppo', ['Gummo', 'Karl']]"
      ]
     },
     "execution_count": 36,
     "metadata": {},
     "output_type": "execute_result"
    }
   ],
   "source": [
    "# 使用append(), 但就會將others 當作是串列項目加入,而不是併入它的項目\n",
    "marxes = ['Groucho', 'Chico', 'Gummo', 'Harpo', 'Zeppo']\n",
    "others = ['Gummo','Karl']\n",
    "marxes.append(others)\n",
    "marxes"
   ]
  },
  {
   "cell_type": "code",
   "execution_count": 37,
   "metadata": {},
   "outputs": [
    {
     "data": {
      "text/plain": [
       "['Groucho', 'Chico', 'Wanda']"
      ]
     },
     "execution_count": 37,
     "metadata": {},
     "output_type": "execute_result"
    }
   ],
   "source": [
    "# 用 [Offset] 來更改一個項目\n",
    "marxes = ['Groucho','Chico','Harpo']\n",
    "marxes[2] = 'Wanda'\n",
    "marxes"
   ]
  },
  {
   "cell_type": "code",
   "execution_count": null,
   "metadata": {},
   "outputs": [],
   "source": [
    "#0610- Python Excise by myself"
   ]
  },
  {
   "cell_type": "code",
   "execution_count": null,
   "metadata": {},
   "outputs": [],
   "source": []
  }
 ],
 "metadata": {
  "kernelspec": {
   "display_name": "Python 3 (ipykernel)",
   "language": "python",
   "name": "python3"
  },
  "language_info": {
   "codemirror_mode": {
    "name": "ipython",
    "version": 3
   },
   "file_extension": ".py",
   "mimetype": "text/x-python",
   "name": "python",
   "nbconvert_exporter": "python",
   "pygments_lexer": "ipython3",
   "version": "3.11.5"
  }
 },
 "nbformat": 4,
 "nbformat_minor": 4
}
