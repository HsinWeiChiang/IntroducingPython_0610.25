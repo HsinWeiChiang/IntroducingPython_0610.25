{
 "cells": [
  {
   "cell_type": "code",
   "execution_count": 6,
   "id": "d07d3c66",
   "metadata": {},
   "outputs": [],
   "source": [
    "#############函式\n",
    "#def 定義函式\n",
    "def do_nothing():\n",
    "    pass"
   ]
  },
  {
   "cell_type": "code",
   "execution_count": 8,
   "id": "098bd13a",
   "metadata": {},
   "outputs": [],
   "source": [
    "#用小括弧呼叫函式\n",
    "do_nothing()"
   ]
  },
  {
   "cell_type": "code",
   "execution_count": 12,
   "id": "039a359e",
   "metadata": {},
   "outputs": [
    {
     "name": "stdout",
     "output_type": "stream",
     "text": [
      "quack\n"
     ]
    }
   ],
   "source": [
    "def make_a_sound():\n",
    "    print('quack')\n",
    "\n",
    "make_a_sound()"
   ]
  },
  {
   "cell_type": "code",
   "execution_count": 14,
   "id": "e4f184ce",
   "metadata": {},
   "outputs": [
    {
     "data": {
      "text/plain": [
       "True"
      ]
     },
     "execution_count": 14,
     "metadata": {},
     "output_type": "execute_result"
    }
   ],
   "source": [
    "#沒有參數, 但回傳一個值的函式-\n",
    "def agree():\n",
    "    return True\n",
    "agree()"
   ]
  },
  {
   "cell_type": "code",
   "execution_count": 15,
   "id": "afecdb0d",
   "metadata": {},
   "outputs": [
    {
     "name": "stdout",
     "output_type": "stream",
     "text": [
      "Splendid!\n"
     ]
    }
   ],
   "source": [
    "#可以用if來呼叫這個函式, 並測試他的回傳值-\n",
    "if agree():\n",
    "    print('Splendid!')\n",
    "else:\n",
    "    print('That was unexpected.')\n"
   ]
  },
  {
   "cell_type": "code",
   "execution_count": 19,
   "id": "87f7791e",
   "metadata": {},
   "outputs": [
    {
     "data": {
      "text/plain": [
       "'Wally is Wally'"
      ]
     },
     "execution_count": 19,
     "metadata": {},
     "output_type": "execute_result"
    }
   ],
   "source": [
    "#引數與參數- 接下來要將依些東西放在小括號裡面, 來定義 函式echo(), 讓它有一個稱為 anything的參數, 它使用return 陳述式 來將兩個anything之間加上空格, 一起回傳給呼叫方-\n",
    "def echo(anything):\n",
    "    return anything  + ' is ' + anything\n",
    "\n",
    "echo('Wally')"
   ]
  },
  {
   "cell_type": "code",
   "execution_count": 27,
   "id": "770e036a",
   "metadata": {},
   "outputs": [
    {
     "data": {
      "text/plain": [
       "\"I've never heard of the color blue.\""
      ]
     },
     "execution_count": 27,
     "metadata": {},
     "output_type": "execute_result"
    }
   ],
   "source": [
    "#寫一個接收一個輸入引數, 實際用它來做一些事情的函式- commentary, 並由他來接收一個輸入字串參數, 稱為color\n",
    "def commentary(color):\n",
    "    if color == 'red':\n",
    "        return \"It's a tomato.\"\n",
    "    elif color == 'green':\n",
    "        return \"It's a green pepper.\"\n",
    "    elif color == 'green':\n",
    "        return \"It's a green pepper.\"\n",
    "    else:\n",
    "        return \"I've never heard of the color \" +  color + \".\"\n",
    "commentary('blue')"
   ]
  },
  {
   "cell_type": "code",
   "execution_count": 1,
   "id": "b7891cf8",
   "metadata": {},
   "outputs": [
    {
     "name": "stdout",
     "output_type": "stream",
     "text": [
      "It's no thing\n"
     ]
    }
   ],
   "source": [
    "#None是有用的-\n",
    "# None是一種特殊的Python值, 他與布林值False不一樣，雖然他被當成布林值時, 會被視為False-\n",
    "\n",
    "thing = None\n",
    "if thing:\n",
    "    print(\"It's some thing\")\n",
    "else:\n",
    "    print(\"It's no thing\")    "
   ]
  },
  {
   "cell_type": "code",
   "execution_count": 2,
   "id": "2e3bbee9",
   "metadata": {},
   "outputs": [
    {
     "name": "stdout",
     "output_type": "stream",
     "text": [
      "It's nothing\n"
     ]
    }
   ],
   "source": [
    "#可以用Python的is運算子 來區分 None 與 布林值 False:\n",
    "thing = None\n",
    "if thing is None:\n",
    "    print(\"It's nothing\")\n",
    "else:\n",
    "    print(\"It's something\")"
   ]
  },
  {
   "cell_type": "code",
   "execution_count": null,
   "id": "9e10dd9a",
   "metadata": {},
   "outputs": [],
   "source": [
    "#這個差異看起來微不足道, 但在Python非常重要, 可以用 None來區分- 缺漏值(missing value)與 空值(empty value). \n",
    "# 零值的整數/浮點數/空字串''/串列[]/tuple(,)/字典{}/集合set()都是False\n",
    "# 但他們都不等於None"
   ]
  },
  {
   "cell_type": "code",
   "execution_count": 10,
   "id": "f3f47c3e",
   "metadata": {},
   "outputs": [],
   "source": [
    "#寫一簡單函式, 印出引數是None, True, False:\n",
    "def whatis(thing):\n",
    "    if thing is None:    \n",
    "        print(thing, \"is None\")\n",
    "    elif thing:\n",
    "        print(thing, \"is True\")\n",
    "    else:\n",
    "        print(thing, \"is False\")\n"
   ]
  },
  {
   "cell_type": "code",
   "execution_count": 11,
   "id": "69d40148",
   "metadata": {},
   "outputs": [
    {
     "name": "stdout",
     "output_type": "stream",
     "text": [
      "None is None\n"
     ]
    }
   ],
   "source": [
    "whatis(None)"
   ]
  },
  {
   "cell_type": "code",
   "execution_count": 12,
   "id": "aff56955",
   "metadata": {},
   "outputs": [
    {
     "name": "stdout",
     "output_type": "stream",
     "text": [
      "True is True\n"
     ]
    }
   ],
   "source": [
    "whatis(True)"
   ]
  },
  {
   "cell_type": "code",
   "execution_count": 13,
   "id": "6fac7d8e",
   "metadata": {},
   "outputs": [
    {
     "name": "stdout",
     "output_type": "stream",
     "text": [
      "False is False\n"
     ]
    }
   ],
   "source": [
    "whatis(False)"
   ]
  },
  {
   "cell_type": "code",
   "execution_count": 14,
   "id": "3cc95072",
   "metadata": {},
   "outputs": [
    {
     "name": "stdout",
     "output_type": "stream",
     "text": [
      "0 is False\n"
     ]
    }
   ],
   "source": [
    "whatis(0)"
   ]
  },
  {
   "cell_type": "code",
   "execution_count": 15,
   "id": "cdf0f2b3",
   "metadata": {},
   "outputs": [],
   "source": [
    "#位置性引數- 函式引數最常見的是 位置引數(positional argument), 它們的值會被依序複製到對應的參數.\n",
    "#這個函式使用他的位置引數建立一個字典, 並回傳它\n",
    "def menu(wine, entree, dessert):\n",
    "    return {'wine': wine, 'entree': entree, 'dessert': dessert}"
   ]
  },
  {
   "cell_type": "code",
   "execution_count": 16,
   "id": "dd5e0ff1",
   "metadata": {},
   "outputs": [
    {
     "data": {
      "text/plain": [
       "{'wine': 'chardonnay', 'entree': 'chicken', 'dessert': 'cake'}"
      ]
     },
     "execution_count": 16,
     "metadata": {},
     "output_type": "execute_result"
    }
   ],
   "source": [
    "menu ('chardonnay', 'chicken', 'cake')"
   ]
  },
  {
   "cell_type": "code",
   "execution_count": 17,
   "id": "366baf9e",
   "metadata": {},
   "outputs": [
    {
     "data": {
      "text/plain": [
       "{'wine': 'beef', 'entree': 'bagel', 'dessert': 'bordeaux'}"
      ]
     },
     "execution_count": 17,
     "metadata": {},
     "output_type": "execute_result"
    }
   ],
   "source": [
    "#雖然位置函數很常見, 但它的缺點為 必須記得每個位置的意思, 如果忘記, 呼叫menu()時, 將wine放在最後一個引數傳入,而不是第一個 會得到意外的一餐-\n",
    "menu('beef','bagel','bordeaux')"
   ]
  },
  {
   "cell_type": "code",
   "execution_count": null,
   "id": "53d71538",
   "metadata": {},
   "outputs": [
    {
     "data": {
      "text/plain": [
       "{'wine': 'boardeaux', 'entree': 'beef', 'dessert': 'bagel'}"
      ]
     },
     "execution_count": 19,
     "metadata": {},
     "output_type": "execute_result"
    }
   ],
   "source": [
    "#關鍵引數- 為了避免位置引數造成混亂, 可以用 引數對應的參數名稱來指定引數, 即使指定引W數與函式定義式不同也沒問題:\n",
    "menu(entree= 'beef', dessert = 'bagel', wine = 'boardeaux')\n",
    "\n"
   ]
  },
  {
   "cell_type": "code",
   "execution_count": 24,
   "id": "1b8a30a4",
   "metadata": {},
   "outputs": [
    {
     "data": {
      "text/plain": [
       "{'wine': 'frontenac', 'entree': 'fish', 'dessert': 'flan'}"
      ]
     },
     "execution_count": 24,
     "metadata": {},
     "output_type": "execute_result"
    }
   ],
   "source": [
    "#可以混合使用位置與關鍵字引數, 先指定wine, 但關鍵字引數來指定entree與dessert:\n",
    "menu('frontenac', dessert= 'flan', entree = 'fish')"
   ]
  },
  {
   "cell_type": "code",
   "execution_count": 25,
   "id": "1312fdc1",
   "metadata": {},
   "outputs": [],
   "source": [
    "#同時使用 位置與關鍵字引數來呼叫函式, 必須將位置引數放在前面-"
   ]
  },
  {
   "cell_type": "code",
   "execution_count": 3,
   "id": "57ed4a6d",
   "metadata": {},
   "outputs": [],
   "source": [
    "#指定預設參數值- 可以為參數指定預設值,這些預設值會在呼叫方沒有提供相應的引述時使用, 這種平淡無奇的功能有時會立下大功-\n",
    "def menu(wine, entree, dessert= 'pudding'):\n",
    "    return {'wine': wine, 'entree': entree, 'dessert': dessert}\n",
    "\n"
   ]
  },
  {
   "cell_type": "code",
   "execution_count": 4,
   "id": "3b349bbd",
   "metadata": {},
   "outputs": [
    {
     "data": {
      "text/plain": [
       "{'wine': 'chardonnay', 'entree': 'chicken', 'dessert': 'pudding'}"
      ]
     },
     "execution_count": 4,
     "metadata": {},
     "output_type": "execute_result"
    }
   ],
   "source": [
    "#試著呼叫menu()時,不使用dessert引數:\n",
    "menu('chardonnay', 'chicken')"
   ]
  },
  {
   "cell_type": "code",
   "execution_count": 6,
   "id": "99156969",
   "metadata": {},
   "outputs": [
    {
     "data": {
      "text/plain": [
       "{'wine': 'dunkelfelder', 'entree': 'duck', 'dessert': 'doughnut'}"
      ]
     },
     "execution_count": 6,
     "metadata": {},
     "output_type": "execute_result"
    }
   ],
   "source": [
    "#當提供引數時, 函式就會使用他, 而不是預設值-\n",
    "menu('dunkelfelder','duck', 'doughnut')"
   ]
  },
  {
   "cell_type": "code",
   "execution_count": 7,
   "id": "a5a28914",
   "metadata": {},
   "outputs": [],
   "source": [
    "#預設的參數值是在函式被定義的時候計算的, 並非在執行的時候.\n",
    "#Python新手 經常做錯一件事(稍具經驗的人有時也會)- 將可辨的資料型態(ex: 串列或字典)當成預設參數來使用"
   ]
  },
  {
   "cell_type": "code",
   "execution_count": 12,
   "id": "406cb7ad",
   "metadata": {},
   "outputs": [
    {
     "name": "stdout",
     "output_type": "stream",
     "text": [
      "['a']\n"
     ]
    }
   ],
   "source": [
    "def buggy(arg, result=[]):\n",
    "    result.append(arg)\n",
    "    print(result)\n",
    "buggy('a')\n",
    "    \n",
    "    "
   ]
  },
  {
   "cell_type": "code",
   "execution_count": 9,
   "id": "a231cfd7",
   "metadata": {},
   "outputs": [
    {
     "name": "stdout",
     "output_type": "stream",
     "text": [
      "['a', 'b']\n"
     ]
    }
   ],
   "source": [
    "buggy('b')"
   ]
  },
  {
   "cell_type": "code",
   "execution_count": 16,
   "id": "f6a027ba",
   "metadata": {},
   "outputs": [],
   "source": [
    "#這樣寫可以正常運作\n",
    "def works(arg):\n",
    "    result= []\n",
    "    result.append(arg)\n",
    "    return result"
   ]
  },
  {
   "cell_type": "code",
   "execution_count": 17,
   "id": "f5397bd7",
   "metadata": {},
   "outputs": [
    {
     "data": {
      "text/plain": [
       "['a']"
      ]
     },
     "execution_count": 17,
     "metadata": {},
     "output_type": "execute_result"
    }
   ],
   "source": [
    "works('a')"
   ]
  },
  {
   "cell_type": "code",
   "execution_count": 18,
   "id": "bbb59475",
   "metadata": {},
   "outputs": [
    {
     "data": {
      "text/plain": [
       "['b']"
      ]
     },
     "execution_count": 18,
     "metadata": {},
     "output_type": "execute_result"
    }
   ],
   "source": [
    "works('b')"
   ]
  },
  {
   "cell_type": "code",
   "execution_count": 20,
   "id": "f7af625c",
   "metadata": {},
   "outputs": [],
   "source": [
    "#修正的做法事傳入別的東西來代表第一次呼叫:\n",
    "def nonbuggy(arg, result = None):\n",
    "    if result is None:\n",
    "        result = []\n",
    "        result.append(arg)\n",
    "        print(result)\n",
    "    "
   ]
  },
  {
   "cell_type": "code",
   "execution_count": null,
   "id": "9ed19d36",
   "metadata": {},
   "outputs": [
    {
     "name": "stdout",
     "output_type": "stream",
     "text": [
      "['a']\n"
     ]
    }
   ],
   "source": [
    "nonbuggy('a')"
   ]
  },
  {
   "cell_type": "code",
   "execution_count": 22,
   "id": "a10ac626",
   "metadata": {},
   "outputs": [
    {
     "name": "stdout",
     "output_type": "stream",
     "text": [
      "['b']\n"
     ]
    }
   ],
   "source": [
    "nonbuggy('b')"
   ]
  },
  {
   "cell_type": "code",
   "execution_count": 24,
   "id": "a7abb281",
   "metadata": {},
   "outputs": [],
   "source": [
    "# 用*來炸開/收集 位置引數-\n",
    "# 在函式參數裡面的星號可以將數量不一定的位置引數組成一個參數值tuple, 在下列的例子中,args是個參數tuple, 他是以傳給print_args()函式的零個以上引數產生\n",
    "def print_args(*args):\n",
    "    print('Postional tuple:', args)\n"
   ]
  },
  {
   "cell_type": "code",
   "execution_count": 25,
   "id": "0c40c7b3",
   "metadata": {},
   "outputs": [
    {
     "name": "stdout",
     "output_type": "stream",
     "text": [
      "Postional tuple: ()\n"
     ]
    }
   ],
   "source": [
    "print_args()"
   ]
  },
  {
   "cell_type": "code",
   "execution_count": 26,
   "id": "7f102482",
   "metadata": {},
   "outputs": [
    {
     "name": "stdout",
     "output_type": "stream",
     "text": [
      "Postional tuple: (3, 2, 1, 'wait!', 'uh.....')\n"
     ]
    }
   ],
   "source": [
    "#傳給它的任何東西都會以args tuple印出:\n",
    "print_args(3,2,1, 'wait!','uh.....')"
   ]
  },
  {
   "cell_type": "code",
   "execution_count": 28,
   "id": "93c050fd",
   "metadata": {},
   "outputs": [],
   "source": [
    "#如果函式也需要位置引數，要把它在前面, 將*args放在最前面,讓他可以抓取所有其餘的引數:\n",
    "def print_more(required1, required2, *args):\n",
    "    print('Need this one:', required1)\n",
    "    print('Need this one too:', required2)\n",
    "    print('All the rest:', args)\n"
   ]
  },
  {
   "cell_type": "code",
   "execution_count": 29,
   "id": "5fde4ca8",
   "metadata": {},
   "outputs": [
    {
     "name": "stdout",
     "output_type": "stream",
     "text": [
      "Need this one: cap\n",
      "Need this one too: gloves\n",
      "All the rest: ('scarf', 'monocle', 'mustache wax')\n"
     ]
    }
   ],
   "source": [
    "print_more('cap','gloves','scarf','monocle','mustache wax')"
   ]
  },
  {
   "cell_type": "code",
   "execution_count": 2,
   "id": "68a4a77d",
   "metadata": {},
   "outputs": [],
   "source": [
    "# 用**來炸開/收集關鍵字引數-- 可以使用** 來將關鍵字引數組成字典, 其中引數名稱事鍵(key), 他們的值相應的是相應的字典值,\n",
    "# 下面範例定義了 print_kwargs()函式\n",
    "def print_kwargs(**args):\n",
    "    print('Keyword arguments:', args)"
   ]
  },
  {
   "cell_type": "code",
   "execution_count": 20,
   "id": "e4aa1dfa",
   "metadata": {},
   "outputs": [
    {
     "name": "stdout",
     "output_type": "stream",
     "text": [
      "Keyword arguments: {}\n"
     ]
    }
   ],
   "source": [
    "print_kwargs()"
   ]
  },
  {
   "cell_type": "code",
   "execution_count": 21,
   "id": "860330e8",
   "metadata": {},
   "outputs": [
    {
     "name": "stdout",
     "output_type": "stream",
     "text": [
      "Keyword arguments: {'Wine': 'merlot', 'entree': 'mutton', 'dessert': 'macaroon'}\n"
     ]
    }
   ],
   "source": [
    "print_kwargs(Wine= 'merlot', entree= 'mutton', dessert = 'macaroon')"
   ]
  },
  {
   "cell_type": "code",
   "execution_count": null,
   "id": "d53d917e",
   "metadata": {},
   "outputs": [],
   "source": [
    "## 在函式裡, args是個字典的參數-\n",
    "## 引數的順序是- 1. 必需的位置引數 2. 選用的位置引數(*args) 3. 選用的關鍵字引數(**args)\n",
    "## 語法是在函式呼叫式或定義式裡面有效"
   ]
  },
  {
   "cell_type": "code",
   "execution_count": null,
   "id": "5baf1fd2",
   "metadata": {},
   "outputs": [],
   "source": [
    "##總結:\n",
    "## 可以傳遞字引數傳給函式, 他會在內部將它配對成關鍵字參數\n",
    "## 可以傳遞字典引數給函式, 在內部它式字典參數\n",
    "## 可以將一或多個關鍵字引數(name =value)傳入函式 並在裡面並在裡面用 **args 收集他們, \n",
    "#### 它們會被解析成字典參數args 炸成name = value引數"
   ]
  },
  {
   "cell_type": "code",
   "execution_count": 25,
   "id": "63026e5e",
   "metadata": {},
   "outputs": [],
   "source": [
    "# 純關鍵字引數- 可以傳入 名稱與位置參數 一樣的關鍵字引數, 只是結果可能不是你要的Python3 讓你指定 純關鍵字引數\n",
    "# 顧名思義, 必須用 name = value來提供它們 不是位置性的值. 在函式定義式裡面的 單* 代表接下來的start與end 必須用具名引數來提供\n",
    "def print_data(data, *, start=0, end=100):\n",
    "    for value in (data[start:end]):\n",
    "        print(value)\n"
   ]
  },
  {
   "cell_type": "code",
   "execution_count": 26,
   "id": "3086eec6",
   "metadata": {},
   "outputs": [
    {
     "name": "stdout",
     "output_type": "stream",
     "text": [
      "a\n",
      "b\n",
      "c\n",
      "d\n",
      "e\n",
      "f\n"
     ]
    }
   ],
   "source": [
    "data = ['a','b','c','d','e','f']\n",
    "print_data(data)"
   ]
  },
  {
   "cell_type": "code",
   "execution_count": 27,
   "id": "c5ded82a",
   "metadata": {},
   "outputs": [
    {
     "name": "stdout",
     "output_type": "stream",
     "text": [
      "e\n",
      "f\n"
     ]
    }
   ],
   "source": [
    "print_data(data, start=4)"
   ]
  },
  {
   "cell_type": "code",
   "execution_count": 28,
   "id": "73bb6f11",
   "metadata": {},
   "outputs": [
    {
     "name": "stdout",
     "output_type": "stream",
     "text": [
      "a\n",
      "b\n"
     ]
    }
   ],
   "source": [
    "print_data(data, end=2)"
   ]
  },
  {
   "cell_type": "code",
   "execution_count": null,
   "id": "eb1fcc98",
   "metadata": {},
   "outputs": [],
   "source": [
    "# 可變與不可變引數-  將同一個字串指派給兩個變數之後, 可以用任何一個變數來改變它\n",
    "# 兩個變數都引用整數或字串, 就無法\n",
    "# 原因是因為 串列(series)- 可變, 整數(int)與字串(string)- 不可變"
   ]
  },
  {
   "cell_type": "code",
   "execution_count": 29,
   "id": "44d2d3da",
   "metadata": {},
   "outputs": [],
   "source": [
    "#將引數傳給函式時, 必須注意這樣的行為, 如果引數可變, 它的值可以利用相應的參數在函式內改變-\n",
    "outside = ['one','fine','day']\n",
    "def mangle(arg):\n",
    "    arg[1] = 'terrible'"
   ]
  },
  {
   "cell_type": "code",
   "execution_count": 30,
   "id": "ebc57a23",
   "metadata": {},
   "outputs": [
    {
     "data": {
      "text/plain": [
       "['one', 'fine', 'day']"
      ]
     },
     "execution_count": 30,
     "metadata": {},
     "output_type": "execute_result"
    }
   ],
   "source": [
    "outside"
   ]
  },
  {
   "cell_type": "code",
   "execution_count": 32,
   "id": "3251de91",
   "metadata": {},
   "outputs": [
    {
     "data": {
      "text/plain": [
       "['one', 'terrible', 'day']"
      ]
     },
     "execution_count": 32,
     "metadata": {},
     "output_type": "execute_result"
    }
   ],
   "source": [
    "mangle(outside)\n",
    "outside"
   ]
  },
  {
   "cell_type": "code",
   "execution_count": null,
   "id": "cae0bb47",
   "metadata": {},
   "outputs": [],
   "source": [
    "## 這是不好的做法, 要說明引數可能會被更改, 不然就是要return 新值"
   ]
  },
  {
   "cell_type": "code",
   "execution_count": 43,
   "id": "09d25d1d",
   "metadata": {},
   "outputs": [
    {
     "name": "stdout",
     "output_type": "stream",
     "text": [
      "echo returns its argument\n"
     ]
    }
   ],
   "source": [
    "# Docstrings- Zen of Python 說 可讀性很重要 (Raddability counts). 可以在函式內文開頭加入字串來為函式定義加上說明\n",
    "# 這就是函式的 docstring\n",
    "def echo(anything):\n",
    "    'echo returns its argument'\n",
    "    return anything \n",
    "    \n",
    "echo('Wally!')\n",
    "\n",
    "#help(echo)\n",
    "print(echo.__doc__)"
   ]
  },
  {
   "cell_type": "code",
   "execution_count": null,
   "id": "8dd56690",
   "metadata": {},
   "outputs": [],
   "source": [
    "## 長得很奇怪的__doc__ 是docstring的內部名稱, 它是函式內的變數, 許多地方都使用雙底線(也就是在Python領域中, 所謂的dunder)\n",
    "## 用來命名Python的內部變數, 因為程式員不太可能在他們自己的變數名稱裡面使用它"
   ]
  },
  {
   "cell_type": "code",
   "execution_count": null,
   "id": "f3cd65bb",
   "metadata": {},
   "outputs": [],
   "source": [
    "# 函式是一級公民- Python 一切都是 物件, 包含數字, 字串, tuple, 串列, 字典, 函數"
   ]
  },
  {
   "cell_type": "code",
   "execution_count": 64,
   "id": "57bf0e80",
   "metadata": {},
   "outputs": [
    {
     "name": "stdout",
     "output_type": "stream",
     "text": [
      "42\n"
     ]
    }
   ],
   "source": [
    "# 定義一簡單的函式, 稱為answer(), 它沒有任何引數, 只會印出42\n",
    "def answer():\n",
    "    print(42)\n",
    "\n",
    "answer()"
   ]
  },
  {
   "cell_type": "code",
   "execution_count": 63,
   "id": "93b0f6c4",
   "metadata": {},
   "outputs": [
    {
     "name": "stdout",
     "output_type": "stream",
     "text": [
      "42\n"
     ]
    }
   ],
   "source": [
    "# 接著來定義另一個函式, 稱為run_soemthing. 它有一個稱為func的引數, 是一個要執行的函式. 它會在裡面直接呼叫函式:\n",
    "def run_something(func):\n",
    "    func()\n",
    "\n",
    "#如果我們將answer 傳入 run_answer(), 代表我們把函式當作資料來使用, 如同使用任何其他東西一般\n",
    "\n",
    "run_something(answer)"
   ]
  },
  {
   "cell_type": "code",
   "execution_count": null,
   "id": "1883e6af",
   "metadata": {
    "vscode": {
     "languageId": "ini"
    }
   },
   "outputs": [],
   "source": [
    "# 注意, 傳入answer不是answer(), 在Python中, 這些小括號代表呼叫該函式\n",
    "# Python 會將沒有括號的函式當作任何其他物件一樣看待, 原因式 Python的任何其他東西, 它都是個物件"
   ]
  },
  {
   "cell_type": "code",
   "execution_count": 65,
   "id": "c3cf6e4f",
   "metadata": {},
   "outputs": [
    {
     "data": {
      "text/plain": [
       "function"
      ]
     },
     "execution_count": 65,
     "metadata": {},
     "output_type": "execute_result"
    }
   ],
   "source": [
    "type(run_something)"
   ]
  },
  {
   "cell_type": "code",
   "execution_count": 68,
   "id": "e6998b43",
   "metadata": {},
   "outputs": [
    {
     "data": {
      "text/plain": [
       "function"
      ]
     },
     "execution_count": 68,
     "metadata": {},
     "output_type": "execute_result"
    }
   ],
   "source": [
    "#執行函式時傳入引數, 我們定義一個函式add_args(), 讓它印出兩個數字引數(arg1與arg2)的總和:\n",
    "def add_args(arg1, arg2):\n",
    "    print(arg1+arg2)\n",
    "\n",
    "type(add_args)"
   ]
  },
  {
   "cell_type": "code",
   "execution_count": 70,
   "id": "77165784",
   "metadata": {},
   "outputs": [
    {
     "name": "stdout",
     "output_type": "stream",
     "text": [
      "14\n"
     ]
    }
   ],
   "source": [
    "## 我們要定義一個稱為 run_something_with_args()的函式, 它接受三個引數:\n",
    "## func- 要執行的函數\n",
    "## arg1- 傳給func的一個函數\n",
    "## arg2- 傳給func的第二個函數\n",
    "\n",
    "def run_something_with_args(func, arg1, arg2):\n",
    "    func(arg1, arg2)\n",
    "\n",
    "# 當你呼叫 run_something_with_args()時, 呼叫方傳入的函式會被指派給func參數, 而arg1與arg2 會得到引數列中其餘的值\n",
    "# 接下來, 執行func(arg1,arg2)會用那些引數來執行那些函式.\n",
    "\n",
    "run_something_with_args(add_args, 5, 9)\n"
   ]
  },
  {
   "cell_type": "code",
   "execution_count": 73,
   "id": "6b4d53d7",
   "metadata": {},
   "outputs": [
    {
     "data": {
      "text/plain": [
       "10"
      ]
     },
     "execution_count": 73,
     "metadata": {},
     "output_type": "execute_result"
    }
   ],
   "source": [
    "# 我們來定義一個測試函式, 讓它接收任意數量的位置引數, 並使用sum()函式來計算它們的總和並回傳:\n",
    "def sum_args(*args):\n",
    "    return sum(args)\n",
    "\n",
    "def run_with_positional_args(func, *args):\n",
    "    return func(*args)\n",
    "\n",
    "run_with_positional_args(sum_args, 1,2,3,4)"
   ]
  },
  {
   "cell_type": "code",
   "execution_count": null,
   "id": "6104bccb",
   "metadata": {},
   "outputs": [
    {
     "data": {
      "text/plain": [
       "10"
      ]
     },
     "execution_count": 76,
     "metadata": {},
     "output_type": "execute_result"
    }
   ],
   "source": [
    "# 內部函式- 可以在一個函式裡定義另外一個函式-\n",
    "def outer(a,b):\n",
    "    def inner(c,d):\n",
    "        return c + d\n",
    "    return inner(a,b)\n",
    "\n",
    "outer(3,7)\n"
   ]
  },
  {
   "cell_type": "code",
   "execution_count": 77,
   "id": "2ab850e4",
   "metadata": {},
   "outputs": [
    {
     "data": {
      "text/plain": [
       "\"We are the knights who say: 'Ni!'\""
      ]
     },
     "execution_count": 77,
     "metadata": {},
     "output_type": "execute_result"
    }
   ],
   "source": [
    "# 如果要在一個函式裡面多次執行複雜的的動作, 可以使用內部函式來避免編寫重覆的迴圈或程式碼. 舉個字串範例\n",
    "# 這個內部的函式可以幫它的引數加上一些文字:\n",
    "\n",
    "def knights(saying):\n",
    "    def inner(quote):\n",
    "        return \"We are the knights who say: '%s'\" % quote\n",
    "    return inner(saying)\n",
    "\n",
    "knights('Ni!')\n"
   ]
  },
  {
   "cell_type": "code",
   "execution_count": 79,
   "id": "b16a4730",
   "metadata": {},
   "outputs": [],
   "source": [
    "# closure- 內部函式可以當成closure來使用, 它是其他的函式動態產生的函式, 可以變更和記得在函是外面建立的變數值\n",
    "def knights2(saying):\n",
    "    def inner2():\n",
    "        return \"We are the knights who say: '%s'\" % saying\n",
    "    return inner2"
   ]
  },
  {
   "cell_type": "code",
   "execution_count": null,
   "id": "79d260ee",
   "metadata": {},
   "outputs": [
    {
     "data": {
      "text/plain": [
       "\"We are the knights who say: 'Duck'\""
      ]
     },
     "execution_count": 83,
     "metadata": {},
     "output_type": "execute_result"
    }
   ],
   "source": [
    "# 呼叫knights2()兩次, 使用不同引數:\n",
    "a = knights2('Duck')\n",
    "b = knights2('Hasenpfeffer')"
   ]
  },
  {
   "cell_type": "code",
   "execution_count": null,
   "id": "7bbc406b",
   "metadata": {},
   "outputs": [
    {
     "data": {
      "text/plain": [
       "function"
      ]
     },
     "execution_count": 87,
     "metadata": {},
     "output_type": "execute_result"
    }
   ],
   "source": [
    "#確認a,b型態\n",
    "type(a)\n",
    "type(b)"
   ]
  },
  {
   "cell_type": "code",
   "execution_count": 90,
   "id": "64f8722b",
   "metadata": {},
   "outputs": [
    {
     "data": {
      "text/plain": [
       "\"We are the knights who say: 'Hasenpfeffer'\""
      ]
     },
     "execution_count": 90,
     "metadata": {},
     "output_type": "execute_result"
    }
   ],
   "source": [
    "# 他們是函式, 但也是closure:\n",
    "b()"
   ]
  },
  {
   "cell_type": "code",
   "execution_count": 94,
   "id": "164ec47a",
   "metadata": {},
   "outputs": [
    {
     "name": "stdout",
     "output_type": "stream",
     "text": [
      "Thud!\n",
      "Meow!\n",
      "Thud!\n",
      "Hiss!\n"
     ]
    }
   ],
   "source": [
    "# 匿名函式: lambda- 是一種一行陳述式 來表示匿名函式. 你可以用它來取代一般的小函式.\n",
    "# 為了說明, 我們先製作一個使用一般函式的範例. 先定義函式edit_story(). 它的引數是:\n",
    "# word- 一單字串列\n",
    "# func- 處理words裡面個個單字的函式\n",
    "\n",
    "def edit_story(words, func):\n",
    "    for word in words:\n",
    "        print(func(word))\n",
    "\n",
    "stairs = ['thud', 'meow', 'thud', 'hiss']\n",
    "\n",
    "def enliven(word):\n",
    "    return word.capitalize() + '!'\n",
    "\n",
    "edit_story(stairs, enliven)\n",
    "\n",
    "\n"
   ]
  },
  {
   "cell_type": "code",
   "execution_count": 106,
   "id": "cce2ad6b",
   "metadata": {},
   "outputs": [
    {
     "name": "stdout",
     "output_type": "stream",
     "text": [
      "Thud!\n",
      "Meow!\n",
      "Thud!\n",
      "Hiss!\n"
     ]
    }
   ],
   "source": [
    "# 改用lambda. 因為enliven()函式很短, 所以可將它 換成lambda:\n",
    "stairs = ['thud', 'meow', 'thud', 'hiss']\n",
    "\n",
    "edit_story(stairs, lambda word: word.capitalize() + '!')"
   ]
  },
  {
   "cell_type": "code",
   "execution_count": 95,
   "id": "0e2da718",
   "metadata": {},
   "outputs": [],
   "source": [
    "# 產生器"
   ]
  },
  {
   "cell_type": "code",
   "execution_count": 96,
   "id": "4392e26f",
   "metadata": {},
   "outputs": [],
   "source": [
    "# 產生器函式"
   ]
  },
  {
   "cell_type": "code",
   "execution_count": 97,
   "id": "ed0f2584",
   "metadata": {},
   "outputs": [],
   "source": [
    "#產生器生成式"
   ]
  },
  {
   "cell_type": "code",
   "execution_count": 98,
   "id": "24e395eb",
   "metadata": {},
   "outputs": [],
   "source": [
    "# 裝飾器"
   ]
  },
  {
   "cell_type": "code",
   "execution_count": 99,
   "id": "512b0d20",
   "metadata": {},
   "outputs": [],
   "source": [
    "# 名稱空間與作用域"
   ]
  },
  {
   "cell_type": "code",
   "execution_count": 100,
   "id": "c9012ad2",
   "metadata": {},
   "outputs": [],
   "source": [
    "# 在名稱內使用_與_"
   ]
  },
  {
   "cell_type": "code",
   "execution_count": 101,
   "id": "f20ff641",
   "metadata": {},
   "outputs": [],
   "source": [
    "# 遞迴"
   ]
  },
  {
   "cell_type": "code",
   "execution_count": 102,
   "id": "f6af469c",
   "metadata": {},
   "outputs": [],
   "source": [
    "# 非同步函式"
   ]
  },
  {
   "cell_type": "code",
   "execution_count": 103,
   "id": "420b654f",
   "metadata": {},
   "outputs": [],
   "source": [
    "# 例外"
   ]
  },
  {
   "cell_type": "code",
   "execution_count": 104,
   "id": "273404c7",
   "metadata": {},
   "outputs": [],
   "source": [
    "# 用try 和 except 來處理錯誤"
   ]
  },
  {
   "cell_type": "code",
   "execution_count": 105,
   "id": "96cbc9db",
   "metadata": {},
   "outputs": [],
   "source": [
    "# 製作自己的例外"
   ]
  }
 ],
 "metadata": {
  "kernelspec": {
   "display_name": "base",
   "language": "python",
   "name": "python3"
  },
  "language_info": {
   "codemirror_mode": {
    "name": "ipython",
    "version": 3
   },
   "file_extension": ".py",
   "mimetype": "text/x-python",
   "name": "python",
   "nbconvert_exporter": "python",
   "pygments_lexer": "ipython3",
   "version": "3.12.7"
  }
 },
 "nbformat": 4,
 "nbformat_minor": 5
}
