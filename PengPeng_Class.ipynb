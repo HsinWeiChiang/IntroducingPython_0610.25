{
 "cells": [
  {
   "cell_type": "code",
   "execution_count": null,
   "id": "4b32cc74",
   "metadata": {},
   "outputs": [],
   "source": [
    "#PengPeng- https://www.youtube.com/watch?v=Lr5N2r1rmtM&list=PL-g0fdC5RMboYEyt6QS2iLb_1m7QcgfHk&index=17\n",
    "\n",
    "# Python程式設計入門- 實體物件的建立與使用- 上篇\n",
    "\n",
    "# 類別的兩種用法- 1. 類別與類別屬性 2. 類別與實體物件, 實體屬性\n",
    "# 實體物件- 透過類別建立, 先定義類別, 再透過類別建立實體物件\n",
    "\n",
    "# 建立 -> 使用 (先建立實體物件, 才能使用實體屬性)\n",
    "\n",
    "# 基本語法-\n",
    "class 類別名稱:\n",
    "    # 定義初始化函式\n",
    "    def __init__(self):\n",
    "        透過操作self 來定義實體屬性\n",
    "        \n",
    "    #建立實體物件, 放入變數obj中\n",
    "    obj = 類別名稱() #呼叫初始化函式\n"
   ]
  },
  {
   "cell_type": "code",
   "execution_count": null,
   "id": "880958e6",
   "metadata": {},
   "outputs": [
    {
     "name": "stdout",
     "output_type": "stream",
     "text": [
      "<__main__.Point object at 0x0000025C8805C990>\n"
     ]
    }
   ],
   "source": [
    "# 程式範例\n",
    "class Point:\n",
    "    def __init__(self):\n",
    "        self.x =3\n",
    "        self.y =4\n",
    "#建立實體物件\n",
    "#此實體物件包含x和y 兩個實體屬性\n",
    "p = Point()"
   ]
  },
  {
   "cell_type": "code",
   "execution_count": null,
   "id": "2c0db47a",
   "metadata": {},
   "outputs": [],
   "source": [
    "# 程式範例\n",
    "class Point:\n",
    "    def __init__(self,x,y):\n",
    "        self.x =x\n",
    "        self.y =y\n",
    "#建立實體物件\n",
    "#此實體物件包含x和y 兩個實體屬性\n",
    "p = Point(1,5)\n",
    "\n",
    "\n",
    "\n"
   ]
  },
  {
   "cell_type": "code",
   "execution_count": null,
   "id": "2f0275d7",
   "metadata": {},
   "outputs": [],
   "source": [
    "# 基本語法- 實體物件.實體屬性名稱\n",
    "\n",
    "class Point:\n",
    "    def __init__(self,x,y):\n",
    "        self.x =x\n",
    "        self.y =y\n",
    "        \n",
    "p= Point(1,5)\n",
    "print(p.x+ p.y)\n"
   ]
  },
  {
   "cell_type": "code",
   "execution_count": null,
   "id": "93f7b28f",
   "metadata": {},
   "outputs": [
    {
     "name": "stdout",
     "output_type": "stream",
     "text": [
      "3 4\n",
      "3 4\n"
     ]
    }
   ],
   "source": [
    "# 練習-\n",
    "class Point:\n",
    "    def __init__(self):\n",
    "        self.x =3\n",
    "        self.y =4\n",
    " #建立第一個實體物件\n",
    "p1 = Point()\n",
    "print(p1.x, p1.y)   \n",
    " \n",
    " #建立第二個實體物件\n",
    "p2 = Point()\n",
    "print(p2.x, p2.y)  \n"
   ]
  },
  {
   "cell_type": "code",
   "execution_count": 27,
   "id": "1a6e4a07",
   "metadata": {},
   "outputs": [
    {
     "name": "stdout",
     "output_type": "stream",
     "text": [
      "H.W. Chiang\n",
      "Jay Chou\n"
     ]
    }
   ],
   "source": [
    " #FullName 實體物件的設計, 分開紀錄姓, 名 資料全名\n",
    " \n",
    "class FullName:\n",
    "    def __init__(self, first, last):\n",
    "        self.first= first\n",
    "        self.last= last\n",
    "name1 = FullName('H.W.', 'Chiang')\n",
    "print(name1.first, name1.last)\n",
    "\n",
    "name2 = FullName('Jay', 'Chou')\n",
    "print(name2.first, name2.last)"
   ]
  },
  {
   "cell_type": "code",
   "execution_count": null,
   "id": "ac65e9ed",
   "metadata": {},
   "outputs": [],
   "source": [
    "# PengPeng- https://www.youtube.com/watch?v=Lr5N2r1rmtM&list=PL-g0fdC5RMboYEyt6QS2iLb_1m7QcgfHk&index=17\n",
    "# Python程式設計入門- 實體物件的建立與使用- 下篇\n",
    "\n",
    "# 類別兩種用法- 1. 類別與類別屬性 2. 類別與實體物件, 實體屬性, 實體方法\n",
    "\n"
   ]
  },
  {
   "cell_type": "code",
   "execution_count": 29,
   "id": "c53569f1",
   "metadata": {},
   "outputs": [],
   "source": [
    "# 實體屬性- 封裝在實體物件的變數\n",
    "\n",
    "#程式範例-\n",
    "\n",
    "class Point:\n",
    "    def __init__(self,x,y):\n",
    "        self.x=x\n",
    "        self.y=y\n",
    "#建立實體物件, 並取得實體屬性資料\n",
    "\n"
   ]
  },
  {
   "cell_type": "code",
   "execution_count": null,
   "id": "103ec1c1",
   "metadata": {},
   "outputs": [],
   "source": [
    "# 實體方法- 在實體物件中. 建立實體方法\n",
    "# 封裝在實體物件中的函式\n",
    "\n",
    "# 基本語法-\n",
    "\n",
    "class 類別名稱:\n",
    "    #定義初始化函式\n",
    "    def __init__(self):\n",
    "        定義實體屬性\n",
    "    定義實體方法/ 函式\n",
    "    def 方法名稱(self, 更多自訂參數):\n",
    "        方法主體, 透過self 操作實體物件\n",
    "        \n",
    " #建立實體物件, 放入變數obj中\n",
    " obj = 類別名稱()"
   ]
  },
  {
   "cell_type": "code",
   "execution_count": null,
   "id": "79b3190a",
   "metadata": {},
   "outputs": [],
   "source": [
    "# 使用方法-\n",
    "# 基本語法- 實體物件.實體方法名稱(參數資料)\n",
    "\n",
    "#程式範例-\n",
    "class Point:\n",
    "    def__init_(self,x,y):\n",
    "        self.x=x\n",
    "        self.y=y \n",
    "    def show(self):\n",
    "        print(self.x, self.y)\n",
    "        \n",
    "p = Point(1,5) # 建立實體物件\n",
    "p.show() #呼叫實體方法"
   ]
  },
  {
   "cell_type": "code",
   "execution_count": 43,
   "id": "72c4f124",
   "metadata": {},
   "outputs": [
    {
     "name": "stdout",
     "output_type": "stream",
     "text": [
      "3 4\n",
      "5.0\n"
     ]
    }
   ],
   "source": [
    "# Point 實體物件的設計: 平面座標的點\n",
    "\n",
    "class Point:\n",
    "    def __init__(self,x,y):\n",
    "        self.x =x\n",
    "        self.y =y\n",
    "    #定義實體方法\n",
    "    \n",
    "    def show(self):\n",
    "        print(self.x, self.y)\n",
    "    def distance(self, targetX, targetY):\n",
    "        return( ((self.x-targetX))**2 + ((self.y-targetY)**2) )**0.5    \n",
    "p = Point(3,4)\n",
    "p.show()   \n",
    "result = p.distance(0,0) # 計算座標 3,4 與 座標0,0 之間的距離\n",
    "print(result)"
   ]
  },
  {
   "cell_type": "code",
   "execution_count": null,
   "id": "98c20c5c",
   "metadata": {},
   "outputs": [
    {
     "name": "stdout",
     "output_type": "stream",
     "text": [
      "哈哈哈哈\n",
      "測試測試測試\n"
     ]
    }
   ],
   "source": [
    "# File 實體物件的設計: 包裝檔案讀取的程式-\n",
    "\n",
    "class File:\n",
    "    # 初始化函式\n",
    "    def __init__(self,name):\n",
    "        self.name = name\n",
    "        self.file= None #尚未開啟檔案: 初期是None\n",
    "    # 實體方法\n",
    "    def open(self):\n",
    "        self.file = open(self.name, mode = 'r', encoding = 'utf-8') #Python內建的開啟檔案格式\n",
    "    \n",
    "    def read(self):\n",
    "        return self.file.read()\n",
    "\n",
    "#讀取第一個檔案\n",
    "f1 = File('data1.txt')\n",
    "f1.open()\n",
    "data1 = f1.read()\n",
    "print(data1)\n",
    "\n",
    "#讀取第二個檔案\n",
    "f2 = File('data2.txt')\n",
    "f2.open()\n",
    "data2 = f2.read()\n",
    "print(data2)\n"
   ]
  },
  {
   "cell_type": "code",
   "execution_count": null,
   "id": "7fbf5999",
   "metadata": {},
   "outputs": [],
   "source": []
  }
 ],
 "metadata": {
  "kernelspec": {
   "display_name": "Python 3",
   "language": "python",
   "name": "python3"
  },
  "language_info": {
   "codemirror_mode": {
    "name": "ipython",
    "version": 3
   },
   "file_extension": ".py",
   "mimetype": "text/x-python",
   "name": "python",
   "nbconvert_exporter": "python",
   "pygments_lexer": "ipython3",
   "version": "3.11.9"
  }
 },
 "nbformat": 4,
 "nbformat_minor": 5
}
